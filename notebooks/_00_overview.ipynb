{
 "cells": [
  {
   "cell_type": "markdown",
   "metadata": {},
   "source": [
    "**Together AI with pinecone RAG**\n",
    "https://docs.together.ai/docs/integrations\n",
    "\n",
    "\n",
    "**Response format example**\n",
    "https://docs.together.ai/docs/json-mode\n",
    "\n"
   ]
  }
 ],
 "metadata": {
  "language_info": {
   "name": "python"
  }
 },
 "nbformat": 4,
 "nbformat_minor": 2
}
