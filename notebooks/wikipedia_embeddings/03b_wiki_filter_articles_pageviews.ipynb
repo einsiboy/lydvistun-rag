{
 "cells": [
  {
   "cell_type": "code",
   "execution_count": 10,
   "metadata": {},
   "outputs": [
    {
     "name": "stdout",
     "output_type": "stream",
     "text": [
      "aa.wikibooks Category:Noindexed_pages null mobile-web 1 L1\n",
      "aa.wikibooks File:An_analysis_of_the_potential_for_enhanced_oil_recovery_in_the_Shannon_formation_at_Naval_Petroleum_Reserve_No.3._(IA_analysisofpotent00chap).pdf null mobile-web 1 C1\n",
      "aa.wikibooks File:Federal_Register_1940-04-09-_Vol_5_Iss_69_(IA_sim_federal-register-find_1940-04-09_5_69).pdf null mobile-web 1 C1\n",
      "aa.wikibooks File:Georg_August_Wallins_reseanteckningar_från_Orienten_åren_1843-1849_(IA_b29352654_0002).pdf null mobile-web 1 R1\n",
      "aa.wikibooks File:Standard_atlas_of_Mason_County,_Michigan_-_including_a_plat_book_of_the_villages,_cities_and_townships_of_the_county...patrons_directory,_reference_business_directory..._(IA_3927862.0001.001.umich.edu).pdf null mobile-web 1 W1\n"
     ]
    }
   ],
   "source": [
    "datafile = \"/Users/einar/git/hafsteinn/together_rag/data/wikipedia/pageviews-20240921-user\"\n",
    "!head -n 5 {datafile}"
   ]
  },
  {
   "cell_type": "markdown",
   "metadata": {},
   "source": [
    "### Pageviews dump file:\n",
    "\n",
    "**Data format:**\n",
    "````\n",
    "wiki code (subproject.project)\n",
    "article title\n",
    "page id\n",
    "daily total\n",
    "hourly counts\n",
    "```\n",
    "\n",
    "KNOWN ISSUE: rows without Page IDs have only 5 columns, while rows with Page IDs have 6. We are applying a fix which will take some time.\n"
   ]
  },
  {
   "cell_type": "code",
   "execution_count": 15,
   "metadata": {},
   "outputs": [
    {
     "data": {
      "text/plain": [
       "284334"
      ]
     },
     "execution_count": 15,
     "metadata": {},
     "output_type": "execute_result"
    }
   ],
   "source": [
    "import pandas as pd\n",
    "\n",
    "# basically if the line only has 5 columns, we skip it. \n",
    "# also we are only interested in no wiki in this test, \n",
    "# the start of all lines is e.g. aa.wikibooks \n",
    "\n",
    "keep_subprojects = [\"no\"]\n",
    "\n",
    "keep_lines = []\n",
    "with open(datafile, \"r\") as f:\n",
    "    for line in f:\n",
    "        if not line.startswith(\"no\"):\n",
    "            continue\n",
    "        \n",
    "        l = line.strip().split()\n",
    "\n",
    "        if len(l) == 5:\n",
    "            continue\n",
    "        elif len(l) == 6:\n",
    "            keep_lines.append(line)\n",
    "        else:\n",
    "            raise ValueError(f\"Line has {len(l)} columns: {l}\")\n",
    "\n",
    "len(keep_lines)"
   ]
  },
  {
   "cell_type": "markdown",
   "metadata": {},
   "source": [
    "# qrank?\n",
    "\n",
    "28.691.760"
   ]
  },
  {
   "cell_type": "code",
   "execution_count": null,
   "metadata": {},
   "outputs": [],
   "source": []
  },
  {
   "cell_type": "code",
   "execution_count": 5,
   "metadata": {},
   "outputs": [
    {
     "name": "stdout",
     "output_type": "stream",
     "text": [
      "/Users/einar/git/hafsteinn/together_rag/notebooks\n"
     ]
    }
   ],
   "source": [
    "!pwd"
   ]
  }
 ],
 "metadata": {
  "kernelspec": {
   "display_name": "venv",
   "language": "python",
   "name": "python3"
  },
  "language_info": {
   "codemirror_mode": {
    "name": "ipython",
    "version": 3
   },
   "file_extension": ".py",
   "mimetype": "text/x-python",
   "name": "python",
   "nbconvert_exporter": "python",
   "pygments_lexer": "ipython3",
   "version": "3.10.14"
  }
 },
 "nbformat": 4,
 "nbformat_minor": 2
}
