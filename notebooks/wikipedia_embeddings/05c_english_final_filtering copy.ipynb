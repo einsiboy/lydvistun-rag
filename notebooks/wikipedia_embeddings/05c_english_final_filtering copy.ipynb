{
 "cells": [
  {
   "cell_type": "markdown",
   "metadata": {},
   "source": [
    "# English final filtering of articles to embed\n",
    "\n",
    "Note that this will be done using pageviews as a proxy for quality articles. \n",
    "\n",
    "The english wikipedia does have a list of **good articles** that we may want to consider keeping in addition to the pageviews proxy, though hopefully the pageviews proxy will contain most of the good articles. \n",
    "\n"
   ]
  },
  {
   "cell_type": "code",
   "execution_count": 1,
   "metadata": {},
   "outputs": [
    {
     "data": {
      "text/html": [
       "<div>\n",
       "<style scoped>\n",
       "    .dataframe tbody tr th:only-of-type {\n",
       "        vertical-align: middle;\n",
       "    }\n",
       "\n",
       "    .dataframe tbody tr th {\n",
       "        vertical-align: top;\n",
       "    }\n",
       "\n",
       "    .dataframe thead th {\n",
       "        text-align: right;\n",
       "    }\n",
       "</style>\n",
       "<table border=\"1\" class=\"dataframe\">\n",
       "  <thead>\n",
       "    <tr style=\"text-align: right;\">\n",
       "      <th></th>\n",
       "      <th>name</th>\n",
       "    </tr>\n",
       "  </thead>\n",
       "  <tbody>\n",
       "    <tr>\n",
       "      <th>0</th>\n",
       "      <td>articles</td>\n",
       "    </tr>\n",
       "    <tr>\n",
       "      <th>1</th>\n",
       "      <td>pageviews</td>\n",
       "    </tr>\n",
       "    <tr>\n",
       "      <th>2</th>\n",
       "      <td>pageviews_aggregated</td>\n",
       "    </tr>\n",
       "    <tr>\n",
       "      <th>3</th>\n",
       "      <td>pageviews_aggregated_top_articles</td>\n",
       "    </tr>\n",
       "    <tr>\n",
       "      <th>4</th>\n",
       "      <td>pageviews_top500k</td>\n",
       "    </tr>\n",
       "  </tbody>\n",
       "</table>\n",
       "</div>"
      ],
      "text/plain": [
       "                                name\n",
       "0                           articles\n",
       "1                          pageviews\n",
       "2               pageviews_aggregated\n",
       "3  pageviews_aggregated_top_articles\n",
       "4                  pageviews_top500k"
      ]
     },
     "metadata": {},
     "output_type": "display_data"
    }
   ],
   "source": [
    "import os\n",
    "import duckdb\n",
    "from IPython.display import display\n",
    "\n",
    "\n",
    "base_datadir = \"../../data/\"\n",
    "duckdb_file = base_datadir + \"db_files/wikipedia_articles_en.duckdb\"\n",
    "pageviews_file = base_datadir + \"wikipedia_meta/aggregated/en.wikipedia_monthly_views.parquet\"\n",
    "\n",
    "\n",
    "os.path.exists(duckdb_file)\n",
    "\n",
    "con = duckdb.connect(duckdb_file)\n",
    "\n",
    "df_tables = con.sql(\"SHOW TABLES\").df()\n",
    "display(df_tables)\n"
   ]
  },
  {
   "cell_type": "code",
   "execution_count": 2,
   "metadata": {},
   "outputs": [
    {
     "data": {
      "text/html": [
       "<div>\n",
       "<style scoped>\n",
       "    .dataframe tbody tr th:only-of-type {\n",
       "        vertical-align: middle;\n",
       "    }\n",
       "\n",
       "    .dataframe tbody tr th {\n",
       "        vertical-align: top;\n",
       "    }\n",
       "\n",
       "    .dataframe thead th {\n",
       "        text-align: right;\n",
       "    }\n",
       "</style>\n",
       "<table border=\"1\" class=\"dataframe\">\n",
       "  <thead>\n",
       "    <tr style=\"text-align: right;\">\n",
       "      <th></th>\n",
       "      <th>page_id</th>\n",
       "      <th>title</th>\n",
       "      <th>url</th>\n",
       "      <th>word_count</th>\n",
       "      <th>outlink_count</th>\n",
       "      <th>category_count</th>\n",
       "      <th>categories</th>\n",
       "      <th>template_count</th>\n",
       "      <th>external_link_count</th>\n",
       "      <th>last_modified</th>\n",
       "      <th>processed_text</th>\n",
       "      <th>title_match</th>\n",
       "    </tr>\n",
       "  </thead>\n",
       "  <tbody>\n",
       "    <tr>\n",
       "      <th>0</th>\n",
       "      <td>28438779</td>\n",
       "      <td>Alfonso III of Aragon</td>\n",
       "      <td>https://en.wikipedia.org/wiki/Alfonso_III_of_A...</td>\n",
       "      <td>432</td>\n",
       "      <td>58</td>\n",
       "      <td>11</td>\n",
       "      <td>Category:1265 births|Category:1291 deaths|Cate...</td>\n",
       "      <td>25</td>\n",
       "      <td>1</td>\n",
       "      <td>2024-05-02 13:02:49</td>\n",
       "      <td>\\n\\n\\n\\nAlfonso III (4 November 1265 – 18 June...</td>\n",
       "      <td>alfonso iii of aragon</td>\n",
       "    </tr>\n",
       "    <tr>\n",
       "      <th>1</th>\n",
       "      <td>42806011</td>\n",
       "      <td>Alfonso IV of Aragon</td>\n",
       "      <td>https://en.wikipedia.org/wiki/Alfonso_IV_of_Ar...</td>\n",
       "      <td>860</td>\n",
       "      <td>99</td>\n",
       "      <td>8</td>\n",
       "      <td>Category:1299 births|Category:1336 deaths|Cate...</td>\n",
       "      <td>36</td>\n",
       "      <td>1</td>\n",
       "      <td>2024-08-15 18:29:11</td>\n",
       "      <td>\\n\\n\\nAlfonso IV, called the Kind (also the Ge...</td>\n",
       "      <td>alfonso iv of aragon</td>\n",
       "    </tr>\n",
       "    <tr>\n",
       "      <th>2</th>\n",
       "      <td>43147063</td>\n",
       "      <td>Amasis II</td>\n",
       "      <td>https://en.wikipedia.org/wiki/Amasis_II</td>\n",
       "      <td>1805</td>\n",
       "      <td>95</td>\n",
       "      <td>6</td>\n",
       "      <td>Category:6th-century BC pharaohs|Category:Phar...</td>\n",
       "      <td>40</td>\n",
       "      <td>18</td>\n",
       "      <td>2024-09-18 06:14:34</td>\n",
       "      <td>\\n\\nAmasis II ( ;  ḤMS)Schmitz, Philip C.. \"Ch...</td>\n",
       "      <td>amasis ii</td>\n",
       "    </tr>\n",
       "  </tbody>\n",
       "</table>\n",
       "</div>"
      ],
      "text/plain": [
       "    page_id                  title  \\\n",
       "0  28438779  Alfonso III of Aragon   \n",
       "1  42806011   Alfonso IV of Aragon   \n",
       "2  43147063              Amasis II   \n",
       "\n",
       "                                                 url  word_count  \\\n",
       "0  https://en.wikipedia.org/wiki/Alfonso_III_of_A...         432   \n",
       "1  https://en.wikipedia.org/wiki/Alfonso_IV_of_Ar...         860   \n",
       "2            https://en.wikipedia.org/wiki/Amasis_II        1805   \n",
       "\n",
       "   outlink_count  category_count  \\\n",
       "0             58              11   \n",
       "1             99               8   \n",
       "2             95               6   \n",
       "\n",
       "                                          categories  template_count  \\\n",
       "0  Category:1265 births|Category:1291 deaths|Cate...              25   \n",
       "1  Category:1299 births|Category:1336 deaths|Cate...              36   \n",
       "2  Category:6th-century BC pharaohs|Category:Phar...              40   \n",
       "\n",
       "   external_link_count       last_modified  \\\n",
       "0                    1 2024-05-02 13:02:49   \n",
       "1                    1 2024-08-15 18:29:11   \n",
       "2                   18 2024-09-18 06:14:34   \n",
       "\n",
       "                                      processed_text            title_match  \n",
       "0  \\n\\n\\n\\nAlfonso III (4 November 1265 – 18 June...  alfonso iii of aragon  \n",
       "1  \\n\\n\\nAlfonso IV, called the Kind (also the Ge...   alfonso iv of aragon  \n",
       "2  \\n\\nAmasis II ( ;  ḤMS)Schmitz, Philip C.. \"Ch...              amasis ii  "
      ]
     },
     "execution_count": 2,
     "metadata": {},
     "output_type": "execute_result"
    }
   ],
   "source": [
    "df = con.sql(\"SELECT * FROM articles LIMIT 100\").df()\n",
    "df.head(3)"
   ]
  },
  {
   "cell_type": "markdown",
   "metadata": {},
   "source": [
    "### Drop cols/views for rerunnability of notebook\n",
    "\n"
   ]
  },
  {
   "cell_type": "code",
   "execution_count": 3,
   "metadata": {},
   "outputs": [],
   "source": [
    "con.execute(\"\"\"\n",
    "    DROP TABLE IF EXISTS pageviews_aggregated_top_articles;\n",
    "    DROP TABLE IF EXISTS pageviews_aggregated;\n",
    "    DROP TABLE IF EXISTS articles_unique;\n",
    "    DROP TABLE IF EXISTS pageviews;\n",
    "            \n",
    "    DROP VIEW IF EXISTS pageviews_top500k;\n",
    "\"\"\")\n",
    "\n",
    "\n",
    "if \"title_match\" in df.columns:\n",
    "    con.execute(\"ALTER TABLE articles DROP COLUMN title_match;\")\n",
    "\n",
    "\n"
   ]
  },
  {
   "cell_type": "markdown",
   "metadata": {},
   "source": [
    "### Add pageviews data to duckdb database"
   ]
  },
  {
   "cell_type": "code",
   "execution_count": 4,
   "metadata": {},
   "outputs": [
    {
     "data": {
      "application/vnd.jupyter.widget-view+json": {
       "model_id": "47392a20af384bfe9955e0f5cb8cd7d0",
       "version_major": 2,
       "version_minor": 0
      },
      "text/plain": [
       "FloatProgress(value=0.0, layout=Layout(width='auto'), style=ProgressStyle(bar_color='black'))"
      ]
     },
     "metadata": {},
     "output_type": "display_data"
    },
    {
     "name": "stdout",
     "output_type": "stream",
     "text": [
      "Pageviews table schema:\n",
      "     column_name column_type null   key default extra\n",
      "0      wiki_code     VARCHAR  YES  None    None  None\n",
      "1  article_title     VARCHAR  YES  None    None  None\n",
      "2          views      BIGINT  YES  None    None  None\n",
      "3       page_ids   VARCHAR[]  YES  None    None  None\n"
     ]
    }
   ],
   "source": [
    "import pandas as pd\n",
    "\n",
    "# Load pageviews data using DuckDB's Parquet support\n",
    "con.execute(f\"\"\"\n",
    "    CREATE TABLE IF NOT EXISTS pageviews AS\n",
    "    SELECT *\n",
    "    FROM read_parquet('{pageviews_file}')\n",
    "\"\"\")\n",
    "\n",
    "# Verify the pageviews table\n",
    "print(\"Pageviews table schema:\")\n",
    "print(con.execute(\"DESCRIBE pageviews\").fetchdf())"
   ]
  },
  {
   "cell_type": "markdown",
   "metadata": {},
   "source": [
    "### Now create the title_match column (standardized title)"
   ]
  },
  {
   "cell_type": "code",
   "execution_count": 5,
   "metadata": {},
   "outputs": [
    {
     "data": {
      "application/vnd.jupyter.widget-view+json": {
       "model_id": "a0839576fc3845ee860b105ac9463b4f",
       "version_major": 2,
       "version_minor": 0
      },
      "text/plain": [
       "FloatProgress(value=0.0, layout=Layout(width='auto'), style=ProgressStyle(bar_color='black'))"
      ]
     },
     "metadata": {},
     "output_type": "display_data"
    },
    {
     "data": {
      "text/plain": [
       "<duckdb.duckdb.DuckDBPyConnection at 0x10b4dadb0>"
      ]
     },
     "execution_count": 5,
     "metadata": {},
     "output_type": "execute_result"
    }
   ],
   "source": [
    "## about 30 seconds, not too bad\n",
    "\n",
    "con.execute(\"\"\"\n",
    "ALTER TABLE pageviews\n",
    "ADD COLUMN title_match VARCHAR\n",
    "\"\"\")\n",
    "\n",
    "con.execute(\"\"\"\n",
    "ALTER TABLE articles\n",
    "ADD COLUMN title_match VARCHAR\n",
    "\"\"\")\n",
    "\n",
    "\n",
    "con.execute(\"\"\"\n",
    "    UPDATE pageviews\n",
    "    SET title_match = LOWER(TRIM(REPLACE(article_title, '-', '')))\n",
    "\"\"\")\n",
    "\n",
    "con.execute(\"\"\"\n",
    "    UPDATE articles\n",
    "    SET title_match = LOWER(TRIM(REPLACE(title, '-', '')))\n",
    "\"\"\")"
   ]
  },
  {
   "cell_type": "code",
   "execution_count": 6,
   "metadata": {},
   "outputs": [
    {
     "data": {
      "text/html": [
       "<div>\n",
       "<style scoped>\n",
       "    .dataframe tbody tr th:only-of-type {\n",
       "        vertical-align: middle;\n",
       "    }\n",
       "\n",
       "    .dataframe tbody tr th {\n",
       "        vertical-align: top;\n",
       "    }\n",
       "\n",
       "    .dataframe thead th {\n",
       "        text-align: right;\n",
       "    }\n",
       "</style>\n",
       "<table border=\"1\" class=\"dataframe\">\n",
       "  <thead>\n",
       "    <tr style=\"text-align: right;\">\n",
       "      <th></th>\n",
       "      <th>page_id</th>\n",
       "      <th>title</th>\n",
       "      <th>url</th>\n",
       "      <th>word_count</th>\n",
       "      <th>outlink_count</th>\n",
       "      <th>category_count</th>\n",
       "      <th>categories</th>\n",
       "      <th>template_count</th>\n",
       "      <th>external_link_count</th>\n",
       "      <th>last_modified</th>\n",
       "      <th>processed_text</th>\n",
       "      <th>title_match</th>\n",
       "    </tr>\n",
       "  </thead>\n",
       "  <tbody>\n",
       "    <tr>\n",
       "      <th>0</th>\n",
       "      <td>28438779</td>\n",
       "      <td>Alfonso III of Aragon</td>\n",
       "      <td>https://en.wikipedia.org/wiki/Alfonso_III_of_A...</td>\n",
       "      <td>432</td>\n",
       "      <td>58</td>\n",
       "      <td>11</td>\n",
       "      <td>Category:1265 births|Category:1291 deaths|Cate...</td>\n",
       "      <td>25</td>\n",
       "      <td>1</td>\n",
       "      <td>2024-05-02 13:02:49</td>\n",
       "      <td>\\n\\n\\n\\nAlfonso III (4 November 1265 – 18 June...</td>\n",
       "      <td>alfonso iii of aragon</td>\n",
       "    </tr>\n",
       "    <tr>\n",
       "      <th>1</th>\n",
       "      <td>42806011</td>\n",
       "      <td>Alfonso IV of Aragon</td>\n",
       "      <td>https://en.wikipedia.org/wiki/Alfonso_IV_of_Ar...</td>\n",
       "      <td>860</td>\n",
       "      <td>99</td>\n",
       "      <td>8</td>\n",
       "      <td>Category:1299 births|Category:1336 deaths|Cate...</td>\n",
       "      <td>36</td>\n",
       "      <td>1</td>\n",
       "      <td>2024-08-15 18:29:11</td>\n",
       "      <td>\\n\\n\\nAlfonso IV, called the Kind (also the Ge...</td>\n",
       "      <td>alfonso iv of aragon</td>\n",
       "    </tr>\n",
       "    <tr>\n",
       "      <th>2</th>\n",
       "      <td>43147063</td>\n",
       "      <td>Amasis II</td>\n",
       "      <td>https://en.wikipedia.org/wiki/Amasis_II</td>\n",
       "      <td>1805</td>\n",
       "      <td>95</td>\n",
       "      <td>6</td>\n",
       "      <td>Category:6th-century BC pharaohs|Category:Phar...</td>\n",
       "      <td>40</td>\n",
       "      <td>18</td>\n",
       "      <td>2024-09-18 06:14:34</td>\n",
       "      <td>\\n\\nAmasis II ( ;  ḤMS)Schmitz, Philip C.. \"Ch...</td>\n",
       "      <td>amasis ii</td>\n",
       "    </tr>\n",
       "  </tbody>\n",
       "</table>\n",
       "</div>"
      ],
      "text/plain": [
       "    page_id                  title  \\\n",
       "0  28438779  Alfonso III of Aragon   \n",
       "1  42806011   Alfonso IV of Aragon   \n",
       "2  43147063              Amasis II   \n",
       "\n",
       "                                                 url  word_count  \\\n",
       "0  https://en.wikipedia.org/wiki/Alfonso_III_of_A...         432   \n",
       "1  https://en.wikipedia.org/wiki/Alfonso_IV_of_Ar...         860   \n",
       "2            https://en.wikipedia.org/wiki/Amasis_II        1805   \n",
       "\n",
       "   outlink_count  category_count  \\\n",
       "0             58              11   \n",
       "1             99               8   \n",
       "2             95               6   \n",
       "\n",
       "                                          categories  template_count  \\\n",
       "0  Category:1265 births|Category:1291 deaths|Cate...              25   \n",
       "1  Category:1299 births|Category:1336 deaths|Cate...              36   \n",
       "2  Category:6th-century BC pharaohs|Category:Phar...              40   \n",
       "\n",
       "   external_link_count       last_modified  \\\n",
       "0                    1 2024-05-02 13:02:49   \n",
       "1                    1 2024-08-15 18:29:11   \n",
       "2                   18 2024-09-18 06:14:34   \n",
       "\n",
       "                                      processed_text            title_match  \n",
       "0  \\n\\n\\n\\nAlfonso III (4 November 1265 – 18 June...  alfonso iii of aragon  \n",
       "1  \\n\\n\\nAlfonso IV, called the Kind (also the Ge...   alfonso iv of aragon  \n",
       "2  \\n\\nAmasis II ( ;  ḤMS)Schmitz, Philip C.. \"Ch...              amasis ii  "
      ]
     },
     "metadata": {},
     "output_type": "display_data"
    },
    {
     "data": {
      "text/html": [
       "<div>\n",
       "<style scoped>\n",
       "    .dataframe tbody tr th:only-of-type {\n",
       "        vertical-align: middle;\n",
       "    }\n",
       "\n",
       "    .dataframe tbody tr th {\n",
       "        vertical-align: top;\n",
       "    }\n",
       "\n",
       "    .dataframe thead th {\n",
       "        text-align: right;\n",
       "    }\n",
       "</style>\n",
       "<table border=\"1\" class=\"dataframe\">\n",
       "  <thead>\n",
       "    <tr style=\"text-align: right;\">\n",
       "      <th></th>\n",
       "      <th>wiki_code</th>\n",
       "      <th>article_title</th>\n",
       "      <th>views</th>\n",
       "      <th>page_ids</th>\n",
       "      <th>title_match</th>\n",
       "    </tr>\n",
       "  </thead>\n",
       "  <tbody>\n",
       "    <tr>\n",
       "      <th>0</th>\n",
       "      <td>en.wikipedia</td>\n",
       "      <td>!</td>\n",
       "      <td>957</td>\n",
       "      <td>[7712754, 5878274]</td>\n",
       "      <td>!</td>\n",
       "    </tr>\n",
       "    <tr>\n",
       "      <th>1</th>\n",
       "      <td>en.wikipedia</td>\n",
       "      <td>!!</td>\n",
       "      <td>547</td>\n",
       "      <td>[null, 3632887]</td>\n",
       "      <td>!!</td>\n",
       "    </tr>\n",
       "    <tr>\n",
       "      <th>2</th>\n",
       "      <td>en.wikipedia</td>\n",
       "      <td>!!!</td>\n",
       "      <td>3730</td>\n",
       "      <td>[null, 600744]</td>\n",
       "      <td>!!!</td>\n",
       "    </tr>\n",
       "  </tbody>\n",
       "</table>\n",
       "</div>"
      ],
      "text/plain": [
       "      wiki_code article_title  views            page_ids title_match\n",
       "0  en.wikipedia             !    957  [7712754, 5878274]           !\n",
       "1  en.wikipedia            !!    547     [null, 3632887]          !!\n",
       "2  en.wikipedia           !!!   3730      [null, 600744]         !!!"
      ]
     },
     "metadata": {},
     "output_type": "display_data"
    }
   ],
   "source": [
    "df = con.sql(\"SELECT * FROM articles LIMIT 100\").df()\n",
    "df_pageviews = con.sql(\"SELECT * FROM pageviews LIMIT 100\").df()\n",
    "\n",
    "display(df.head(3))\n",
    "display(df_pageviews.head(3))"
   ]
  },
  {
   "cell_type": "markdown",
   "metadata": {},
   "source": [
    "### Create the aggregated pageviews table"
   ]
  },
  {
   "cell_type": "markdown",
   "metadata": {},
   "source": [
    "The aggregated pageviews table is what we would typically think of as just the normal pageviews table.\n",
    "\n",
    "The reason is that the datadump has only aggregated on the day level, while we have multiple months of data, and we want to have a basic mapping of total pageviews per article. \n",
    "\n",
    "NOTE: each page can have multiple page_ids, this can happen with redirects, maybe something else too?\n",
    "\n"
   ]
  },
  {
   "cell_type": "code",
   "execution_count": 7,
   "metadata": {},
   "outputs": [
    {
     "data": {
      "application/vnd.jupyter.widget-view+json": {
       "model_id": "76f276362a454fef871f764fdbad4fc2",
       "version_major": 2,
       "version_minor": 0
      },
      "text/plain": [
       "FloatProgress(value=0.0, layout=Layout(width='auto'), style=ProgressStyle(bar_color='black'))"
      ]
     },
     "metadata": {},
     "output_type": "display_data"
    },
    {
     "name": "stdout",
     "output_type": "stream",
     "text": [
      "Aggregated Pageviews:\n"
     ]
    },
    {
     "data": {
      "text/html": [
       "<div>\n",
       "<style scoped>\n",
       "    .dataframe tbody tr th:only-of-type {\n",
       "        vertical-align: middle;\n",
       "    }\n",
       "\n",
       "    .dataframe tbody tr th {\n",
       "        vertical-align: top;\n",
       "    }\n",
       "\n",
       "    .dataframe thead th {\n",
       "        text-align: right;\n",
       "    }\n",
       "</style>\n",
       "<table border=\"1\" class=\"dataframe\">\n",
       "  <thead>\n",
       "    <tr style=\"text-align: right;\">\n",
       "      <th></th>\n",
       "      <th>title_match</th>\n",
       "      <th>total_views</th>\n",
       "      <th>aggregated_page_ids</th>\n",
       "    </tr>\n",
       "  </thead>\n",
       "  <tbody>\n",
       "    <tr>\n",
       "      <th>0</th>\n",
       "      <td>main_page</td>\n",
       "      <td>1.760785e+09</td>\n",
       "      <td>[11228042],[63824523, 59153, 36484, 63079188, ...</td>\n",
       "    </tr>\n",
       "    <tr>\n",
       "      <th>1</th>\n",
       "      <td>special:search</td>\n",
       "      <td>5.575575e+08</td>\n",
       "      <td>[null, 59153, 20646122, 19898, 19386149, 11429...</td>\n",
       "    </tr>\n",
       "    <tr>\n",
       "      <th>2</th>\n",
       "      <td></td>\n",
       "      <td>3.395360e+08</td>\n",
       "      <td>[13270687, 18973788],[1452809, 68713497, 15462...</td>\n",
       "    </tr>\n",
       "  </tbody>\n",
       "</table>\n",
       "</div>"
      ],
      "text/plain": [
       "      title_match   total_views  \\\n",
       "0       main_page  1.760785e+09   \n",
       "1  special:search  5.575575e+08   \n",
       "2                  3.395360e+08   \n",
       "\n",
       "                                 aggregated_page_ids  \n",
       "0  [11228042],[63824523, 59153, 36484, 63079188, ...  \n",
       "1  [null, 59153, 20646122, 19898, 19386149, 11429...  \n",
       "2  [13270687, 18973788],[1452809, 68713497, 15462...  "
      ]
     },
     "execution_count": 7,
     "metadata": {},
     "output_type": "execute_result"
    }
   ],
   "source": [
    "# about 1min 10s\n",
    "\n",
    "# Aggregate pageviews by title_match\n",
    "con.execute(\"\"\"\n",
    "    CREATE TABLE IF NOT EXISTS pageviews_aggregated AS\n",
    "    SELECT \n",
    "        title_match,\n",
    "        SUM(views) AS total_views,\n",
    "        LISTAGG(DISTINCT page_ids) AS aggregated_page_ids\n",
    "    FROM pageviews\n",
    "    GROUP BY title_match\n",
    "\"\"\")\n",
    "\n",
    "# Verify the aggregated data\n",
    "print(\"Aggregated Pageviews:\")\n",
    "\n",
    "df_grouped = con.sql(\"SELECT * FROM pageviews_aggregated order by total_views desc LIMIT 100\").df()\n",
    "df_grouped.head(3)\n"
   ]
  },
  {
   "cell_type": "markdown",
   "metadata": {},
   "source": [
    "### Create a table of the top N articles by pageviews (top 500K?)\n",
    "\n",
    "Choose a larger number than we will embed, since we might filter out some of these..  \n",
    "\n",
    "I.e. if the target to embed is 100K articles, be very safe and choose 500K.   \n",
    "\n",
    "We can then further filter down from this set.\n",
    "\n"
   ]
  },
  {
   "cell_type": "code",
   "execution_count": 8,
   "metadata": {},
   "outputs": [
    {
     "data": {
      "application/vnd.jupyter.widget-view+json": {
       "model_id": "945d6bcd0d334a019de9f3de10e71d37",
       "version_major": 2,
       "version_minor": 0
      },
      "text/plain": [
       "FloatProgress(value=0.0, layout=Layout(width='auto'), style=ProgressStyle(bar_color='black'))"
      ]
     },
     "metadata": {},
     "output_type": "display_data"
    },
    {
     "name": "stdout",
     "output_type": "stream",
     "text": [
      "Top Articles with Pageviews:\n"
     ]
    },
    {
     "data": {
      "text/html": [
       "<div>\n",
       "<style scoped>\n",
       "    .dataframe tbody tr th:only-of-type {\n",
       "        vertical-align: middle;\n",
       "    }\n",
       "\n",
       "    .dataframe tbody tr th {\n",
       "        vertical-align: top;\n",
       "    }\n",
       "\n",
       "    .dataframe thead th {\n",
       "        text-align: right;\n",
       "    }\n",
       "</style>\n",
       "<table border=\"1\" class=\"dataframe\">\n",
       "  <thead>\n",
       "    <tr style=\"text-align: right;\">\n",
       "      <th></th>\n",
       "      <th>page_id</th>\n",
       "      <th>title</th>\n",
       "      <th>url</th>\n",
       "      <th>word_count</th>\n",
       "      <th>outlink_count</th>\n",
       "      <th>category_count</th>\n",
       "      <th>categories</th>\n",
       "      <th>template_count</th>\n",
       "      <th>external_link_count</th>\n",
       "      <th>last_modified</th>\n",
       "      <th>processed_text</th>\n",
       "      <th>title_match</th>\n",
       "      <th>total_views</th>\n",
       "      <th>aggregated_page_ids</th>\n",
       "      <th>url_pageviews</th>\n",
       "      <th>views_percentile</th>\n",
       "      <th>rn</th>\n",
       "    </tr>\n",
       "  </thead>\n",
       "  <tbody>\n",
       "    <tr>\n",
       "      <th>0</th>\n",
       "      <td>19404073</td>\n",
       "      <td>--</td>\n",
       "      <td>https://en.wikipedia.org/wiki/--</td>\n",
       "      <td>100</td>\n",
       "      <td>12</td>\n",
       "      <td>0</td>\n",
       "      <td></td>\n",
       "      <td>3</td>\n",
       "      <td>0</td>\n",
       "      <td>2024-07-16 16:39:45</td>\n",
       "      <td>\\n--, a string of two hyphen-minus characters,...</td>\n",
       "      <td></td>\n",
       "      <td>339535996.0</td>\n",
       "      <td>[1452809, 68713497, 1546216, 907691, 12686647,...</td>\n",
       "      <td>https://no.wikipedia.org/w/index.php?curid=194...</td>\n",
       "      <td>0.000000</td>\n",
       "      <td>1</td>\n",
       "    </tr>\n",
       "    <tr>\n",
       "      <th>1</th>\n",
       "      <td>299135</td>\n",
       "      <td>YouTube</td>\n",
       "      <td>https://en.wikipedia.org/wiki/YouTube</td>\n",
       "      <td>17507</td>\n",
       "      <td>1244</td>\n",
       "      <td>23</td>\n",
       "      <td>Category:YouTube|Category:2005 establishments ...</td>\n",
       "      <td>802</td>\n",
       "      <td>1029</td>\n",
       "      <td>2024-10-04 20:25:03</td>\n",
       "      <td>\\n\\n\\n\\n\\n\\n\\n\\nYouTube  is an American online...</td>\n",
       "      <td>youtube</td>\n",
       "      <td>61184976.0</td>\n",
       "      <td>[3524766, 18021924],[3524766, 23602489],[35247...</td>\n",
       "      <td>https://no.wikipedia.org/w/index.php?curid=299135</td>\n",
       "      <td>0.000013</td>\n",
       "      <td>1</td>\n",
       "    </tr>\n",
       "    <tr>\n",
       "      <th>2</th>\n",
       "      <td>48474643</td>\n",
       "      <td>Cleopatra</td>\n",
       "      <td>https://en.wikipedia.org/wiki/Cleopatra</td>\n",
       "      <td>17807</td>\n",
       "      <td>1109</td>\n",
       "      <td>22</td>\n",
       "      <td>Category:Cleopatra|Category:69 BC births|Categ...</td>\n",
       "      <td>1398</td>\n",
       "      <td>140</td>\n",
       "      <td>2024-10-04 04:20:49</td>\n",
       "      <td>\\n\\n\\n\\n\\n\\n\\n\\n\\n\\n\\nCleopatra VII Thea Philo...</td>\n",
       "      <td>cleopatra</td>\n",
       "      <td>55414365.0</td>\n",
       "      <td>[60827],[60827, null, 1359777],[null, 57659752...</td>\n",
       "      <td>https://no.wikipedia.org/w/index.php?curid=484...</td>\n",
       "      <td>0.000026</td>\n",
       "      <td>1</td>\n",
       "    </tr>\n",
       "    <tr>\n",
       "      <th>3</th>\n",
       "      <td>40943757</td>\n",
       "      <td>XXXTentacion</td>\n",
       "      <td>https://en.wikipedia.org/wiki/XXXTentacion</td>\n",
       "      <td>12332</td>\n",
       "      <td>617</td>\n",
       "      <td>38</td>\n",
       "      <td>Category:XXXTentacion|Category:1998 births|Cat...</td>\n",
       "      <td>525</td>\n",
       "      <td>636</td>\n",
       "      <td>2024-09-30 13:11:39</td>\n",
       "      <td>\\n\\n\\n\\n\\n\\nJahseh Dwayne Ricardo Onfroy (Janu...</td>\n",
       "      <td>xxxtentacion</td>\n",
       "      <td>42377950.0</td>\n",
       "      <td>[53039739],[null, 53039739],[53702987, 5303973...</td>\n",
       "      <td>https://no.wikipedia.org/w/index.php?curid=409...</td>\n",
       "      <td>0.000040</td>\n",
       "      <td>1</td>\n",
       "    </tr>\n",
       "    <tr>\n",
       "      <th>4</th>\n",
       "      <td>39604324</td>\n",
       "      <td>Pornhub</td>\n",
       "      <td>https://en.wikipedia.org/wiki/Pornhub</td>\n",
       "      <td>3624</td>\n",
       "      <td>231</td>\n",
       "      <td>10</td>\n",
       "      <td>Category:2007 establishments in Quebec|Categor...</td>\n",
       "      <td>182</td>\n",
       "      <td>277</td>\n",
       "      <td>2024-09-29 18:35:56</td>\n",
       "      <td>\\n\\n\\n\\n\\nPornhub is a Canadian-owned internet...</td>\n",
       "      <td>pornhub</td>\n",
       "      <td>40291676.0</td>\n",
       "      <td>[45492650, null, 29555076],[45492650, 32036801...</td>\n",
       "      <td>https://no.wikipedia.org/w/index.php?curid=396...</td>\n",
       "      <td>0.000053</td>\n",
       "      <td>1</td>\n",
       "    </tr>\n",
       "  </tbody>\n",
       "</table>\n",
       "</div>"
      ],
      "text/plain": [
       "    page_id         title                                         url  \\\n",
       "0  19404073            --            https://en.wikipedia.org/wiki/--   \n",
       "1    299135       YouTube       https://en.wikipedia.org/wiki/YouTube   \n",
       "2  48474643     Cleopatra     https://en.wikipedia.org/wiki/Cleopatra   \n",
       "3  40943757  XXXTentacion  https://en.wikipedia.org/wiki/XXXTentacion   \n",
       "4  39604324       Pornhub       https://en.wikipedia.org/wiki/Pornhub   \n",
       "\n",
       "   word_count  outlink_count  category_count  \\\n",
       "0         100             12               0   \n",
       "1       17507           1244              23   \n",
       "2       17807           1109              22   \n",
       "3       12332            617              38   \n",
       "4        3624            231              10   \n",
       "\n",
       "                                          categories  template_count  \\\n",
       "0                                                                  3   \n",
       "1  Category:YouTube|Category:2005 establishments ...             802   \n",
       "2  Category:Cleopatra|Category:69 BC births|Categ...            1398   \n",
       "3  Category:XXXTentacion|Category:1998 births|Cat...             525   \n",
       "4  Category:2007 establishments in Quebec|Categor...             182   \n",
       "\n",
       "   external_link_count       last_modified  \\\n",
       "0                    0 2024-07-16 16:39:45   \n",
       "1                 1029 2024-10-04 20:25:03   \n",
       "2                  140 2024-10-04 04:20:49   \n",
       "3                  636 2024-09-30 13:11:39   \n",
       "4                  277 2024-09-29 18:35:56   \n",
       "\n",
       "                                      processed_text   title_match  \\\n",
       "0  \\n--, a string of two hyphen-minus characters,...                 \n",
       "1  \\n\\n\\n\\n\\n\\n\\n\\nYouTube  is an American online...       youtube   \n",
       "2  \\n\\n\\n\\n\\n\\n\\n\\n\\n\\n\\nCleopatra VII Thea Philo...     cleopatra   \n",
       "3  \\n\\n\\n\\n\\n\\nJahseh Dwayne Ricardo Onfroy (Janu...  xxxtentacion   \n",
       "4  \\n\\n\\n\\n\\nPornhub is a Canadian-owned internet...       pornhub   \n",
       "\n",
       "   total_views                                aggregated_page_ids  \\\n",
       "0  339535996.0  [1452809, 68713497, 1546216, 907691, 12686647,...   \n",
       "1   61184976.0  [3524766, 18021924],[3524766, 23602489],[35247...   \n",
       "2   55414365.0  [60827],[60827, null, 1359777],[null, 57659752...   \n",
       "3   42377950.0  [53039739],[null, 53039739],[53702987, 5303973...   \n",
       "4   40291676.0  [45492650, null, 29555076],[45492650, 32036801...   \n",
       "\n",
       "                                       url_pageviews  views_percentile  rn  \n",
       "0  https://no.wikipedia.org/w/index.php?curid=194...          0.000000   1  \n",
       "1  https://no.wikipedia.org/w/index.php?curid=299135          0.000013   1  \n",
       "2  https://no.wikipedia.org/w/index.php?curid=484...          0.000026   1  \n",
       "3  https://no.wikipedia.org/w/index.php?curid=409...          0.000040   1  \n",
       "4  https://no.wikipedia.org/w/index.php?curid=396...          0.000053   1  "
      ]
     },
     "metadata": {},
     "output_type": "display_data"
    }
   ],
   "source": [
    "# about 1 min 10s\n",
    "\n",
    "VIEW_LIMIT = 700_000\n",
    "\n",
    "# Create table of top 500K articles by pageviews with their metadata\n",
    "con.execute(f\"\"\"\n",
    "CREATE VIEW IF NOT EXISTS pageviews_top500k AS\n",
    "SELECT \n",
    "    title_match,\n",
    "    SUM(views) AS total_views,\n",
    "    LISTAGG(DISTINCT page_ids) AS aggregated_page_ids\n",
    "FROM pageviews\n",
    "GROUP BY title_match\n",
    "ORDER BY SUM(views) DESC\n",
    "LIMIT {str(VIEW_LIMIT).replace(\"_\", \"\")};\n",
    "\"\"\")\n",
    "\n",
    "# Step 2: Join with articles to create the final table\n",
    "con.execute(\"\"\"\n",
    "CREATE TABLE IF NOT EXISTS pageviews_aggregated_top_articles AS\n",
    "WITH ranked_articles AS (\n",
    "    SELECT \n",
    "        a.*,\n",
    "        p.total_views,\n",
    "        p.aggregated_page_ids,\n",
    "        'https://no.wikipedia.org/w/index.php?curid=' || a.page_id as url_pageviews,\n",
    "        PERCENT_RANK() OVER (ORDER BY p.total_views DESC) as views_percentile,\n",
    "        ROW_NUMBER() OVER (PARTITION BY a.title_match ORDER BY a.word_count DESC) as rn\n",
    "    FROM articles a\n",
    "    INNER JOIN pageviews_top500k p ON a.title_match = p.title_match\n",
    ")\n",
    "SELECT \n",
    " *\n",
    "FROM ranked_articles\n",
    "WHERE rn = 1;\n",
    "\"\"\")\n",
    "\n",
    "\n",
    "print(\"Top Articles with Pageviews:\")\n",
    "df_top_articles = con.sql(\"\"\"\n",
    "    SELECT *\n",
    "    FROM pageviews_aggregated_top_articles \n",
    "    ORDER BY total_views DESC \n",
    "    LIMIT 100\n",
    "\"\"\").df()\n",
    "display(df_top_articles.head(5))"
   ]
  },
  {
   "cell_type": "code",
   "execution_count": 9,
   "metadata": {},
   "outputs": [
    {
     "name": "stdout",
     "output_type": "stream",
     "text": [
      "Top Articles with Pageviews:\n"
     ]
    },
    {
     "data": {
      "text/html": [
       "<div>\n",
       "<style scoped>\n",
       "    .dataframe tbody tr th:only-of-type {\n",
       "        vertical-align: middle;\n",
       "    }\n",
       "\n",
       "    .dataframe tbody tr th {\n",
       "        vertical-align: top;\n",
       "    }\n",
       "\n",
       "    .dataframe thead th {\n",
       "        text-align: right;\n",
       "    }\n",
       "</style>\n",
       "<table border=\"1\" class=\"dataframe\">\n",
       "  <thead>\n",
       "    <tr style=\"text-align: right;\">\n",
       "      <th></th>\n",
       "      <th>page_id</th>\n",
       "      <th>title</th>\n",
       "      <th>url</th>\n",
       "      <th>word_count</th>\n",
       "      <th>outlink_count</th>\n",
       "      <th>category_count</th>\n",
       "      <th>categories</th>\n",
       "      <th>template_count</th>\n",
       "      <th>external_link_count</th>\n",
       "      <th>last_modified</th>\n",
       "      <th>processed_text</th>\n",
       "      <th>title_match</th>\n",
       "      <th>total_views</th>\n",
       "      <th>aggregated_page_ids</th>\n",
       "      <th>url_pageviews</th>\n",
       "      <th>views_percentile</th>\n",
       "      <th>rn</th>\n",
       "    </tr>\n",
       "  </thead>\n",
       "  <tbody>\n",
       "    <tr>\n",
       "      <th>0</th>\n",
       "      <td>19404073</td>\n",
       "      <td>--</td>\n",
       "      <td>https://en.wikipedia.org/wiki/--</td>\n",
       "      <td>100</td>\n",
       "      <td>12</td>\n",
       "      <td>0</td>\n",
       "      <td></td>\n",
       "      <td>3</td>\n",
       "      <td>0</td>\n",
       "      <td>2024-07-16 16:39:45</td>\n",
       "      <td>\\n--, a string of two hyphen-minus characters,...</td>\n",
       "      <td></td>\n",
       "      <td>339535996.0</td>\n",
       "      <td>[1452809, 68713497, 1546216, 907691, 12686647,...</td>\n",
       "      <td>https://no.wikipedia.org/w/index.php?curid=194...</td>\n",
       "      <td>0.000000</td>\n",
       "      <td>1</td>\n",
       "    </tr>\n",
       "    <tr>\n",
       "      <th>1</th>\n",
       "      <td>299135</td>\n",
       "      <td>YouTube</td>\n",
       "      <td>https://en.wikipedia.org/wiki/YouTube</td>\n",
       "      <td>17507</td>\n",
       "      <td>1244</td>\n",
       "      <td>23</td>\n",
       "      <td>Category:YouTube|Category:2005 establishments ...</td>\n",
       "      <td>802</td>\n",
       "      <td>1029</td>\n",
       "      <td>2024-10-04 20:25:03</td>\n",
       "      <td>\\n\\n\\n\\n\\n\\n\\n\\nYouTube  is an American online...</td>\n",
       "      <td>youtube</td>\n",
       "      <td>61184976.0</td>\n",
       "      <td>[3524766, 18021924],[3524766, 23602489],[35247...</td>\n",
       "      <td>https://no.wikipedia.org/w/index.php?curid=299135</td>\n",
       "      <td>0.000013</td>\n",
       "      <td>1</td>\n",
       "    </tr>\n",
       "    <tr>\n",
       "      <th>2</th>\n",
       "      <td>48474643</td>\n",
       "      <td>Cleopatra</td>\n",
       "      <td>https://en.wikipedia.org/wiki/Cleopatra</td>\n",
       "      <td>17807</td>\n",
       "      <td>1109</td>\n",
       "      <td>22</td>\n",
       "      <td>Category:Cleopatra|Category:69 BC births|Categ...</td>\n",
       "      <td>1398</td>\n",
       "      <td>140</td>\n",
       "      <td>2024-10-04 04:20:49</td>\n",
       "      <td>\\n\\n\\n\\n\\n\\n\\n\\n\\n\\n\\nCleopatra VII Thea Philo...</td>\n",
       "      <td>cleopatra</td>\n",
       "      <td>55414365.0</td>\n",
       "      <td>[60827],[60827, null, 1359777],[null, 57659752...</td>\n",
       "      <td>https://no.wikipedia.org/w/index.php?curid=484...</td>\n",
       "      <td>0.000026</td>\n",
       "      <td>1</td>\n",
       "    </tr>\n",
       "    <tr>\n",
       "      <th>3</th>\n",
       "      <td>40943757</td>\n",
       "      <td>XXXTentacion</td>\n",
       "      <td>https://en.wikipedia.org/wiki/XXXTentacion</td>\n",
       "      <td>12332</td>\n",
       "      <td>617</td>\n",
       "      <td>38</td>\n",
       "      <td>Category:XXXTentacion|Category:1998 births|Cat...</td>\n",
       "      <td>525</td>\n",
       "      <td>636</td>\n",
       "      <td>2024-09-30 13:11:39</td>\n",
       "      <td>\\n\\n\\n\\n\\n\\nJahseh Dwayne Ricardo Onfroy (Janu...</td>\n",
       "      <td>xxxtentacion</td>\n",
       "      <td>42377950.0</td>\n",
       "      <td>[53039739],[null, 53039739],[53702987, 5303973...</td>\n",
       "      <td>https://no.wikipedia.org/w/index.php?curid=409...</td>\n",
       "      <td>0.000040</td>\n",
       "      <td>1</td>\n",
       "    </tr>\n",
       "    <tr>\n",
       "      <th>4</th>\n",
       "      <td>39604324</td>\n",
       "      <td>Pornhub</td>\n",
       "      <td>https://en.wikipedia.org/wiki/Pornhub</td>\n",
       "      <td>3624</td>\n",
       "      <td>231</td>\n",
       "      <td>10</td>\n",
       "      <td>Category:2007 establishments in Quebec|Categor...</td>\n",
       "      <td>182</td>\n",
       "      <td>277</td>\n",
       "      <td>2024-09-29 18:35:56</td>\n",
       "      <td>\\n\\n\\n\\n\\nPornhub is a Canadian-owned internet...</td>\n",
       "      <td>pornhub</td>\n",
       "      <td>40291676.0</td>\n",
       "      <td>[45492650, null, 29555076],[45492650, 32036801...</td>\n",
       "      <td>https://no.wikipedia.org/w/index.php?curid=396...</td>\n",
       "      <td>0.000053</td>\n",
       "      <td>1</td>\n",
       "    </tr>\n",
       "    <tr>\n",
       "      <th>...</th>\n",
       "      <td>...</td>\n",
       "      <td>...</td>\n",
       "      <td>...</td>\n",
       "      <td>...</td>\n",
       "      <td>...</td>\n",
       "      <td>...</td>\n",
       "      <td>...</td>\n",
       "      <td>...</td>\n",
       "      <td>...</td>\n",
       "      <td>...</td>\n",
       "      <td>...</td>\n",
       "      <td>...</td>\n",
       "      <td>...</td>\n",
       "      <td>...</td>\n",
       "      <td>...</td>\n",
       "      <td>...</td>\n",
       "      <td>...</td>\n",
       "    </tr>\n",
       "    <tr>\n",
       "      <th>74492</th>\n",
       "      <td>44734349</td>\n",
       "      <td>Avicennism</td>\n",
       "      <td>https://en.wikipedia.org/wiki/Avicennism</td>\n",
       "      <td>322</td>\n",
       "      <td>31</td>\n",
       "      <td>5</td>\n",
       "      <td>Category:Avicenna|Category:Aristotelianism|Cat...</td>\n",
       "      <td>16</td>\n",
       "      <td>1</td>\n",
       "      <td>2024-08-15 07:57:19</td>\n",
       "      <td>\\n\\nAvicennism is a school of Islamic philosop...</td>\n",
       "      <td>avicennism</td>\n",
       "      <td>15924.0</td>\n",
       "      <td>[null, 14918546],[14918546]</td>\n",
       "      <td>https://no.wikipedia.org/w/index.php?curid=447...</td>\n",
       "      <td>0.999947</td>\n",
       "      <td>1</td>\n",
       "    </tr>\n",
       "    <tr>\n",
       "      <th>74493</th>\n",
       "      <td>45687108</td>\n",
       "      <td>Hyperbaton</td>\n",
       "      <td>https://en.wikipedia.org/wiki/Hyperbaton</td>\n",
       "      <td>2164</td>\n",
       "      <td>56</td>\n",
       "      <td>6</td>\n",
       "      <td>Category:Rhetorical techniques|Category:Word o...</td>\n",
       "      <td>70</td>\n",
       "      <td>14</td>\n",
       "      <td>2024-06-01 03:52:46</td>\n",
       "      <td>\\n\\nHyperbaton , in its original meaning, is a...</td>\n",
       "      <td>hyperbaton</td>\n",
       "      <td>15923.0</td>\n",
       "      <td>[92378, null]</td>\n",
       "      <td>https://no.wikipedia.org/w/index.php?curid=456...</td>\n",
       "      <td>0.999960</td>\n",
       "      <td>1</td>\n",
       "    </tr>\n",
       "    <tr>\n",
       "      <th>74494</th>\n",
       "      <td>25511559</td>\n",
       "      <td>Alasdair</td>\n",
       "      <td>https://en.wikipedia.org/wiki/Alasdair</td>\n",
       "      <td>576</td>\n",
       "      <td>87</td>\n",
       "      <td>3</td>\n",
       "      <td>Category:Scottish Gaelic masculine given names...</td>\n",
       "      <td>6</td>\n",
       "      <td>0</td>\n",
       "      <td>2024-04-11 11:38:02</td>\n",
       "      <td>\\nAlasdair () is a Scottish Gaelic given name....</td>\n",
       "      <td>alasdair</td>\n",
       "      <td>15923.0</td>\n",
       "      <td>[null, 561149]</td>\n",
       "      <td>https://no.wikipedia.org/w/index.php?curid=255...</td>\n",
       "      <td>0.999960</td>\n",
       "      <td>1</td>\n",
       "    </tr>\n",
       "    <tr>\n",
       "      <th>74495</th>\n",
       "      <td>46892060</td>\n",
       "      <td>Angon</td>\n",
       "      <td>https://en.wikipedia.org/wiki/Angon</td>\n",
       "      <td>618</td>\n",
       "      <td>46</td>\n",
       "      <td>3</td>\n",
       "      <td>Category:Ancient weapons|Category:Germanic wea...</td>\n",
       "      <td>16</td>\n",
       "      <td>5</td>\n",
       "      <td>2023-11-19 13:46:15</td>\n",
       "      <td>\\n\\n\\n\\nThe angon (Medieval Greek , Old High G...</td>\n",
       "      <td>angon</td>\n",
       "      <td>15923.0</td>\n",
       "      <td>[null, 16493686]</td>\n",
       "      <td>https://no.wikipedia.org/w/index.php?curid=468...</td>\n",
       "      <td>0.999960</td>\n",
       "      <td>1</td>\n",
       "    </tr>\n",
       "    <tr>\n",
       "      <th>74496</th>\n",
       "      <td>1152308</td>\n",
       "      <td>Gokuldham</td>\n",
       "      <td>https://en.wikipedia.org/wiki/Gokuldham</td>\n",
       "      <td>131</td>\n",
       "      <td>20</td>\n",
       "      <td>1</td>\n",
       "      <td>Category:Neighbourhoods in Mumbai</td>\n",
       "      <td>8</td>\n",
       "      <td>1</td>\n",
       "      <td>2024-03-23 21:43:58</td>\n",
       "      <td>\\n\\n\\n\\n\\nGokuldham is a densely populated nei...</td>\n",
       "      <td>gokuldham</td>\n",
       "      <td>15922.0</td>\n",
       "      <td>[null, 4046745]</td>\n",
       "      <td>https://no.wikipedia.org/w/index.php?curid=115...</td>\n",
       "      <td>1.000000</td>\n",
       "      <td>1</td>\n",
       "    </tr>\n",
       "  </tbody>\n",
       "</table>\n",
       "<p>74497 rows × 17 columns</p>\n",
       "</div>"
      ],
      "text/plain": [
       "        page_id         title                                         url  \\\n",
       "0      19404073            --            https://en.wikipedia.org/wiki/--   \n",
       "1        299135       YouTube       https://en.wikipedia.org/wiki/YouTube   \n",
       "2      48474643     Cleopatra     https://en.wikipedia.org/wiki/Cleopatra   \n",
       "3      40943757  XXXTentacion  https://en.wikipedia.org/wiki/XXXTentacion   \n",
       "4      39604324       Pornhub       https://en.wikipedia.org/wiki/Pornhub   \n",
       "...         ...           ...                                         ...   \n",
       "74492  44734349    Avicennism    https://en.wikipedia.org/wiki/Avicennism   \n",
       "74493  45687108    Hyperbaton    https://en.wikipedia.org/wiki/Hyperbaton   \n",
       "74494  25511559      Alasdair      https://en.wikipedia.org/wiki/Alasdair   \n",
       "74495  46892060         Angon         https://en.wikipedia.org/wiki/Angon   \n",
       "74496   1152308     Gokuldham     https://en.wikipedia.org/wiki/Gokuldham   \n",
       "\n",
       "       word_count  outlink_count  category_count  \\\n",
       "0             100             12               0   \n",
       "1           17507           1244              23   \n",
       "2           17807           1109              22   \n",
       "3           12332            617              38   \n",
       "4            3624            231              10   \n",
       "...           ...            ...             ...   \n",
       "74492         322             31               5   \n",
       "74493        2164             56               6   \n",
       "74494         576             87               3   \n",
       "74495         618             46               3   \n",
       "74496         131             20               1   \n",
       "\n",
       "                                              categories  template_count  \\\n",
       "0                                                                      3   \n",
       "1      Category:YouTube|Category:2005 establishments ...             802   \n",
       "2      Category:Cleopatra|Category:69 BC births|Categ...            1398   \n",
       "3      Category:XXXTentacion|Category:1998 births|Cat...             525   \n",
       "4      Category:2007 establishments in Quebec|Categor...             182   \n",
       "...                                                  ...             ...   \n",
       "74492  Category:Avicenna|Category:Aristotelianism|Cat...              16   \n",
       "74493  Category:Rhetorical techniques|Category:Word o...              70   \n",
       "74494  Category:Scottish Gaelic masculine given names...               6   \n",
       "74495  Category:Ancient weapons|Category:Germanic wea...              16   \n",
       "74496                  Category:Neighbourhoods in Mumbai               8   \n",
       "\n",
       "       external_link_count       last_modified  \\\n",
       "0                        0 2024-07-16 16:39:45   \n",
       "1                     1029 2024-10-04 20:25:03   \n",
       "2                      140 2024-10-04 04:20:49   \n",
       "3                      636 2024-09-30 13:11:39   \n",
       "4                      277 2024-09-29 18:35:56   \n",
       "...                    ...                 ...   \n",
       "74492                    1 2024-08-15 07:57:19   \n",
       "74493                   14 2024-06-01 03:52:46   \n",
       "74494                    0 2024-04-11 11:38:02   \n",
       "74495                    5 2023-11-19 13:46:15   \n",
       "74496                    1 2024-03-23 21:43:58   \n",
       "\n",
       "                                          processed_text   title_match  \\\n",
       "0      \\n--, a string of two hyphen-minus characters,...                 \n",
       "1      \\n\\n\\n\\n\\n\\n\\n\\nYouTube  is an American online...       youtube   \n",
       "2      \\n\\n\\n\\n\\n\\n\\n\\n\\n\\n\\nCleopatra VII Thea Philo...     cleopatra   \n",
       "3      \\n\\n\\n\\n\\n\\nJahseh Dwayne Ricardo Onfroy (Janu...  xxxtentacion   \n",
       "4      \\n\\n\\n\\n\\nPornhub is a Canadian-owned internet...       pornhub   \n",
       "...                                                  ...           ...   \n",
       "74492  \\n\\nAvicennism is a school of Islamic philosop...    avicennism   \n",
       "74493  \\n\\nHyperbaton , in its original meaning, is a...    hyperbaton   \n",
       "74494  \\nAlasdair () is a Scottish Gaelic given name....      alasdair   \n",
       "74495  \\n\\n\\n\\nThe angon (Medieval Greek , Old High G...         angon   \n",
       "74496  \\n\\n\\n\\n\\nGokuldham is a densely populated nei...     gokuldham   \n",
       "\n",
       "       total_views                                aggregated_page_ids  \\\n",
       "0      339535996.0  [1452809, 68713497, 1546216, 907691, 12686647,...   \n",
       "1       61184976.0  [3524766, 18021924],[3524766, 23602489],[35247...   \n",
       "2       55414365.0  [60827],[60827, null, 1359777],[null, 57659752...   \n",
       "3       42377950.0  [53039739],[null, 53039739],[53702987, 5303973...   \n",
       "4       40291676.0  [45492650, null, 29555076],[45492650, 32036801...   \n",
       "...            ...                                                ...   \n",
       "74492      15924.0                        [null, 14918546],[14918546]   \n",
       "74493      15923.0                                      [92378, null]   \n",
       "74494      15923.0                                     [null, 561149]   \n",
       "74495      15923.0                                   [null, 16493686]   \n",
       "74496      15922.0                                    [null, 4046745]   \n",
       "\n",
       "                                           url_pageviews  views_percentile  rn  \n",
       "0      https://no.wikipedia.org/w/index.php?curid=194...          0.000000   1  \n",
       "1      https://no.wikipedia.org/w/index.php?curid=299135          0.000013   1  \n",
       "2      https://no.wikipedia.org/w/index.php?curid=484...          0.000026   1  \n",
       "3      https://no.wikipedia.org/w/index.php?curid=409...          0.000040   1  \n",
       "4      https://no.wikipedia.org/w/index.php?curid=396...          0.000053   1  \n",
       "...                                                  ...               ...  ..  \n",
       "74492  https://no.wikipedia.org/w/index.php?curid=447...          0.999947   1  \n",
       "74493  https://no.wikipedia.org/w/index.php?curid=456...          0.999960   1  \n",
       "74494  https://no.wikipedia.org/w/index.php?curid=255...          0.999960   1  \n",
       "74495  https://no.wikipedia.org/w/index.php?curid=468...          0.999960   1  \n",
       "74496  https://no.wikipedia.org/w/index.php?curid=115...          1.000000   1  \n",
       "\n",
       "[74497 rows x 17 columns]"
      ]
     },
     "execution_count": 9,
     "metadata": {},
     "output_type": "execute_result"
    }
   ],
   "source": [
    "print(\"Top Articles with Pageviews:\")\n",
    "df_top_articles = con.sql(\"\"\"\n",
    "    SELECT *\n",
    "    FROM pageviews_aggregated_top_articles \n",
    "    ORDER BY total_views DESC \n",
    "\"\"\").df()\n",
    "\n",
    "df_top_articles"
   ]
  },
  {
   "cell_type": "markdown",
   "metadata": {},
   "source": [
    "# Can now implement same filtering strategy as for smaller wikis:\n",
    "\n"
   ]
  },
  {
   "cell_type": "code",
   "execution_count": 10,
   "metadata": {},
   "outputs": [
    {
     "name": "stdout",
     "output_type": "stream",
     "text": [
      "len(df_top_articles): 74,497\n"
     ]
    },
    {
     "data": {
      "text/html": [
       "<div>\n",
       "<style scoped>\n",
       "    .dataframe tbody tr th:only-of-type {\n",
       "        vertical-align: middle;\n",
       "    }\n",
       "\n",
       "    .dataframe tbody tr th {\n",
       "        vertical-align: top;\n",
       "    }\n",
       "\n",
       "    .dataframe thead th {\n",
       "        text-align: right;\n",
       "    }\n",
       "</style>\n",
       "<table border=\"1\" class=\"dataframe\">\n",
       "  <thead>\n",
       "    <tr style=\"text-align: right;\">\n",
       "      <th></th>\n",
       "      <th>page_id</th>\n",
       "      <th>title</th>\n",
       "      <th>url</th>\n",
       "      <th>word_count</th>\n",
       "      <th>outlink_count</th>\n",
       "      <th>category_count</th>\n",
       "      <th>categories</th>\n",
       "      <th>template_count</th>\n",
       "      <th>external_link_count</th>\n",
       "      <th>last_modified</th>\n",
       "      <th>processed_text</th>\n",
       "      <th>title_match</th>\n",
       "      <th>total_views</th>\n",
       "      <th>aggregated_page_ids</th>\n",
       "      <th>url_pageviews</th>\n",
       "      <th>views_percentile</th>\n",
       "      <th>rn</th>\n",
       "    </tr>\n",
       "  </thead>\n",
       "  <tbody>\n",
       "    <tr>\n",
       "      <th>0</th>\n",
       "      <td>19404073</td>\n",
       "      <td>--</td>\n",
       "      <td>https://en.wikipedia.org/wiki/--</td>\n",
       "      <td>100</td>\n",
       "      <td>12</td>\n",
       "      <td>0</td>\n",
       "      <td></td>\n",
       "      <td>3</td>\n",
       "      <td>0</td>\n",
       "      <td>2024-07-16 16:39:45</td>\n",
       "      <td>\\n--, a string of two hyphen-minus characters,...</td>\n",
       "      <td></td>\n",
       "      <td>339535996.0</td>\n",
       "      <td>[1452809, 68713497, 1546216, 907691, 12686647,...</td>\n",
       "      <td>https://no.wikipedia.org/w/index.php?curid=194...</td>\n",
       "      <td>0.000000</td>\n",
       "      <td>1</td>\n",
       "    </tr>\n",
       "    <tr>\n",
       "      <th>70832</th>\n",
       "      <td>1306352</td>\n",
       "      <td>1-Phenylethylamine</td>\n",
       "      <td>https://en.wikipedia.org/wiki/1-Phenylethylamine</td>\n",
       "      <td>100</td>\n",
       "      <td>13</td>\n",
       "      <td>1</td>\n",
       "      <td>Category:Phenethylamines</td>\n",
       "      <td>26</td>\n",
       "      <td>1</td>\n",
       "      <td>2024-06-01 12:31:59</td>\n",
       "      <td>\\n1-Phenylethylamine is the organic compound w...</td>\n",
       "      <td>1phenylethylamine</td>\n",
       "      <td>17313.0</td>\n",
       "      <td>[17096374],[null, 17096374],[17096374, null],[...</td>\n",
       "      <td>https://no.wikipedia.org/w/index.php?curid=130...</td>\n",
       "      <td>0.951046</td>\n",
       "      <td>1</td>\n",
       "    </tr>\n",
       "  </tbody>\n",
       "</table>\n",
       "</div>"
      ],
      "text/plain": [
       "        page_id               title  \\\n",
       "0      19404073                  --   \n",
       "70832   1306352  1-Phenylethylamine   \n",
       "\n",
       "                                                    url  word_count  \\\n",
       "0                      https://en.wikipedia.org/wiki/--         100   \n",
       "70832  https://en.wikipedia.org/wiki/1-Phenylethylamine         100   \n",
       "\n",
       "       outlink_count  category_count                categories  \\\n",
       "0                 12               0                             \n",
       "70832             13               1  Category:Phenethylamines   \n",
       "\n",
       "       template_count  external_link_count       last_modified  \\\n",
       "0                   3                    0 2024-07-16 16:39:45   \n",
       "70832              26                    1 2024-06-01 12:31:59   \n",
       "\n",
       "                                          processed_text        title_match  \\\n",
       "0      \\n--, a string of two hyphen-minus characters,...                      \n",
       "70832  \\n1-Phenylethylamine is the organic compound w...  1phenylethylamine   \n",
       "\n",
       "       total_views                                aggregated_page_ids  \\\n",
       "0      339535996.0  [1452809, 68713497, 1546216, 907691, 12686647,...   \n",
       "70832      17313.0  [17096374],[null, 17096374],[17096374, null],[...   \n",
       "\n",
       "                                           url_pageviews  views_percentile  rn  \n",
       "0      https://no.wikipedia.org/w/index.php?curid=194...          0.000000   1  \n",
       "70832  https://no.wikipedia.org/w/index.php?curid=130...          0.951046   1  "
      ]
     },
     "execution_count": 10,
     "metadata": {},
     "output_type": "execute_result"
    }
   ],
   "source": [
    "# print(\"len(df_top_articles)\", len(df_top_articles))\n",
    "print(f\"len(df_top_articles): {len(df_top_articles):,}\")\n",
    "\n",
    "from_words = 100\n",
    "to_words = 200\n",
    "\n",
    "df_merged = df_top_articles\n",
    "\n",
    "df_merged[df_merged.word_count.between(from_words, to_words)].sort_values(\"word_count\", ascending=True).head(2)"
   ]
  },
  {
   "cell_type": "markdown",
   "metadata": {},
   "source": [
    "#### Do we filter on max outlinks too?\n",
    "\n"
   ]
  },
  {
   "cell_type": "code",
   "execution_count": 11,
   "metadata": {},
   "outputs": [
    {
     "data": {
      "text/html": [
       "<div>\n",
       "<style scoped>\n",
       "    .dataframe tbody tr th:only-of-type {\n",
       "        vertical-align: middle;\n",
       "    }\n",
       "\n",
       "    .dataframe tbody tr th {\n",
       "        vertical-align: top;\n",
       "    }\n",
       "\n",
       "    .dataframe thead th {\n",
       "        text-align: right;\n",
       "    }\n",
       "</style>\n",
       "<table border=\"1\" class=\"dataframe\">\n",
       "  <thead>\n",
       "    <tr style=\"text-align: right;\">\n",
       "      <th></th>\n",
       "      <th>index</th>\n",
       "      <th>page_id</th>\n",
       "      <th>title</th>\n",
       "      <th>url</th>\n",
       "      <th>word_count</th>\n",
       "      <th>outlink_count</th>\n",
       "      <th>category_count</th>\n",
       "      <th>categories</th>\n",
       "      <th>template_count</th>\n",
       "      <th>external_link_count</th>\n",
       "      <th>last_modified</th>\n",
       "      <th>processed_text</th>\n",
       "      <th>title_match</th>\n",
       "      <th>total_views</th>\n",
       "      <th>aggregated_page_ids</th>\n",
       "      <th>url_pageviews</th>\n",
       "      <th>views_percentile</th>\n",
       "      <th>rn</th>\n",
       "    </tr>\n",
       "  </thead>\n",
       "  <tbody>\n",
       "    <tr>\n",
       "      <th>0</th>\n",
       "      <td>58234</td>\n",
       "      <td>26314040</td>\n",
       "      <td>MegaCon</td>\n",
       "      <td>https://en.wikipedia.org/wiki/MegaCon</td>\n",
       "      <td>3399</td>\n",
       "      <td>5115</td>\n",
       "      <td>8</td>\n",
       "      <td>Category:Multigenre conventions|Category:Comic...</td>\n",
       "      <td>127</td>\n",
       "      <td>172</td>\n",
       "      <td>2024-10-04 01:54:29</td>\n",
       "      <td>\\n\\n\\nMegaCon, short for Mega Convention, is a...</td>\n",
       "      <td>megacon</td>\n",
       "      <td>23689.0</td>\n",
       "      <td>[1580482, null],[1580482],[1580482, 6190955],[...</td>\n",
       "      <td>https://no.wikipedia.org/w/index.php?curid=263...</td>\n",
       "      <td>0.782794</td>\n",
       "      <td>1</td>\n",
       "    </tr>\n",
       "    <tr>\n",
       "      <th>1</th>\n",
       "      <td>2607</td>\n",
       "      <td>1248774810</td>\n",
       "      <td>Cuneiform</td>\n",
       "      <td>https://en.wikipedia.org/wiki/Cuneiform</td>\n",
       "      <td>15753</td>\n",
       "      <td>3856</td>\n",
       "      <td>14</td>\n",
       "      <td>Category:Cuneiform|Category:Sumerian language|...</td>\n",
       "      <td>4600</td>\n",
       "      <td>129</td>\n",
       "      <td>2024-10-01 12:02:43</td>\n",
       "      <td>\\n\\n\\n\\n\\n\\n\\nCuneiform is a logo-syllabic wri...</td>\n",
       "      <td>cuneiform</td>\n",
       "      <td>633599.0</td>\n",
       "      <td>[350137],[null, 350137],[39181]</td>\n",
       "      <td>https://no.wikipedia.org/w/index.php?curid=124...</td>\n",
       "      <td>0.035529</td>\n",
       "      <td>1</td>\n",
       "    </tr>\n",
       "    <tr>\n",
       "      <th>2</th>\n",
       "      <td>24583</td>\n",
       "      <td>1249267011</td>\n",
       "      <td>1944</td>\n",
       "      <td>https://en.wikipedia.org/wiki/1944</td>\n",
       "      <td>18092</td>\n",
       "      <td>3629</td>\n",
       "      <td>2</td>\n",
       "      <td>Category:1944|Category:Leap years in the Grego...</td>\n",
       "      <td>158</td>\n",
       "      <td>77</td>\n",
       "      <td>2024-10-04 01:13:01</td>\n",
       "      <td>\\n\\n\\n\\n\\n\\n\\n\\n\\n==Events==\\nBelow, the event...</td>\n",
       "      <td>1944</td>\n",
       "      <td>81597.0</td>\n",
       "      <td>[null, 34622]</td>\n",
       "      <td>https://no.wikipedia.org/w/index.php?curid=124...</td>\n",
       "      <td>0.332408</td>\n",
       "      <td>1</td>\n",
       "    </tr>\n",
       "  </tbody>\n",
       "</table>\n",
       "</div>"
      ],
      "text/plain": [
       "   index     page_id      title                                      url  \\\n",
       "0  58234    26314040    MegaCon    https://en.wikipedia.org/wiki/MegaCon   \n",
       "1   2607  1248774810  Cuneiform  https://en.wikipedia.org/wiki/Cuneiform   \n",
       "2  24583  1249267011       1944       https://en.wikipedia.org/wiki/1944   \n",
       "\n",
       "   word_count  outlink_count  category_count  \\\n",
       "0        3399           5115               8   \n",
       "1       15753           3856              14   \n",
       "2       18092           3629               2   \n",
       "\n",
       "                                          categories  template_count  \\\n",
       "0  Category:Multigenre conventions|Category:Comic...             127   \n",
       "1  Category:Cuneiform|Category:Sumerian language|...            4600   \n",
       "2  Category:1944|Category:Leap years in the Grego...             158   \n",
       "\n",
       "   external_link_count       last_modified  \\\n",
       "0                  172 2024-10-04 01:54:29   \n",
       "1                  129 2024-10-01 12:02:43   \n",
       "2                   77 2024-10-04 01:13:01   \n",
       "\n",
       "                                      processed_text title_match  total_views  \\\n",
       "0  \\n\\n\\nMegaCon, short for Mega Convention, is a...     megacon      23689.0   \n",
       "1  \\n\\n\\n\\n\\n\\n\\nCuneiform is a logo-syllabic wri...   cuneiform     633599.0   \n",
       "2  \\n\\n\\n\\n\\n\\n\\n\\n\\n==Events==\\nBelow, the event...        1944      81597.0   \n",
       "\n",
       "                                 aggregated_page_ids  \\\n",
       "0  [1580482, null],[1580482],[1580482, 6190955],[...   \n",
       "1                    [350137],[null, 350137],[39181]   \n",
       "2                                      [null, 34622]   \n",
       "\n",
       "                                       url_pageviews  views_percentile  rn  \n",
       "0  https://no.wikipedia.org/w/index.php?curid=263...          0.782794   1  \n",
       "1  https://no.wikipedia.org/w/index.php?curid=124...          0.035529   1  \n",
       "2  https://no.wikipedia.org/w/index.php?curid=124...          0.332408   1  "
      ]
     },
     "metadata": {},
     "output_type": "display_data"
    },
    {
     "data": {
      "application/vnd.plotly.v1+json": {
       "config": {
        "plotlyServerURL": "https://plot.ly"
       },
       "data": [
        {
         "customdata": [
          [
           "MegaCon"
          ],
          [
           "Cuneiform"
          ],
          [
           "1944"
          ],
          [
           "1946"
          ],
          [
           "1942"
          ],
          [
           "2000s"
          ],
          [
           "1990s"
          ],
          [
           "1943"
          ],
          [
           "1945"
          ],
          [
           "1941"
          ],
          [
           "Dubbing"
          ],
          [
           "Anne"
          ],
          [
           "Ubba"
          ],
          [
           "2010s"
          ],
          [
           "1979"
          ],
          [
           "1923"
          ],
          [
           "1948"
          ],
          [
           "1967"
          ],
          [
           "1955"
          ],
          [
           "2020s"
          ],
          [
           "Oasis"
          ],
          [
           "1916"
          ],
          [
           "1920"
          ],
          [
           "1961"
          ],
          [
           "1947"
          ],
          [
           "1940"
          ],
          [
           "1962"
          ],
          [
           "1970s"
          ],
          [
           "1918"
          ],
          [
           "1971"
          ],
          [
           "Russia"
          ],
          [
           "Meuse"
          ],
          [
           "Tartan"
          ],
          [
           "1904"
          ],
          [
           "1949"
          ],
          [
           "1980s"
          ],
          [
           "1976"
          ],
          [
           "1921"
          ],
          [
           "1960s"
          ],
          [
           "1963"
          ],
          [
           "1960"
          ],
          [
           "1926"
          ],
          [
           "1978"
          ],
          [
           "1774"
          ],
          [
           "José"
          ],
          [
           "1775"
          ],
          [
           "McLaren"
          ],
          [
           "1968"
          ],
          [
           "1925"
          ],
          [
           "Bach-Werke-Verzeichnis"
          ],
          [
           "1966"
          ],
          [
           "1914"
          ],
          [
           "Philippines"
          ],
          [
           "1939"
          ],
          [
           "1956"
          ],
          [
           "1969"
          ],
          [
           "1965"
          ],
          [
           "1937"
          ],
          [
           "1970"
          ],
          [
           "1917"
          ],
          [
           "1972"
          ],
          [
           "1954"
          ],
          [
           "Liverpool"
          ],
          [
           "1957"
          ],
          [
           "1975"
          ],
          [
           "1950"
          ],
          [
           "Zeus"
          ],
          [
           "1950s"
          ],
          [
           "1915"
          ],
          [
           "1974"
          ],
          [
           "1951"
          ],
          [
           "1927"
          ],
          [
           "1919"
          ],
          [
           "Helios"
          ],
          [
           "1973"
          ]
         ],
         "hovertemplate": "_index=%{x}<br>outlink_count=%{y}<br>title=%{customdata[0]}<extra></extra>",
         "legendgroup": "",
         "marker": {
          "color": "#636efa",
          "symbol": "circle"
         },
         "mode": "markers",
         "name": "",
         "orientation": "v",
         "showlegend": false,
         "type": "scatter",
         "x": [
          0,
          1,
          2,
          3,
          4,
          5,
          6,
          7,
          8,
          9,
          10,
          11,
          12,
          13,
          14,
          15,
          16,
          17,
          18,
          19,
          20,
          21,
          22,
          23,
          24,
          25,
          26,
          27,
          28,
          29,
          30,
          31,
          32,
          33,
          34,
          35,
          36,
          37,
          38,
          39,
          40,
          41,
          42,
          43,
          44,
          45,
          46,
          47,
          48,
          49,
          50,
          51,
          52,
          53,
          54,
          55,
          56,
          57,
          58,
          59,
          60,
          61,
          62,
          63,
          64,
          65,
          66,
          67,
          68,
          69,
          70,
          71,
          72,
          73,
          74
         ],
         "xaxis": "x",
         "y": [
          5115,
          3856,
          3629,
          3331,
          3243,
          3131,
          3019,
          3010,
          2987,
          2837,
          2809,
          2801,
          2756,
          2754,
          2740,
          2670,
          2598,
          2582,
          2539,
          2487,
          2465,
          2438,
          2380,
          2349,
          2339,
          2332,
          2303,
          2302,
          2274,
          2270,
          2266,
          2265,
          2235,
          2185,
          2178,
          2167,
          2147,
          2147,
          2106,
          2093,
          2093,
          2076,
          2055,
          2051,
          2046,
          2010,
          2006,
          1998,
          1992,
          1975,
          1941,
          1928,
          1920,
          1914,
          1910,
          1909,
          1907,
          1904,
          1903,
          1902,
          1898,
          1893,
          1887,
          1878,
          1851,
          1846,
          1836,
          1827,
          1820,
          1814,
          1797,
          1778,
          1770,
          1770,
          1762
         ],
         "yaxis": "y"
        }
       ],
       "layout": {
        "legend": {
         "tracegroupgap": 0
        },
        "margin": {
         "t": 60
        },
        "template": {
         "data": {
          "bar": [
           {
            "error_x": {
             "color": "#2a3f5f"
            },
            "error_y": {
             "color": "#2a3f5f"
            },
            "marker": {
             "line": {
              "color": "#E5ECF6",
              "width": 0.5
             },
             "pattern": {
              "fillmode": "overlay",
              "size": 10,
              "solidity": 0.2
             }
            },
            "type": "bar"
           }
          ],
          "barpolar": [
           {
            "marker": {
             "line": {
              "color": "#E5ECF6",
              "width": 0.5
             },
             "pattern": {
              "fillmode": "overlay",
              "size": 10,
              "solidity": 0.2
             }
            },
            "type": "barpolar"
           }
          ],
          "carpet": [
           {
            "aaxis": {
             "endlinecolor": "#2a3f5f",
             "gridcolor": "white",
             "linecolor": "white",
             "minorgridcolor": "white",
             "startlinecolor": "#2a3f5f"
            },
            "baxis": {
             "endlinecolor": "#2a3f5f",
             "gridcolor": "white",
             "linecolor": "white",
             "minorgridcolor": "white",
             "startlinecolor": "#2a3f5f"
            },
            "type": "carpet"
           }
          ],
          "choropleth": [
           {
            "colorbar": {
             "outlinewidth": 0,
             "ticks": ""
            },
            "type": "choropleth"
           }
          ],
          "contour": [
           {
            "colorbar": {
             "outlinewidth": 0,
             "ticks": ""
            },
            "colorscale": [
             [
              0,
              "#0d0887"
             ],
             [
              0.1111111111111111,
              "#46039f"
             ],
             [
              0.2222222222222222,
              "#7201a8"
             ],
             [
              0.3333333333333333,
              "#9c179e"
             ],
             [
              0.4444444444444444,
              "#bd3786"
             ],
             [
              0.5555555555555556,
              "#d8576b"
             ],
             [
              0.6666666666666666,
              "#ed7953"
             ],
             [
              0.7777777777777778,
              "#fb9f3a"
             ],
             [
              0.8888888888888888,
              "#fdca26"
             ],
             [
              1,
              "#f0f921"
             ]
            ],
            "type": "contour"
           }
          ],
          "contourcarpet": [
           {
            "colorbar": {
             "outlinewidth": 0,
             "ticks": ""
            },
            "type": "contourcarpet"
           }
          ],
          "heatmap": [
           {
            "colorbar": {
             "outlinewidth": 0,
             "ticks": ""
            },
            "colorscale": [
             [
              0,
              "#0d0887"
             ],
             [
              0.1111111111111111,
              "#46039f"
             ],
             [
              0.2222222222222222,
              "#7201a8"
             ],
             [
              0.3333333333333333,
              "#9c179e"
             ],
             [
              0.4444444444444444,
              "#bd3786"
             ],
             [
              0.5555555555555556,
              "#d8576b"
             ],
             [
              0.6666666666666666,
              "#ed7953"
             ],
             [
              0.7777777777777778,
              "#fb9f3a"
             ],
             [
              0.8888888888888888,
              "#fdca26"
             ],
             [
              1,
              "#f0f921"
             ]
            ],
            "type": "heatmap"
           }
          ],
          "heatmapgl": [
           {
            "colorbar": {
             "outlinewidth": 0,
             "ticks": ""
            },
            "colorscale": [
             [
              0,
              "#0d0887"
             ],
             [
              0.1111111111111111,
              "#46039f"
             ],
             [
              0.2222222222222222,
              "#7201a8"
             ],
             [
              0.3333333333333333,
              "#9c179e"
             ],
             [
              0.4444444444444444,
              "#bd3786"
             ],
             [
              0.5555555555555556,
              "#d8576b"
             ],
             [
              0.6666666666666666,
              "#ed7953"
             ],
             [
              0.7777777777777778,
              "#fb9f3a"
             ],
             [
              0.8888888888888888,
              "#fdca26"
             ],
             [
              1,
              "#f0f921"
             ]
            ],
            "type": "heatmapgl"
           }
          ],
          "histogram": [
           {
            "marker": {
             "pattern": {
              "fillmode": "overlay",
              "size": 10,
              "solidity": 0.2
             }
            },
            "type": "histogram"
           }
          ],
          "histogram2d": [
           {
            "colorbar": {
             "outlinewidth": 0,
             "ticks": ""
            },
            "colorscale": [
             [
              0,
              "#0d0887"
             ],
             [
              0.1111111111111111,
              "#46039f"
             ],
             [
              0.2222222222222222,
              "#7201a8"
             ],
             [
              0.3333333333333333,
              "#9c179e"
             ],
             [
              0.4444444444444444,
              "#bd3786"
             ],
             [
              0.5555555555555556,
              "#d8576b"
             ],
             [
              0.6666666666666666,
              "#ed7953"
             ],
             [
              0.7777777777777778,
              "#fb9f3a"
             ],
             [
              0.8888888888888888,
              "#fdca26"
             ],
             [
              1,
              "#f0f921"
             ]
            ],
            "type": "histogram2d"
           }
          ],
          "histogram2dcontour": [
           {
            "colorbar": {
             "outlinewidth": 0,
             "ticks": ""
            },
            "colorscale": [
             [
              0,
              "#0d0887"
             ],
             [
              0.1111111111111111,
              "#46039f"
             ],
             [
              0.2222222222222222,
              "#7201a8"
             ],
             [
              0.3333333333333333,
              "#9c179e"
             ],
             [
              0.4444444444444444,
              "#bd3786"
             ],
             [
              0.5555555555555556,
              "#d8576b"
             ],
             [
              0.6666666666666666,
              "#ed7953"
             ],
             [
              0.7777777777777778,
              "#fb9f3a"
             ],
             [
              0.8888888888888888,
              "#fdca26"
             ],
             [
              1,
              "#f0f921"
             ]
            ],
            "type": "histogram2dcontour"
           }
          ],
          "mesh3d": [
           {
            "colorbar": {
             "outlinewidth": 0,
             "ticks": ""
            },
            "type": "mesh3d"
           }
          ],
          "parcoords": [
           {
            "line": {
             "colorbar": {
              "outlinewidth": 0,
              "ticks": ""
             }
            },
            "type": "parcoords"
           }
          ],
          "pie": [
           {
            "automargin": true,
            "type": "pie"
           }
          ],
          "scatter": [
           {
            "fillpattern": {
             "fillmode": "overlay",
             "size": 10,
             "solidity": 0.2
            },
            "type": "scatter"
           }
          ],
          "scatter3d": [
           {
            "line": {
             "colorbar": {
              "outlinewidth": 0,
              "ticks": ""
             }
            },
            "marker": {
             "colorbar": {
              "outlinewidth": 0,
              "ticks": ""
             }
            },
            "type": "scatter3d"
           }
          ],
          "scattercarpet": [
           {
            "marker": {
             "colorbar": {
              "outlinewidth": 0,
              "ticks": ""
             }
            },
            "type": "scattercarpet"
           }
          ],
          "scattergeo": [
           {
            "marker": {
             "colorbar": {
              "outlinewidth": 0,
              "ticks": ""
             }
            },
            "type": "scattergeo"
           }
          ],
          "scattergl": [
           {
            "marker": {
             "colorbar": {
              "outlinewidth": 0,
              "ticks": ""
             }
            },
            "type": "scattergl"
           }
          ],
          "scattermapbox": [
           {
            "marker": {
             "colorbar": {
              "outlinewidth": 0,
              "ticks": ""
             }
            },
            "type": "scattermapbox"
           }
          ],
          "scatterpolar": [
           {
            "marker": {
             "colorbar": {
              "outlinewidth": 0,
              "ticks": ""
             }
            },
            "type": "scatterpolar"
           }
          ],
          "scatterpolargl": [
           {
            "marker": {
             "colorbar": {
              "outlinewidth": 0,
              "ticks": ""
             }
            },
            "type": "scatterpolargl"
           }
          ],
          "scatterternary": [
           {
            "marker": {
             "colorbar": {
              "outlinewidth": 0,
              "ticks": ""
             }
            },
            "type": "scatterternary"
           }
          ],
          "surface": [
           {
            "colorbar": {
             "outlinewidth": 0,
             "ticks": ""
            },
            "colorscale": [
             [
              0,
              "#0d0887"
             ],
             [
              0.1111111111111111,
              "#46039f"
             ],
             [
              0.2222222222222222,
              "#7201a8"
             ],
             [
              0.3333333333333333,
              "#9c179e"
             ],
             [
              0.4444444444444444,
              "#bd3786"
             ],
             [
              0.5555555555555556,
              "#d8576b"
             ],
             [
              0.6666666666666666,
              "#ed7953"
             ],
             [
              0.7777777777777778,
              "#fb9f3a"
             ],
             [
              0.8888888888888888,
              "#fdca26"
             ],
             [
              1,
              "#f0f921"
             ]
            ],
            "type": "surface"
           }
          ],
          "table": [
           {
            "cells": {
             "fill": {
              "color": "#EBF0F8"
             },
             "line": {
              "color": "white"
             }
            },
            "header": {
             "fill": {
              "color": "#C8D4E3"
             },
             "line": {
              "color": "white"
             }
            },
            "type": "table"
           }
          ]
         },
         "layout": {
          "annotationdefaults": {
           "arrowcolor": "#2a3f5f",
           "arrowhead": 0,
           "arrowwidth": 1
          },
          "autotypenumbers": "strict",
          "coloraxis": {
           "colorbar": {
            "outlinewidth": 0,
            "ticks": ""
           }
          },
          "colorscale": {
           "diverging": [
            [
             0,
             "#8e0152"
            ],
            [
             0.1,
             "#c51b7d"
            ],
            [
             0.2,
             "#de77ae"
            ],
            [
             0.3,
             "#f1b6da"
            ],
            [
             0.4,
             "#fde0ef"
            ],
            [
             0.5,
             "#f7f7f7"
            ],
            [
             0.6,
             "#e6f5d0"
            ],
            [
             0.7,
             "#b8e186"
            ],
            [
             0.8,
             "#7fbc41"
            ],
            [
             0.9,
             "#4d9221"
            ],
            [
             1,
             "#276419"
            ]
           ],
           "sequential": [
            [
             0,
             "#0d0887"
            ],
            [
             0.1111111111111111,
             "#46039f"
            ],
            [
             0.2222222222222222,
             "#7201a8"
            ],
            [
             0.3333333333333333,
             "#9c179e"
            ],
            [
             0.4444444444444444,
             "#bd3786"
            ],
            [
             0.5555555555555556,
             "#d8576b"
            ],
            [
             0.6666666666666666,
             "#ed7953"
            ],
            [
             0.7777777777777778,
             "#fb9f3a"
            ],
            [
             0.8888888888888888,
             "#fdca26"
            ],
            [
             1,
             "#f0f921"
            ]
           ],
           "sequentialminus": [
            [
             0,
             "#0d0887"
            ],
            [
             0.1111111111111111,
             "#46039f"
            ],
            [
             0.2222222222222222,
             "#7201a8"
            ],
            [
             0.3333333333333333,
             "#9c179e"
            ],
            [
             0.4444444444444444,
             "#bd3786"
            ],
            [
             0.5555555555555556,
             "#d8576b"
            ],
            [
             0.6666666666666666,
             "#ed7953"
            ],
            [
             0.7777777777777778,
             "#fb9f3a"
            ],
            [
             0.8888888888888888,
             "#fdca26"
            ],
            [
             1,
             "#f0f921"
            ]
           ]
          },
          "colorway": [
           "#636efa",
           "#EF553B",
           "#00cc96",
           "#ab63fa",
           "#FFA15A",
           "#19d3f3",
           "#FF6692",
           "#B6E880",
           "#FF97FF",
           "#FECB52"
          ],
          "font": {
           "color": "#2a3f5f"
          },
          "geo": {
           "bgcolor": "white",
           "lakecolor": "white",
           "landcolor": "#E5ECF6",
           "showlakes": true,
           "showland": true,
           "subunitcolor": "white"
          },
          "hoverlabel": {
           "align": "left"
          },
          "hovermode": "closest",
          "mapbox": {
           "style": "light"
          },
          "paper_bgcolor": "white",
          "plot_bgcolor": "#E5ECF6",
          "polar": {
           "angularaxis": {
            "gridcolor": "white",
            "linecolor": "white",
            "ticks": ""
           },
           "bgcolor": "#E5ECF6",
           "radialaxis": {
            "gridcolor": "white",
            "linecolor": "white",
            "ticks": ""
           }
          },
          "scene": {
           "xaxis": {
            "backgroundcolor": "#E5ECF6",
            "gridcolor": "white",
            "gridwidth": 2,
            "linecolor": "white",
            "showbackground": true,
            "ticks": "",
            "zerolinecolor": "white"
           },
           "yaxis": {
            "backgroundcolor": "#E5ECF6",
            "gridcolor": "white",
            "gridwidth": 2,
            "linecolor": "white",
            "showbackground": true,
            "ticks": "",
            "zerolinecolor": "white"
           },
           "zaxis": {
            "backgroundcolor": "#E5ECF6",
            "gridcolor": "white",
            "gridwidth": 2,
            "linecolor": "white",
            "showbackground": true,
            "ticks": "",
            "zerolinecolor": "white"
           }
          },
          "shapedefaults": {
           "line": {
            "color": "#2a3f5f"
           }
          },
          "ternary": {
           "aaxis": {
            "gridcolor": "white",
            "linecolor": "white",
            "ticks": ""
           },
           "baxis": {
            "gridcolor": "white",
            "linecolor": "white",
            "ticks": ""
           },
           "bgcolor": "#E5ECF6",
           "caxis": {
            "gridcolor": "white",
            "linecolor": "white",
            "ticks": ""
           }
          },
          "title": {
           "x": 0.05
          },
          "xaxis": {
           "automargin": true,
           "gridcolor": "white",
           "linecolor": "white",
           "ticks": "",
           "title": {
            "standoff": 15
           },
           "zerolinecolor": "white",
           "zerolinewidth": 2
          },
          "yaxis": {
           "automargin": true,
           "gridcolor": "white",
           "linecolor": "white",
           "ticks": "",
           "title": {
            "standoff": 15
           },
           "zerolinecolor": "white",
           "zerolinewidth": 2
          }
         }
        },
        "xaxis": {
         "anchor": "y",
         "domain": [
          0,
          1
         ],
         "title": {
          "text": "_index"
         }
        },
        "yaxis": {
         "anchor": "x",
         "domain": [
          0,
          1
         ],
         "title": {
          "text": "outlink_count"
         }
        }
       }
      }
     },
     "metadata": {},
     "output_type": "display_data"
    }
   ],
   "source": [
    "import plotly.express as px\n",
    "\n",
    "\n",
    "N_PLOT = 75\n",
    "\n",
    "df_plot = df_merged.sort_values(\"outlink_count\", ascending=False).head(N_PLOT).copy().reset_index()\n",
    "\n",
    "display(df_plot.head(3))\n",
    "px.scatter(df_plot, x=df_plot.index, y=\"outlink_count\", hover_data=[\"title\"])\n"
   ]
  },
  {
   "cell_type": "markdown",
   "metadata": {},
   "source": [
    "**I would say no, not valuable.**"
   ]
  },
  {
   "cell_type": "code",
   "execution_count": 12,
   "metadata": {},
   "outputs": [
    {
     "data": {
      "text/html": [
       "<div>\n",
       "<style scoped>\n",
       "    .dataframe tbody tr th:only-of-type {\n",
       "        vertical-align: middle;\n",
       "    }\n",
       "\n",
       "    .dataframe tbody tr th {\n",
       "        vertical-align: top;\n",
       "    }\n",
       "\n",
       "    .dataframe thead th {\n",
       "        text-align: right;\n",
       "    }\n",
       "</style>\n",
       "<table border=\"1\" class=\"dataframe\">\n",
       "  <thead>\n",
       "    <tr style=\"text-align: right;\">\n",
       "      <th></th>\n",
       "      <th>page_id</th>\n",
       "      <th>title</th>\n",
       "      <th>url</th>\n",
       "      <th>word_count</th>\n",
       "      <th>outlink_count</th>\n",
       "      <th>category_count</th>\n",
       "      <th>categories</th>\n",
       "      <th>template_count</th>\n",
       "      <th>external_link_count</th>\n",
       "      <th>last_modified</th>\n",
       "      <th>processed_text</th>\n",
       "      <th>title_match</th>\n",
       "      <th>total_views</th>\n",
       "      <th>aggregated_page_ids</th>\n",
       "      <th>url_pageviews</th>\n",
       "      <th>views_percentile</th>\n",
       "      <th>rn</th>\n",
       "    </tr>\n",
       "  </thead>\n",
       "  <tbody>\n",
       "    <tr>\n",
       "      <th>0</th>\n",
       "      <td>19404073</td>\n",
       "      <td>--</td>\n",
       "      <td>https://en.wikipedia.org/wiki/--</td>\n",
       "      <td>100</td>\n",
       "      <td>12</td>\n",
       "      <td>0</td>\n",
       "      <td></td>\n",
       "      <td>3</td>\n",
       "      <td>0</td>\n",
       "      <td>2024-07-16 16:39:45</td>\n",
       "      <td>\\n--, a string of two hyphen-minus characters,...</td>\n",
       "      <td></td>\n",
       "      <td>339535996.0</td>\n",
       "      <td>[1452809, 68713497, 1546216, 907691, 12686647,...</td>\n",
       "      <td>https://no.wikipedia.org/w/index.php?curid=194...</td>\n",
       "      <td>0.000000</td>\n",
       "      <td>1</td>\n",
       "    </tr>\n",
       "    <tr>\n",
       "      <th>1</th>\n",
       "      <td>299135</td>\n",
       "      <td>YouTube</td>\n",
       "      <td>https://en.wikipedia.org/wiki/YouTube</td>\n",
       "      <td>17507</td>\n",
       "      <td>1244</td>\n",
       "      <td>23</td>\n",
       "      <td>Category:YouTube|Category:2005 establishments ...</td>\n",
       "      <td>802</td>\n",
       "      <td>1029</td>\n",
       "      <td>2024-10-04 20:25:03</td>\n",
       "      <td>\\n\\n\\n\\n\\n\\n\\n\\nYouTube  is an American online...</td>\n",
       "      <td>youtube</td>\n",
       "      <td>61184976.0</td>\n",
       "      <td>[3524766, 18021924],[3524766, 23602489],[35247...</td>\n",
       "      <td>https://no.wikipedia.org/w/index.php?curid=299135</td>\n",
       "      <td>0.000013</td>\n",
       "      <td>1</td>\n",
       "    </tr>\n",
       "    <tr>\n",
       "      <th>2</th>\n",
       "      <td>48474643</td>\n",
       "      <td>Cleopatra</td>\n",
       "      <td>https://en.wikipedia.org/wiki/Cleopatra</td>\n",
       "      <td>17807</td>\n",
       "      <td>1109</td>\n",
       "      <td>22</td>\n",
       "      <td>Category:Cleopatra|Category:69 BC births|Categ...</td>\n",
       "      <td>1398</td>\n",
       "      <td>140</td>\n",
       "      <td>2024-10-04 04:20:49</td>\n",
       "      <td>\\n\\n\\n\\n\\n\\n\\n\\n\\n\\n\\nCleopatra VII Thea Philo...</td>\n",
       "      <td>cleopatra</td>\n",
       "      <td>55414365.0</td>\n",
       "      <td>[60827],[60827, null, 1359777],[null, 57659752...</td>\n",
       "      <td>https://no.wikipedia.org/w/index.php?curid=484...</td>\n",
       "      <td>0.000026</td>\n",
       "      <td>1</td>\n",
       "    </tr>\n",
       "    <tr>\n",
       "      <th>3</th>\n",
       "      <td>40943757</td>\n",
       "      <td>XXXTentacion</td>\n",
       "      <td>https://en.wikipedia.org/wiki/XXXTentacion</td>\n",
       "      <td>12332</td>\n",
       "      <td>617</td>\n",
       "      <td>38</td>\n",
       "      <td>Category:XXXTentacion|Category:1998 births|Cat...</td>\n",
       "      <td>525</td>\n",
       "      <td>636</td>\n",
       "      <td>2024-09-30 13:11:39</td>\n",
       "      <td>\\n\\n\\n\\n\\n\\nJahseh Dwayne Ricardo Onfroy (Janu...</td>\n",
       "      <td>xxxtentacion</td>\n",
       "      <td>42377950.0</td>\n",
       "      <td>[53039739],[null, 53039739],[53702987, 5303973...</td>\n",
       "      <td>https://no.wikipedia.org/w/index.php?curid=409...</td>\n",
       "      <td>0.000040</td>\n",
       "      <td>1</td>\n",
       "    </tr>\n",
       "    <tr>\n",
       "      <th>4</th>\n",
       "      <td>39604324</td>\n",
       "      <td>Pornhub</td>\n",
       "      <td>https://en.wikipedia.org/wiki/Pornhub</td>\n",
       "      <td>3624</td>\n",
       "      <td>231</td>\n",
       "      <td>10</td>\n",
       "      <td>Category:2007 establishments in Quebec|Categor...</td>\n",
       "      <td>182</td>\n",
       "      <td>277</td>\n",
       "      <td>2024-09-29 18:35:56</td>\n",
       "      <td>\\n\\n\\n\\n\\nPornhub is a Canadian-owned internet...</td>\n",
       "      <td>pornhub</td>\n",
       "      <td>40291676.0</td>\n",
       "      <td>[45492650, null, 29555076],[45492650, 32036801...</td>\n",
       "      <td>https://no.wikipedia.org/w/index.php?curid=396...</td>\n",
       "      <td>0.000053</td>\n",
       "      <td>1</td>\n",
       "    </tr>\n",
       "    <tr>\n",
       "      <th>...</th>\n",
       "      <td>...</td>\n",
       "      <td>...</td>\n",
       "      <td>...</td>\n",
       "      <td>...</td>\n",
       "      <td>...</td>\n",
       "      <td>...</td>\n",
       "      <td>...</td>\n",
       "      <td>...</td>\n",
       "      <td>...</td>\n",
       "      <td>...</td>\n",
       "      <td>...</td>\n",
       "      <td>...</td>\n",
       "      <td>...</td>\n",
       "      <td>...</td>\n",
       "      <td>...</td>\n",
       "      <td>...</td>\n",
       "      <td>...</td>\n",
       "    </tr>\n",
       "    <tr>\n",
       "      <th>74492</th>\n",
       "      <td>44734349</td>\n",
       "      <td>Avicennism</td>\n",
       "      <td>https://en.wikipedia.org/wiki/Avicennism</td>\n",
       "      <td>322</td>\n",
       "      <td>31</td>\n",
       "      <td>5</td>\n",
       "      <td>Category:Avicenna|Category:Aristotelianism|Cat...</td>\n",
       "      <td>16</td>\n",
       "      <td>1</td>\n",
       "      <td>2024-08-15 07:57:19</td>\n",
       "      <td>\\n\\nAvicennism is a school of Islamic philosop...</td>\n",
       "      <td>avicennism</td>\n",
       "      <td>15924.0</td>\n",
       "      <td>[null, 14918546],[14918546]</td>\n",
       "      <td>https://no.wikipedia.org/w/index.php?curid=447...</td>\n",
       "      <td>0.999947</td>\n",
       "      <td>1</td>\n",
       "    </tr>\n",
       "    <tr>\n",
       "      <th>74493</th>\n",
       "      <td>45687108</td>\n",
       "      <td>Hyperbaton</td>\n",
       "      <td>https://en.wikipedia.org/wiki/Hyperbaton</td>\n",
       "      <td>2164</td>\n",
       "      <td>56</td>\n",
       "      <td>6</td>\n",
       "      <td>Category:Rhetorical techniques|Category:Word o...</td>\n",
       "      <td>70</td>\n",
       "      <td>14</td>\n",
       "      <td>2024-06-01 03:52:46</td>\n",
       "      <td>\\n\\nHyperbaton , in its original meaning, is a...</td>\n",
       "      <td>hyperbaton</td>\n",
       "      <td>15923.0</td>\n",
       "      <td>[92378, null]</td>\n",
       "      <td>https://no.wikipedia.org/w/index.php?curid=456...</td>\n",
       "      <td>0.999960</td>\n",
       "      <td>1</td>\n",
       "    </tr>\n",
       "    <tr>\n",
       "      <th>74494</th>\n",
       "      <td>25511559</td>\n",
       "      <td>Alasdair</td>\n",
       "      <td>https://en.wikipedia.org/wiki/Alasdair</td>\n",
       "      <td>576</td>\n",
       "      <td>87</td>\n",
       "      <td>3</td>\n",
       "      <td>Category:Scottish Gaelic masculine given names...</td>\n",
       "      <td>6</td>\n",
       "      <td>0</td>\n",
       "      <td>2024-04-11 11:38:02</td>\n",
       "      <td>\\nAlasdair () is a Scottish Gaelic given name....</td>\n",
       "      <td>alasdair</td>\n",
       "      <td>15923.0</td>\n",
       "      <td>[null, 561149]</td>\n",
       "      <td>https://no.wikipedia.org/w/index.php?curid=255...</td>\n",
       "      <td>0.999960</td>\n",
       "      <td>1</td>\n",
       "    </tr>\n",
       "    <tr>\n",
       "      <th>74495</th>\n",
       "      <td>46892060</td>\n",
       "      <td>Angon</td>\n",
       "      <td>https://en.wikipedia.org/wiki/Angon</td>\n",
       "      <td>618</td>\n",
       "      <td>46</td>\n",
       "      <td>3</td>\n",
       "      <td>Category:Ancient weapons|Category:Germanic wea...</td>\n",
       "      <td>16</td>\n",
       "      <td>5</td>\n",
       "      <td>2023-11-19 13:46:15</td>\n",
       "      <td>\\n\\n\\n\\nThe angon (Medieval Greek , Old High G...</td>\n",
       "      <td>angon</td>\n",
       "      <td>15923.0</td>\n",
       "      <td>[null, 16493686]</td>\n",
       "      <td>https://no.wikipedia.org/w/index.php?curid=468...</td>\n",
       "      <td>0.999960</td>\n",
       "      <td>1</td>\n",
       "    </tr>\n",
       "    <tr>\n",
       "      <th>74496</th>\n",
       "      <td>1152308</td>\n",
       "      <td>Gokuldham</td>\n",
       "      <td>https://en.wikipedia.org/wiki/Gokuldham</td>\n",
       "      <td>131</td>\n",
       "      <td>20</td>\n",
       "      <td>1</td>\n",
       "      <td>Category:Neighbourhoods in Mumbai</td>\n",
       "      <td>8</td>\n",
       "      <td>1</td>\n",
       "      <td>2024-03-23 21:43:58</td>\n",
       "      <td>\\n\\n\\n\\n\\nGokuldham is a densely populated nei...</td>\n",
       "      <td>gokuldham</td>\n",
       "      <td>15922.0</td>\n",
       "      <td>[null, 4046745]</td>\n",
       "      <td>https://no.wikipedia.org/w/index.php?curid=115...</td>\n",
       "      <td>1.000000</td>\n",
       "      <td>1</td>\n",
       "    </tr>\n",
       "  </tbody>\n",
       "</table>\n",
       "<p>74497 rows × 17 columns</p>\n",
       "</div>"
      ],
      "text/plain": [
       "        page_id         title                                         url  \\\n",
       "0      19404073            --            https://en.wikipedia.org/wiki/--   \n",
       "1        299135       YouTube       https://en.wikipedia.org/wiki/YouTube   \n",
       "2      48474643     Cleopatra     https://en.wikipedia.org/wiki/Cleopatra   \n",
       "3      40943757  XXXTentacion  https://en.wikipedia.org/wiki/XXXTentacion   \n",
       "4      39604324       Pornhub       https://en.wikipedia.org/wiki/Pornhub   \n",
       "...         ...           ...                                         ...   \n",
       "74492  44734349    Avicennism    https://en.wikipedia.org/wiki/Avicennism   \n",
       "74493  45687108    Hyperbaton    https://en.wikipedia.org/wiki/Hyperbaton   \n",
       "74494  25511559      Alasdair      https://en.wikipedia.org/wiki/Alasdair   \n",
       "74495  46892060         Angon         https://en.wikipedia.org/wiki/Angon   \n",
       "74496   1152308     Gokuldham     https://en.wikipedia.org/wiki/Gokuldham   \n",
       "\n",
       "       word_count  outlink_count  category_count  \\\n",
       "0             100             12               0   \n",
       "1           17507           1244              23   \n",
       "2           17807           1109              22   \n",
       "3           12332            617              38   \n",
       "4            3624            231              10   \n",
       "...           ...            ...             ...   \n",
       "74492         322             31               5   \n",
       "74493        2164             56               6   \n",
       "74494         576             87               3   \n",
       "74495         618             46               3   \n",
       "74496         131             20               1   \n",
       "\n",
       "                                              categories  template_count  \\\n",
       "0                                                                      3   \n",
       "1      Category:YouTube|Category:2005 establishments ...             802   \n",
       "2      Category:Cleopatra|Category:69 BC births|Categ...            1398   \n",
       "3      Category:XXXTentacion|Category:1998 births|Cat...             525   \n",
       "4      Category:2007 establishments in Quebec|Categor...             182   \n",
       "...                                                  ...             ...   \n",
       "74492  Category:Avicenna|Category:Aristotelianism|Cat...              16   \n",
       "74493  Category:Rhetorical techniques|Category:Word o...              70   \n",
       "74494  Category:Scottish Gaelic masculine given names...               6   \n",
       "74495  Category:Ancient weapons|Category:Germanic wea...              16   \n",
       "74496                  Category:Neighbourhoods in Mumbai               8   \n",
       "\n",
       "       external_link_count       last_modified  \\\n",
       "0                        0 2024-07-16 16:39:45   \n",
       "1                     1029 2024-10-04 20:25:03   \n",
       "2                      140 2024-10-04 04:20:49   \n",
       "3                      636 2024-09-30 13:11:39   \n",
       "4                      277 2024-09-29 18:35:56   \n",
       "...                    ...                 ...   \n",
       "74492                    1 2024-08-15 07:57:19   \n",
       "74493                   14 2024-06-01 03:52:46   \n",
       "74494                    0 2024-04-11 11:38:02   \n",
       "74495                    5 2023-11-19 13:46:15   \n",
       "74496                    1 2024-03-23 21:43:58   \n",
       "\n",
       "                                          processed_text   title_match  \\\n",
       "0      \\n--, a string of two hyphen-minus characters,...                 \n",
       "1      \\n\\n\\n\\n\\n\\n\\n\\nYouTube  is an American online...       youtube   \n",
       "2      \\n\\n\\n\\n\\n\\n\\n\\n\\n\\n\\nCleopatra VII Thea Philo...     cleopatra   \n",
       "3      \\n\\n\\n\\n\\n\\nJahseh Dwayne Ricardo Onfroy (Janu...  xxxtentacion   \n",
       "4      \\n\\n\\n\\n\\nPornhub is a Canadian-owned internet...       pornhub   \n",
       "...                                                  ...           ...   \n",
       "74492  \\n\\nAvicennism is a school of Islamic philosop...    avicennism   \n",
       "74493  \\n\\nHyperbaton , in its original meaning, is a...    hyperbaton   \n",
       "74494  \\nAlasdair () is a Scottish Gaelic given name....      alasdair   \n",
       "74495  \\n\\n\\n\\nThe angon (Medieval Greek , Old High G...         angon   \n",
       "74496  \\n\\n\\n\\n\\nGokuldham is a densely populated nei...     gokuldham   \n",
       "\n",
       "       total_views                                aggregated_page_ids  \\\n",
       "0      339535996.0  [1452809, 68713497, 1546216, 907691, 12686647,...   \n",
       "1       61184976.0  [3524766, 18021924],[3524766, 23602489],[35247...   \n",
       "2       55414365.0  [60827],[60827, null, 1359777],[null, 57659752...   \n",
       "3       42377950.0  [53039739],[null, 53039739],[53702987, 5303973...   \n",
       "4       40291676.0  [45492650, null, 29555076],[45492650, 32036801...   \n",
       "...            ...                                                ...   \n",
       "74492      15924.0                        [null, 14918546],[14918546]   \n",
       "74493      15923.0                                      [92378, null]   \n",
       "74494      15923.0                                     [null, 561149]   \n",
       "74495      15923.0                                   [null, 16493686]   \n",
       "74496      15922.0                                    [null, 4046745]   \n",
       "\n",
       "                                           url_pageviews  views_percentile  rn  \n",
       "0      https://no.wikipedia.org/w/index.php?curid=194...          0.000000   1  \n",
       "1      https://no.wikipedia.org/w/index.php?curid=299135          0.000013   1  \n",
       "2      https://no.wikipedia.org/w/index.php?curid=484...          0.000026   1  \n",
       "3      https://no.wikipedia.org/w/index.php?curid=409...          0.000040   1  \n",
       "4      https://no.wikipedia.org/w/index.php?curid=396...          0.000053   1  \n",
       "...                                                  ...               ...  ..  \n",
       "74492  https://no.wikipedia.org/w/index.php?curid=447...          0.999947   1  \n",
       "74493  https://no.wikipedia.org/w/index.php?curid=456...          0.999960   1  \n",
       "74494  https://no.wikipedia.org/w/index.php?curid=255...          0.999960   1  \n",
       "74495  https://no.wikipedia.org/w/index.php?curid=468...          0.999960   1  \n",
       "74496  https://no.wikipedia.org/w/index.php?curid=115...          1.000000   1  \n",
       "\n",
       "[74497 rows x 17 columns]"
      ]
     },
     "execution_count": 12,
     "metadata": {},
     "output_type": "execute_result"
    }
   ],
   "source": [
    "df_merged = df_merged.sort_values(by=\"total_views\", ascending=False)\n",
    "\n",
    "df_merged"
   ]
  },
  {
   "cell_type": "markdown",
   "metadata": {},
   "source": []
  },
  {
   "cell_type": "markdown",
   "metadata": {},
   "source": [
    "**In the case of the english wikipedia, going by only pageviews seems to work well..**\n",
    "\n",
    "Lets just keep the roughly 75K articles here. "
   ]
  },
  {
   "cell_type": "markdown",
   "metadata": {},
   "source": [
    "## Now chunk to analyze how embeddings would go"
   ]
  },
  {
   "cell_type": "code",
   "execution_count": 28,
   "metadata": {},
   "outputs": [],
   "source": [
    "\"\"\"\n",
    "Choose n articles\n",
    "\"\"\"\n",
    "mask = ((df_merged[\"word_count\"] > 50))\n",
    "# n_articles_to_keep = len(df_merged)\n",
    "# n_articles_to_keep = 25_000\n",
    "n_articles_to_keep = 50_000\n",
    "df_filtered = df_merged[mask].head(n_articles_to_keep)\n",
    "\n"
   ]
  },
  {
   "cell_type": "code",
   "execution_count": 29,
   "metadata": {},
   "outputs": [
    {
     "name": "stderr",
     "output_type": "stream",
     "text": [
      "/Users/einar/progs/python/3.10.14/lib/python3.10/html/parser.py:170: XMLParsedAsHTMLWarning:\n",
      "\n",
      "It looks like you're parsing an XML document using an HTML parser. If this really is an HTML document (maybe it's XHTML?), you can ignore or filter this warning. If it's XML, you should know that using an XML parser will be more reliable. To parse this document as XML, make sure you have the lxml package installed, and pass the keyword argument `features=\"xml\"` into the BeautifulSoup constructor.\n",
      "\n"
     ]
    },
    {
     "name": "stdout",
     "output_type": "stream",
     "text": [
      "Total number of chunks: 753,048\n"
     ]
    },
    {
     "data": {
      "text/html": [
       "<div>\n",
       "<style scoped>\n",
       "    .dataframe tbody tr th:only-of-type {\n",
       "        vertical-align: middle;\n",
       "    }\n",
       "\n",
       "    .dataframe tbody tr th {\n",
       "        vertical-align: top;\n",
       "    }\n",
       "\n",
       "    .dataframe thead th {\n",
       "        text-align: right;\n",
       "    }\n",
       "</style>\n",
       "<table border=\"1\" class=\"dataframe\">\n",
       "  <thead>\n",
       "    <tr style=\"text-align: right;\">\n",
       "      <th></th>\n",
       "      <th>page_id</th>\n",
       "      <th>title</th>\n",
       "      <th>url</th>\n",
       "      <th>word_count</th>\n",
       "      <th>outlink_count</th>\n",
       "      <th>category_count</th>\n",
       "      <th>categories</th>\n",
       "      <th>template_count</th>\n",
       "      <th>external_link_count</th>\n",
       "      <th>last_modified</th>\n",
       "      <th>processed_text</th>\n",
       "      <th>title_match</th>\n",
       "      <th>total_views</th>\n",
       "      <th>aggregated_page_ids</th>\n",
       "      <th>url_pageviews</th>\n",
       "      <th>views_percentile</th>\n",
       "      <th>rn</th>\n",
       "      <th>chunk_size</th>\n",
       "      <th>split_text</th>\n",
       "      <th>n_chunks</th>\n",
       "      <th>n_words_per_chunk</th>\n",
       "    </tr>\n",
       "  </thead>\n",
       "  <tbody>\n",
       "    <tr>\n",
       "      <th>7272</th>\n",
       "      <td>1249296276</td>\n",
       "      <td>2000s</td>\n",
       "      <td>https://en.wikipedia.org/wiki/2000s</td>\n",
       "      <td>33738</td>\n",
       "      <td>3131</td>\n",
       "      <td>5</td>\n",
       "      <td>Category:2000s|Category:20th century|Category:21st century|Category:Contemporary history|Category:2000s decade overv...</td>\n",
       "      <td>571</td>\n",
       "      <td>866</td>\n",
       "      <td>2024-10-04 05:23:25</td>\n",
       "      <td>\\n\\n\\n\\nFile:2000s decade montage3.png|From top left, clockwise: The World Trade Center on fire and the Statue of Li...</td>\n",
       "      <td>2000s</td>\n",
       "      <td>293131.0</td>\n",
       "      <td>[36397, null, 19671240, 34579],[null, 607345, 34579, 376856, 562706, 412483, 126896, 496660, 575321],[19671240, null...</td>\n",
       "      <td>https://no.wikipedia.org/w/index.php?curid=1249296276</td>\n",
       "      <td>0.099228</td>\n",
       "      <td>1</td>\n",
       "      <td>1318</td>\n",
       "      <td>[File:2000s decade montage3.png|From top left, clockwise: The World Trade Center on fire and the Statue of Liberty d...</td>\n",
       "      <td>229</td>\n",
       "      <td>[227, 182, 197, 128, 131, 157, 198, 191, 191, 195, 68, 189, 187, 60, 53, 119, 203, 163, 163, 200, 69, 125, 200, 61, ...</td>\n",
       "    </tr>\n",
       "    <tr>\n",
       "      <th>6937</th>\n",
       "      <td>47999371</td>\n",
       "      <td>Contract</td>\n",
       "      <td>https://en.wikipedia.org/wiki/Contract</td>\n",
       "      <td>27356</td>\n",
       "      <td>801</td>\n",
       "      <td>2</td>\n",
       "      <td>Category:Contract law|Category:Legal documents</td>\n",
       "      <td>232</td>\n",
       "      <td>264</td>\n",
       "      <td>2024-09-30 13:08:35</td>\n",
       "      <td>\\n\\n\\n\\n\\nA contract is an agreement that specifies certain legally enforceable rights and obligations pertaining to...</td>\n",
       "      <td>contract</td>\n",
       "      <td>306356.0</td>\n",
       "      <td>[19280537],[19280537, null],[null, 19280537]</td>\n",
       "      <td>https://no.wikipedia.org/w/index.php?curid=47999371</td>\n",
       "      <td>0.094670</td>\n",
       "      <td>1</td>\n",
       "      <td>1240</td>\n",
       "      <td>[A contract is an agreement that specifies certain legally enforceable rights and obligations pertaining to two or m...</td>\n",
       "      <td>208</td>\n",
       "      <td>[98, 114, 173, 46, 103, 145, 134, 134, 90, 151, 105, 104, 181, 200, 64, 182, 93, 112, 115, 109, 185, 100, 163, 104, ...</td>\n",
       "    </tr>\n",
       "  </tbody>\n",
       "</table>\n",
       "</div>"
      ],
      "text/plain": [
       "         page_id     title                                     url  \\\n",
       "7272  1249296276     2000s     https://en.wikipedia.org/wiki/2000s   \n",
       "6937    47999371  Contract  https://en.wikipedia.org/wiki/Contract   \n",
       "\n",
       "      word_count  outlink_count  category_count  \\\n",
       "7272       33738           3131               5   \n",
       "6937       27356            801               2   \n",
       "\n",
       "                                                                                                                   categories  \\\n",
       "7272  Category:2000s|Category:20th century|Category:21st century|Category:Contemporary history|Category:2000s decade overv...   \n",
       "6937                                                                           Category:Contract law|Category:Legal documents   \n",
       "\n",
       "      template_count  external_link_count       last_modified  \\\n",
       "7272             571                  866 2024-10-04 05:23:25   \n",
       "6937             232                  264 2024-09-30 13:08:35   \n",
       "\n",
       "                                                                                                               processed_text  \\\n",
       "7272  \\n\\n\\n\\nFile:2000s decade montage3.png|From top left, clockwise: The World Trade Center on fire and the Statue of Li...   \n",
       "6937  \\n\\n\\n\\n\\nA contract is an agreement that specifies certain legally enforceable rights and obligations pertaining to...   \n",
       "\n",
       "     title_match  total_views  \\\n",
       "7272       2000s     293131.0   \n",
       "6937    contract     306356.0   \n",
       "\n",
       "                                                                                                          aggregated_page_ids  \\\n",
       "7272  [36397, null, 19671240, 34579],[null, 607345, 34579, 376856, 562706, 412483, 126896, 496660, 575321],[19671240, null...   \n",
       "6937                                                                             [19280537],[19280537, null],[null, 19280537]   \n",
       "\n",
       "                                              url_pageviews  views_percentile  \\\n",
       "7272  https://no.wikipedia.org/w/index.php?curid=1249296276          0.099228   \n",
       "6937    https://no.wikipedia.org/w/index.php?curid=47999371          0.094670   \n",
       "\n",
       "      rn  chunk_size  \\\n",
       "7272   1        1318   \n",
       "6937   1        1240   \n",
       "\n",
       "                                                                                                                   split_text  \\\n",
       "7272  [File:2000s decade montage3.png|From top left, clockwise: The World Trade Center on fire and the Statue of Liberty d...   \n",
       "6937  [A contract is an agreement that specifies certain legally enforceable rights and obligations pertaining to two or m...   \n",
       "\n",
       "      n_chunks  \\\n",
       "7272       229   \n",
       "6937       208   \n",
       "\n",
       "                                                                                                            n_words_per_chunk  \n",
       "7272  [227, 182, 197, 128, 131, 157, 198, 191, 191, 195, 68, 189, 187, 60, 53, 119, 203, 163, 163, 200, 69, 125, 200, 61, ...  \n",
       "6937  [98, 114, 173, 46, 103, 145, 134, 134, 90, 151, 105, 104, 181, 200, 64, 182, 93, 112, 115, 109, 185, 100, 163, 104, ...  "
      ]
     },
     "execution_count": 29,
     "metadata": {},
     "output_type": "execute_result"
    }
   ],
   "source": [
    "import sys\n",
    "import importlib\n",
    "import random\n",
    "sys.path.append(\"../../src\")\n",
    "\n",
    "from vectordb import chunk_utils\n",
    "importlib.reload(chunk_utils)\n",
    "\n",
    "pd.set_option(\"display.max_colwidth\", 120)\n",
    "pd.set_option(\"display.max_columns\", 50)\n",
    "\n",
    "df = df_filtered.copy()\n",
    "\n",
    "df['chunk_size'] = [random.randint(1000, 2000) for _ in range(len(df))]\n",
    "\n",
    "\n",
    "df[\"split_text\"] = df.apply(\n",
    "    lambda row: chunk_utils.split_text(\n",
    "        row['processed_text'],\n",
    "        chunk_size=row['chunk_size'],\n",
    "        chunk_overlap=300,\n",
    "        discard_chunk_n_words_cutoff=12,\n",
    "        clean_whitespace=True,\n",
    "        clean_html=True,\n",
    "        min_words_per_chunk=45,\n",
    "    ),\n",
    "    axis=1\n",
    ")\n",
    "\n",
    "df[\"n_chunks\"] = df[\"split_text\"].apply(lambda x: len(x))\n",
    "df[\"n_words_per_chunk\"] = df[\"split_text\"].apply(\n",
    "    lambda x: [len(chunk.split()) for chunk in x]\n",
    ")\n",
    "\n",
    "print(f\"Total number of chunks: {df.n_chunks.sum():,}\")\n",
    "\n",
    "df = df.sort_values(\"n_chunks\", ascending=False)\n",
    "df.head(2)\n"
   ]
  },
  {
   "cell_type": "code",
   "execution_count": 30,
   "metadata": {},
   "outputs": [
    {
     "data": {
      "text/plain": [
       "<Axes: >"
      ]
     },
     "execution_count": 30,
     "metadata": {},
     "output_type": "execute_result"
    },
    {
     "data": {
      "image/png": "[encoded data removed]",
      "text/plain": [
       "<Figure size 640x480 with 1 Axes>"
      ]
     },
     "metadata": {},
     "output_type": "display_data"
    }
   ],
   "source": [
    "df.chunk_size.hist()"
   ]
  },
  {
   "cell_type": "code",
   "execution_count": 31,
   "metadata": {},
   "outputs": [],
   "source": [
    "import pandas as pd\n",
    "df.to_parquet(\"df_english_filtered_articles.cache.parquet\")\n",
    "\n",
    "df = pd.read_parquet(\"df_english_filtered_articles.cache.parquet\")"
   ]
  },
  {
   "cell_type": "code",
   "execution_count": 32,
   "metadata": {},
   "outputs": [
    {
     "name": "stdout",
     "output_type": "stream",
     "text": [
      "mean:  159.74235807860262\n",
      "max:  251\n",
      "min:  45\n",
      "median:  172.0\n",
      "std:  45.278748455410884\n"
     ]
    }
   ],
   "source": [
    "\"\"\"\n",
    "Info about the number of word per chunk\n",
    "for the article with the most chunks\n",
    "\"\"\"\n",
    "\n",
    "import math\n",
    "import numpy as np\n",
    "\n",
    "c = df.iloc[0].n_words_per_chunk\n",
    "\n",
    "# print some stats about c\n",
    "print(\"mean: \", sum(c) / len(c))\n",
    "print(\"max: \", max(c))\n",
    "print(\"min: \", min(c))\n",
    "print(\"median: \", np.median(c))\n",
    "print(\"std: \", math.sqrt(sum((x - sum(c) / len(c)) ** 2 for x in c) / len(c)))"
   ]
  },
  {
   "cell_type": "code",
   "execution_count": 33,
   "metadata": {},
   "outputs": [
    {
     "name": "stdout",
     "output_type": "stream",
     "text": [
      "Indonesia revised and updated 1950–2008 and 2030 from International Data Base, International Programs Center, Population Division, US Bureau of the Census, April 2005 version. China's population 1990–2003 from China Statistical Yearbook 2005, China Statistics Press, Beijing. Indonesian population 1950–2003 kindly supplied by Pierre van der Eng. The figures now include three countries previously omitted: Cook Islands, Nauru and Tuvalu.\"\tHYDE\n",
      "['Indonesia', 'revised', 'and', 'updated', '1950–2008', 'and', '2030', 'from', 'International', 'Data', 'Base,', 'International', 'Programs', 'Center,', 'Population', 'Division,', 'US', 'Bureau', 'of', 'the', 'Census,', 'April', '2005', 'version.', \"China's\", 'population', '1990–2003', 'from', 'China', 'Statistical', 'Yearbook', '2005,', 'China', 'Statistics', 'Press,', 'Beijing.', 'Indonesian', 'population', '1950–2003', 'kindly', 'supplied', 'by', 'Pierre', 'van', 'der', 'Eng.', 'The', 'figures', 'now', 'include', 'three', 'countries', 'previously', 'omitted:', 'Cook', 'Islands,', 'Nauru', 'and', 'Tuvalu.\"', 'HYDE']\n",
      "13\n",
      "---\n"
     ]
    }
   ],
   "source": [
    "\"\"\"\n",
    "Check the smallest chunks for the article with the most chunks\n",
    "\"\"\"\n",
    "\n",
    "for i, chunk in enumerate(df.split_text.iloc[0]):\n",
    "    if len(chunk.strip().split()) < 63:\n",
    "        print(chunk)\n",
    "        print(chunk.strip().split())\n",
    "        print(i)\n",
    "        print(\"---\")\n",
    "\n",
    "        break"
   ]
  },
  {
   "cell_type": "markdown",
   "metadata": {},
   "source": [
    "1M chunks is surprising, it is not too much really.  \n",
    " But given the number of articles, I would have guessed around 300K chunks.  \n",
    "This is based on other language wikis, so it probably just means that the avreage length of articles is longer for the english wikipedia. \n",
    "\n"
   ]
  },
  {
   "cell_type": "markdown",
   "metadata": {},
   "source": [
    "### Estimate cost of embeddings"
   ]
  },
  {
   "cell_type": "code",
   "execution_count": 34,
   "metadata": {},
   "outputs": [
    {
     "name": "stdout",
     "output_type": "stream",
     "text": [
      "total number of words: 130,835,034\n",
      "Estimated n token in M tokens: 176.63\n",
      "Estimated cost for embeddings: 14.13 USD\n"
     ]
    },
    {
     "ename": "",
     "evalue": "",
     "output_type": "error",
     "traceback": [
      "\u001b[1;31mThe Kernel crashed while executing code in the current cell or a previous cell. \n",
      "\u001b[1;31mPlease review the code in the cell(s) to identify a possible cause of the failure. \n",
      "\u001b[1;31mClick <a href='https://aka.ms/vscodeJupyterKernelCrash'>here</a> for more info. \n",
      "\u001b[1;31mView Jupyter <a href='command:jupyter.viewOutput'>log</a> for further details."
     ]
    }
   ],
   "source": [
    "# the n_words_per_chunk is a list of numbers\n",
    "\n",
    "# df[\"n_words_per_chunk\"] = df[\"n_words_per_chunk\"].apply(lambda x: np.array(x))\n",
    "n_words_total = df[\"n_words_per_chunk\"].apply(np.sum).sum()\n",
    "\n",
    "# n_words_total = sum(df.n_words_per_chunk.sum())\n",
    "\n",
    "n_tokens_estimated = n_words_total * 1.35\n",
    "\n",
    "n_tokens_M = n_tokens_estimated / 1_000_000\n",
    "\n",
    "pinecone_per_1M_tokens = 0.08  # USD per 1M tokens\n",
    "\n",
    "print(f\"total number of words: {n_words_total:,}\")\n",
    "\n",
    "print(f\"Estimated n token in M tokens: {n_tokens_M:.2f}\")\n",
    "print(f\"Estimated cost for embeddings: {n_tokens_M * pinecone_per_1M_tokens:.2f} USD\")\n",
    "\n"
   ]
  },
  {
   "cell_type": "code",
   "execution_count": null,
   "metadata": {},
   "outputs": [],
   "source": []
  },
  {
   "cell_type": "code",
   "execution_count": null,
   "metadata": {},
   "outputs": [],
   "source": [
    "\n",
    "\n",
    "\n",
    "\n",
    "\n",
    "\n",
    "\n",
    "\n",
    "\n",
    "\n",
    "\n",
    "\n",
    "\n",
    "\n",
    "\n",
    "\n",
    "\n",
    "\n",
    "\n",
    "\n",
    "\n",
    "\n",
    "\n",
    "\n",
    "\n",
    "\n",
    "\n",
    "\n",
    "\n",
    "\n",
    "\n"
   ]
  }
 ],
 "metadata": {
  "kernelspec": {
   "display_name": "venv",
   "language": "python",
   "name": "python3"
  },
  "language_info": {
   "codemirror_mode": {
    "name": "ipython",
    "version": 3
   },
   "file_extension": ".py",
   "mimetype": "text/x-python",
   "name": "python",
   "nbconvert_exporter": "python",
   "pygments_lexer": "ipython3",
   "version": "3.10.14"
  }
 },
 "nbformat": 4,
 "nbformat_minor": 2
}
