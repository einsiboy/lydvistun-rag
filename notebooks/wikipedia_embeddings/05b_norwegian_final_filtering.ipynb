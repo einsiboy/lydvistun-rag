{
 "cells": [
  {
   "cell_type": "markdown",
   "metadata": {},
   "source": [
    "## Do a similar analysis as in 05_iswiki_final_filtering.ipynb for the norwegian wikipedia dump.\n",
    "\n",
    "BUT, use the duckdb file instead of pure pandas.  \n",
    "While the norwegian wiki is small enough to fit in memory,  \n",
    "the english one will not be. So create a process that works for both using duckdb. "
   ]
  },
  {
   "cell_type": "code",
   "execution_count": 1,
   "metadata": {},
   "outputs": [
    {
     "data": {
      "text/html": [
       "<div>\n",
       "<style scoped>\n",
       "    .dataframe tbody tr th:only-of-type {\n",
       "        vertical-align: middle;\n",
       "    }\n",
       "\n",
       "    .dataframe tbody tr th {\n",
       "        vertical-align: top;\n",
       "    }\n",
       "\n",
       "    .dataframe thead th {\n",
       "        text-align: right;\n",
       "    }\n",
       "</style>\n",
       "<table border=\"1\" class=\"dataframe\">\n",
       "  <thead>\n",
       "    <tr style=\"text-align: right;\">\n",
       "      <th></th>\n",
       "      <th>name</th>\n",
       "    </tr>\n",
       "  </thead>\n",
       "  <tbody>\n",
       "    <tr>\n",
       "      <th>0</th>\n",
       "      <td>articles</td>\n",
       "    </tr>\n",
       "    <tr>\n",
       "      <th>1</th>\n",
       "      <td>pageviews</td>\n",
       "    </tr>\n",
       "    <tr>\n",
       "      <th>2</th>\n",
       "      <td>pageviews_aggregated</td>\n",
       "    </tr>\n",
       "    <tr>\n",
       "      <th>3</th>\n",
       "      <td>pageviews_aggregated_top_articles</td>\n",
       "    </tr>\n",
       "    <tr>\n",
       "      <th>4</th>\n",
       "      <td>pageviews_top500k</td>\n",
       "    </tr>\n",
       "  </tbody>\n",
       "</table>\n",
       "</div>"
      ],
      "text/plain": [
       "                                name\n",
       "0                           articles\n",
       "1                          pageviews\n",
       "2               pageviews_aggregated\n",
       "3  pageviews_aggregated_top_articles\n",
       "4                  pageviews_top500k"
      ]
     },
     "metadata": {},
     "output_type": "display_data"
    }
   ],
   "source": [
    "import os\n",
    "import duckdb\n",
    "from IPython.display import display\n",
    "\n",
    "\n",
    "base_datadir = \"../../data/\"\n",
    "duckdb_file = base_datadir + \"db_files/wikipedia_articles_no.duckdb\"\n",
    "pageviews_file = base_datadir + \"wikipedia_meta/aggregated/no.wikipedia_monthly_views.parquet\"\n",
    "\n",
    "\n",
    "os.path.exists(duckdb_file)\n",
    "\n",
    "con = duckdb.connect(duckdb_file)\n",
    "\n",
    "df_tables = con.sql(\"SHOW TABLES\").df()\n",
    "display(df_tables)\n"
   ]
  },
  {
   "cell_type": "code",
   "execution_count": 2,
   "metadata": {},
   "outputs": [],
   "source": [
    "# # the urls in articles are not correct, they are of the form\n",
    "# # https://en.wikipedia.org/wiki/8._mars\t\n",
    "# # but should be no.wikipedia....\n",
    "# # e.g. https://no.wikipedia.org/wiki/8._mars\t\n",
    "# # fix in db\n",
    "\n",
    "# con.execute(\"\"\"\n",
    "#     UPDATE articles\n",
    "#     SET url = REPLACE(url, 'en.wikipedia.org', 'no.wikipedia.org')\n",
    "# \"\"\")\n"
   ]
  },
  {
   "cell_type": "code",
   "execution_count": 3,
   "metadata": {},
   "outputs": [
    {
     "data": {
      "text/html": [
       "<div>\n",
       "<style scoped>\n",
       "    .dataframe tbody tr th:only-of-type {\n",
       "        vertical-align: middle;\n",
       "    }\n",
       "\n",
       "    .dataframe tbody tr th {\n",
       "        vertical-align: top;\n",
       "    }\n",
       "\n",
       "    .dataframe thead th {\n",
       "        text-align: right;\n",
       "    }\n",
       "</style>\n",
       "<table border=\"1\" class=\"dataframe\">\n",
       "  <thead>\n",
       "    <tr style=\"text-align: right;\">\n",
       "      <th></th>\n",
       "      <th>page_id</th>\n",
       "      <th>title</th>\n",
       "      <th>url</th>\n",
       "      <th>word_count</th>\n",
       "      <th>outlink_count</th>\n",
       "      <th>category_count</th>\n",
       "      <th>categories</th>\n",
       "      <th>template_count</th>\n",
       "      <th>external_link_count</th>\n",
       "      <th>last_modified</th>\n",
       "      <th>processed_text</th>\n",
       "      <th>title_match</th>\n",
       "    </tr>\n",
       "  </thead>\n",
       "  <tbody>\n",
       "    <tr>\n",
       "      <th>0</th>\n",
       "      <td>25238</td>\n",
       "      <td>8. mars</td>\n",
       "      <td>https://no.wikipedia.org/wiki/8._mars</td>\n",
       "      <td>1003</td>\n",
       "      <td>267</td>\n",
       "      <td>0</td>\n",
       "      <td></td>\n",
       "      <td>1</td>\n",
       "      <td>1</td>\n",
       "      <td>2024-05-19 20:04:57</td>\n",
       "      <td>\\n8. mars er den 67. dagen i året, den 68. i s...</td>\n",
       "      <td>8. mars</td>\n",
       "    </tr>\n",
       "    <tr>\n",
       "      <th>1</th>\n",
       "      <td>392195</td>\n",
       "      <td>Ideelle rettigheter</td>\n",
       "      <td>https://no.wikipedia.org/wiki/Ideelle_rettigheter</td>\n",
       "      <td>241</td>\n",
       "      <td>9</td>\n",
       "      <td>0</td>\n",
       "      <td></td>\n",
       "      <td>2</td>\n",
       "      <td>1</td>\n",
       "      <td>2021-08-28 19:43:59</td>\n",
       "      <td>De ideelle rettighetene (fransk droit moral) e...</td>\n",
       "      <td>ideelle rettigheter</td>\n",
       "    </tr>\n",
       "    <tr>\n",
       "      <th>2</th>\n",
       "      <td>193074</td>\n",
       "      <td>Ideologi</td>\n",
       "      <td>https://no.wikipedia.org/wiki/Ideologi</td>\n",
       "      <td>1051</td>\n",
       "      <td>54</td>\n",
       "      <td>0</td>\n",
       "      <td></td>\n",
       "      <td>2</td>\n",
       "      <td>9</td>\n",
       "      <td>2024-09-30 08:51:55</td>\n",
       "      <td>\\nIdeologi kan forstås som et tankesett tuftet...</td>\n",
       "      <td>ideologi</td>\n",
       "    </tr>\n",
       "  </tbody>\n",
       "</table>\n",
       "</div>"
      ],
      "text/plain": [
       "   page_id                title  \\\n",
       "0    25238              8. mars   \n",
       "1   392195  Ideelle rettigheter   \n",
       "2   193074             Ideologi   \n",
       "\n",
       "                                                 url  word_count  \\\n",
       "0              https://no.wikipedia.org/wiki/8._mars        1003   \n",
       "1  https://no.wikipedia.org/wiki/Ideelle_rettigheter         241   \n",
       "2             https://no.wikipedia.org/wiki/Ideologi        1051   \n",
       "\n",
       "   outlink_count  category_count categories  template_count  \\\n",
       "0            267               0                          1   \n",
       "1              9               0                          2   \n",
       "2             54               0                          2   \n",
       "\n",
       "   external_link_count       last_modified  \\\n",
       "0                    1 2024-05-19 20:04:57   \n",
       "1                    1 2021-08-28 19:43:59   \n",
       "2                    9 2024-09-30 08:51:55   \n",
       "\n",
       "                                      processed_text          title_match  \n",
       "0  \\n8. mars er den 67. dagen i året, den 68. i s...              8. mars  \n",
       "1  De ideelle rettighetene (fransk droit moral) e...  ideelle rettigheter  \n",
       "2  \\nIdeologi kan forstås som et tankesett tuftet...             ideologi  "
      ]
     },
     "execution_count": 3,
     "metadata": {},
     "output_type": "execute_result"
    }
   ],
   "source": [
    "df = con.sql(\"SELECT * FROM articles LIMIT 100\").df()\n",
    "\n",
    "df.head(3)"
   ]
  },
  {
   "cell_type": "markdown",
   "metadata": {},
   "source": [
    "### Drop cols / views for rerunnability of notebook\n",
    "\n",
    "\n"
   ]
  },
  {
   "cell_type": "code",
   "execution_count": 4,
   "metadata": {},
   "outputs": [
    {
     "data": {
      "text/plain": [
       "<duckdb.duckdb.DuckDBPyConnection at 0x1073c0cf0>"
      ]
     },
     "execution_count": 4,
     "metadata": {},
     "output_type": "execute_result"
    }
   ],
   "source": [
    "con.execute(\"\"\"\n",
    "    DROP TABLE IF EXISTS pageviews_aggregated_top_articles;\n",
    "    DROP TABLE IF EXISTS pageviews_aggregated;\n",
    "    DROP TABLE IF EXISTS articles_unique;\n",
    "    DROP TABLE IF EXISTS pageviews;\n",
    "            \n",
    "    ALTER TABLE articles DROP COLUMN title_match;\n",
    "            \n",
    "\n",
    "    DROP VIEW IF EXISTS pageviews_top500k;\n",
    "\"\"\")\n"
   ]
  },
  {
   "cell_type": "markdown",
   "metadata": {},
   "source": [
    "### Add pagewies data to the duckdb database\n",
    "\n"
   ]
  },
  {
   "cell_type": "code",
   "execution_count": 5,
   "metadata": {},
   "outputs": [
    {
     "name": "stdout",
     "output_type": "stream",
     "text": [
      "Pageviews table schema:\n",
      "     column_name column_type null   key default extra\n",
      "0      wiki_code     VARCHAR  YES  None    None  None\n",
      "1  article_title     VARCHAR  YES  None    None  None\n",
      "2          views      BIGINT  YES  None    None  None\n",
      "3       page_ids   VARCHAR[]  YES  None    None  None\n"
     ]
    }
   ],
   "source": [
    "import pandas as pd\n",
    "\n",
    "# Load pageviews data using DuckDB's Parquet support\n",
    "con.execute(f\"\"\"\n",
    "    CREATE TABLE IF NOT EXISTS pageviews AS\n",
    "    SELECT *\n",
    "    FROM read_parquet('{pageviews_file}')\n",
    "\"\"\")\n",
    "\n",
    "# Verify the pageviews table\n",
    "print(\"Pageviews table schema:\")\n",
    "print(con.execute(\"DESCRIBE pageviews\").fetchdf())"
   ]
  },
  {
   "cell_type": "markdown",
   "metadata": {},
   "source": [
    "### Now create the title_match column (standardized title)\n",
    "\n"
   ]
  },
  {
   "cell_type": "code",
   "execution_count": 6,
   "metadata": {},
   "outputs": [
    {
     "data": {
      "text/plain": [
       "<duckdb.duckdb.DuckDBPyConnection at 0x1073c0cf0>"
      ]
     },
     "execution_count": 6,
     "metadata": {},
     "output_type": "execute_result"
    }
   ],
   "source": [
    "con.execute(\"\"\"\n",
    "ALTER TABLE pageviews\n",
    "ADD COLUMN title_match VARCHAR\n",
    "\"\"\")\n",
    "\n",
    "con.execute(\"\"\"\n",
    "ALTER TABLE articles\n",
    "ADD COLUMN title_match VARCHAR\n",
    "\"\"\")\n",
    "\n",
    "\n",
    "con.execute(\"\"\"\n",
    "    UPDATE pageviews\n",
    "    SET title_match = LOWER(TRIM(REPLACE(article_title, '-', '')))\n",
    "\"\"\")\n",
    "\n",
    "con.execute(\"\"\"\n",
    "    UPDATE articles\n",
    "    SET title_match = LOWER(TRIM(REPLACE(title, '-', '')))\n",
    "\"\"\")"
   ]
  },
  {
   "cell_type": "code",
   "execution_count": 7,
   "metadata": {},
   "outputs": [
    {
     "data": {
      "text/html": [
       "<div>\n",
       "<style scoped>\n",
       "    .dataframe tbody tr th:only-of-type {\n",
       "        vertical-align: middle;\n",
       "    }\n",
       "\n",
       "    .dataframe tbody tr th {\n",
       "        vertical-align: top;\n",
       "    }\n",
       "\n",
       "    .dataframe thead th {\n",
       "        text-align: right;\n",
       "    }\n",
       "</style>\n",
       "<table border=\"1\" class=\"dataframe\">\n",
       "  <thead>\n",
       "    <tr style=\"text-align: right;\">\n",
       "      <th></th>\n",
       "      <th>page_id</th>\n",
       "      <th>title</th>\n",
       "      <th>url</th>\n",
       "      <th>word_count</th>\n",
       "      <th>outlink_count</th>\n",
       "      <th>category_count</th>\n",
       "      <th>categories</th>\n",
       "      <th>template_count</th>\n",
       "      <th>external_link_count</th>\n",
       "      <th>last_modified</th>\n",
       "      <th>processed_text</th>\n",
       "      <th>title_match</th>\n",
       "    </tr>\n",
       "  </thead>\n",
       "  <tbody>\n",
       "    <tr>\n",
       "      <th>0</th>\n",
       "      <td>25238</td>\n",
       "      <td>8. mars</td>\n",
       "      <td>https://no.wikipedia.org/wiki/8._mars</td>\n",
       "      <td>1003</td>\n",
       "      <td>267</td>\n",
       "      <td>0</td>\n",
       "      <td></td>\n",
       "      <td>1</td>\n",
       "      <td>1</td>\n",
       "      <td>2024-05-19 20:04:57</td>\n",
       "      <td>\\n8. mars er den 67. dagen i året, den 68. i s...</td>\n",
       "      <td>8. mars</td>\n",
       "    </tr>\n",
       "    <tr>\n",
       "      <th>1</th>\n",
       "      <td>392195</td>\n",
       "      <td>Ideelle rettigheter</td>\n",
       "      <td>https://no.wikipedia.org/wiki/Ideelle_rettigheter</td>\n",
       "      <td>241</td>\n",
       "      <td>9</td>\n",
       "      <td>0</td>\n",
       "      <td></td>\n",
       "      <td>2</td>\n",
       "      <td>1</td>\n",
       "      <td>2021-08-28 19:43:59</td>\n",
       "      <td>De ideelle rettighetene (fransk droit moral) e...</td>\n",
       "      <td>ideelle rettigheter</td>\n",
       "    </tr>\n",
       "    <tr>\n",
       "      <th>2</th>\n",
       "      <td>193074</td>\n",
       "      <td>Ideologi</td>\n",
       "      <td>https://no.wikipedia.org/wiki/Ideologi</td>\n",
       "      <td>1051</td>\n",
       "      <td>54</td>\n",
       "      <td>0</td>\n",
       "      <td></td>\n",
       "      <td>2</td>\n",
       "      <td>9</td>\n",
       "      <td>2024-09-30 08:51:55</td>\n",
       "      <td>\\nIdeologi kan forstås som et tankesett tuftet...</td>\n",
       "      <td>ideologi</td>\n",
       "    </tr>\n",
       "  </tbody>\n",
       "</table>\n",
       "</div>"
      ],
      "text/plain": [
       "   page_id                title  \\\n",
       "0    25238              8. mars   \n",
       "1   392195  Ideelle rettigheter   \n",
       "2   193074             Ideologi   \n",
       "\n",
       "                                                 url  word_count  \\\n",
       "0              https://no.wikipedia.org/wiki/8._mars        1003   \n",
       "1  https://no.wikipedia.org/wiki/Ideelle_rettigheter         241   \n",
       "2             https://no.wikipedia.org/wiki/Ideologi        1051   \n",
       "\n",
       "   outlink_count  category_count categories  template_count  \\\n",
       "0            267               0                          1   \n",
       "1              9               0                          2   \n",
       "2             54               0                          2   \n",
       "\n",
       "   external_link_count       last_modified  \\\n",
       "0                    1 2024-05-19 20:04:57   \n",
       "1                    1 2021-08-28 19:43:59   \n",
       "2                    9 2024-09-30 08:51:55   \n",
       "\n",
       "                                      processed_text          title_match  \n",
       "0  \\n8. mars er den 67. dagen i året, den 68. i s...              8. mars  \n",
       "1  De ideelle rettighetene (fransk droit moral) e...  ideelle rettigheter  \n",
       "2  \\nIdeologi kan forstås som et tankesett tuftet...             ideologi  "
      ]
     },
     "metadata": {},
     "output_type": "display_data"
    },
    {
     "data": {
      "text/html": [
       "<div>\n",
       "<style scoped>\n",
       "    .dataframe tbody tr th:only-of-type {\n",
       "        vertical-align: middle;\n",
       "    }\n",
       "\n",
       "    .dataframe tbody tr th {\n",
       "        vertical-align: top;\n",
       "    }\n",
       "\n",
       "    .dataframe thead th {\n",
       "        text-align: right;\n",
       "    }\n",
       "</style>\n",
       "<table border=\"1\" class=\"dataframe\">\n",
       "  <thead>\n",
       "    <tr style=\"text-align: right;\">\n",
       "      <th></th>\n",
       "      <th>wiki_code</th>\n",
       "      <th>article_title</th>\n",
       "      <th>views</th>\n",
       "      <th>page_ids</th>\n",
       "      <th>title_match</th>\n",
       "    </tr>\n",
       "  </thead>\n",
       "  <tbody>\n",
       "    <tr>\n",
       "      <th>0</th>\n",
       "      <td>no.wikipedia</td>\n",
       "      <td>!</td>\n",
       "      <td>3</td>\n",
       "      <td>[86365]</td>\n",
       "      <td>!</td>\n",
       "    </tr>\n",
       "    <tr>\n",
       "      <th>1</th>\n",
       "      <td>no.wikipedia</td>\n",
       "      <td>!!!</td>\n",
       "      <td>20</td>\n",
       "      <td>[321005]</td>\n",
       "      <td>!!!</td>\n",
       "    </tr>\n",
       "    <tr>\n",
       "      <th>2</th>\n",
       "      <td>no.wikipedia</td>\n",
       "      <td>!Kwi</td>\n",
       "      <td>1</td>\n",
       "      <td>[86345]</td>\n",
       "      <td>!kwi</td>\n",
       "    </tr>\n",
       "  </tbody>\n",
       "</table>\n",
       "</div>"
      ],
      "text/plain": [
       "      wiki_code article_title  views  page_ids title_match\n",
       "0  no.wikipedia             !      3   [86365]           !\n",
       "1  no.wikipedia           !!!     20  [321005]         !!!\n",
       "2  no.wikipedia          !Kwi      1   [86345]        !kwi"
      ]
     },
     "metadata": {},
     "output_type": "display_data"
    }
   ],
   "source": [
    "df = con.sql(\"SELECT * FROM articles LIMIT 100\").df()\n",
    "df_pageviews = con.sql(\"SELECT * FROM pageviews LIMIT 100\").df()\n",
    "\n",
    "display(df.head(3))\n",
    "display(df_pageviews.head(3))"
   ]
  },
  {
   "cell_type": "markdown",
   "metadata": {},
   "source": [
    "### Create the aggregated pageviews table"
   ]
  },
  {
   "cell_type": "code",
   "execution_count": 8,
   "metadata": {},
   "outputs": [
    {
     "name": "stdout",
     "output_type": "stream",
     "text": [
      "Aggregated Pageviews:\n"
     ]
    },
    {
     "data": {
      "text/html": [
       "<div>\n",
       "<style scoped>\n",
       "    .dataframe tbody tr th:only-of-type {\n",
       "        vertical-align: middle;\n",
       "    }\n",
       "\n",
       "    .dataframe tbody tr th {\n",
       "        vertical-align: top;\n",
       "    }\n",
       "\n",
       "    .dataframe thead th {\n",
       "        text-align: right;\n",
       "    }\n",
       "</style>\n",
       "<table border=\"1\" class=\"dataframe\">\n",
       "  <thead>\n",
       "    <tr style=\"text-align: right;\">\n",
       "      <th></th>\n",
       "      <th>title_match</th>\n",
       "      <th>total_views</th>\n",
       "      <th>aggregated_page_ids</th>\n",
       "    </tr>\n",
       "  </thead>\n",
       "  <tbody>\n",
       "    <tr>\n",
       "      <th>0</th>\n",
       "      <td>portal:forside</td>\n",
       "      <td>7305901.0</td>\n",
       "      <td>[494123, null],[null, 494123],[494123, null, 1...</td>\n",
       "    </tr>\n",
       "    <tr>\n",
       "      <th>1</th>\n",
       "      <td>spesial:søk</td>\n",
       "      <td>1627539.0</td>\n",
       "      <td>[null, 180861],[null]</td>\n",
       "    </tr>\n",
       "    <tr>\n",
       "      <th>2</th>\n",
       "      <td>spesial:siste_endringer</td>\n",
       "      <td>323174.0</td>\n",
       "      <td>[null]</td>\n",
       "    </tr>\n",
       "  </tbody>\n",
       "</table>\n",
       "</div>"
      ],
      "text/plain": [
       "               title_match  total_views  \\\n",
       "0           portal:forside    7305901.0   \n",
       "1              spesial:søk    1627539.0   \n",
       "2  spesial:siste_endringer     323174.0   \n",
       "\n",
       "                                 aggregated_page_ids  \n",
       "0  [494123, null],[null, 494123],[494123, null, 1...  \n",
       "1                              [null, 180861],[null]  \n",
       "2                                             [null]  "
      ]
     },
     "execution_count": 8,
     "metadata": {},
     "output_type": "execute_result"
    }
   ],
   "source": [
    "# Aggregate pageviews by title_match\n",
    "con.execute(\"\"\"\n",
    "    CREATE TABLE IF NOT EXISTS pageviews_aggregated AS\n",
    "    SELECT \n",
    "        title_match,\n",
    "        SUM(views) AS total_views,\n",
    "        LISTAGG(DISTINCT page_ids) AS aggregated_page_ids\n",
    "    FROM pageviews\n",
    "    GROUP BY title_match\n",
    "\"\"\")\n",
    "\n",
    "# Verify the aggregated data\n",
    "print(\"Aggregated Pageviews:\")\n",
    "\n",
    "df_grouped = con.sql(\"SELECT * FROM pageviews_aggregated order by total_views desc LIMIT 100\").df()\n",
    "df_grouped.head(3)"
   ]
  },
  {
   "cell_type": "markdown",
   "metadata": {},
   "source": [
    "### Create a table of the top N articles by pageviews (top 500K?)\n",
    "\n",
    "Choose a larger number than we will embed, since we might filter out some of these..  \n",
    "\n",
    "I.e. if the target to embed is 100K articles, be very safe and choose 500K.   \n",
    "\n",
    "We can then further filter down from this set.\n",
    "\n"
   ]
  },
  {
   "cell_type": "markdown",
   "metadata": {},
   "source": [
    "### Note, we have to play with the LIMIT to get an acceptable number of articles.\n",
    "\n",
    "If we set the limit to 500K we may get only about 100K articles out."
   ]
  },
  {
   "cell_type": "code",
   "execution_count": 9,
   "metadata": {},
   "outputs": [
    {
     "name": "stdout",
     "output_type": "stream",
     "text": [
      "Top Articles with Pageviews:\n"
     ]
    },
    {
     "data": {
      "text/html": [
       "<div>\n",
       "<style scoped>\n",
       "    .dataframe tbody tr th:only-of-type {\n",
       "        vertical-align: middle;\n",
       "    }\n",
       "\n",
       "    .dataframe tbody tr th {\n",
       "        vertical-align: top;\n",
       "    }\n",
       "\n",
       "    .dataframe thead th {\n",
       "        text-align: right;\n",
       "    }\n",
       "</style>\n",
       "<table border=\"1\" class=\"dataframe\">\n",
       "  <thead>\n",
       "    <tr style=\"text-align: right;\">\n",
       "      <th></th>\n",
       "      <th>page_id</th>\n",
       "      <th>title</th>\n",
       "      <th>url</th>\n",
       "      <th>word_count</th>\n",
       "      <th>outlink_count</th>\n",
       "      <th>category_count</th>\n",
       "      <th>categories</th>\n",
       "      <th>template_count</th>\n",
       "      <th>external_link_count</th>\n",
       "      <th>last_modified</th>\n",
       "      <th>processed_text</th>\n",
       "      <th>title_match</th>\n",
       "      <th>total_views</th>\n",
       "      <th>aggregated_page_ids</th>\n",
       "      <th>url_pageviews</th>\n",
       "      <th>views_percentile</th>\n",
       "      <th>rn</th>\n",
       "    </tr>\n",
       "  </thead>\n",
       "  <tbody>\n",
       "    <tr>\n",
       "      <th>0</th>\n",
       "      <td>99115</td>\n",
       "      <td>Norge</td>\n",
       "      <td>https://no.wikipedia.org/wiki/Norge</td>\n",
       "      <td>15019</td>\n",
       "      <td>1003</td>\n",
       "      <td>0</td>\n",
       "      <td></td>\n",
       "      <td>318</td>\n",
       "      <td>207</td>\n",
       "      <td>2024-09-26 11:38:44</td>\n",
       "      <td>\\n\\n\\n\\nNorge, offisielt Kongeriket Norge, er ...</td>\n",
       "      <td>norge</td>\n",
       "      <td>266626.0</td>\n",
       "      <td>[null, 728],[728]</td>\n",
       "      <td>https://no.wikipedia.org/w/index.php?curid=99115</td>\n",
       "      <td>0.000000</td>\n",
       "      <td>1</td>\n",
       "    </tr>\n",
       "    <tr>\n",
       "      <th>1</th>\n",
       "      <td>190116</td>\n",
       "      <td>Facebook</td>\n",
       "      <td>https://no.wikipedia.org/wiki/Facebook</td>\n",
       "      <td>892</td>\n",
       "      <td>35</td>\n",
       "      <td>0</td>\n",
       "      <td></td>\n",
       "      <td>32</td>\n",
       "      <td>38</td>\n",
       "      <td>2024-03-14 22:45:28</td>\n",
       "      <td>\\n\\n\\n\\nFacebook () er et sosialt nettverk som...</td>\n",
       "      <td>facebook</td>\n",
       "      <td>224285.0</td>\n",
       "      <td>[289714],[null, 289714]</td>\n",
       "      <td>https://no.wikipedia.org/w/index.php?curid=190116</td>\n",
       "      <td>0.000007</td>\n",
       "      <td>1</td>\n",
       "    </tr>\n",
       "    <tr>\n",
       "      <th>2</th>\n",
       "      <td>241256</td>\n",
       "      <td>NAV</td>\n",
       "      <td>https://no.wikipedia.org/wiki/NAV</td>\n",
       "      <td>968</td>\n",
       "      <td>35</td>\n",
       "      <td>0</td>\n",
       "      <td></td>\n",
       "      <td>22</td>\n",
       "      <td>27</td>\n",
       "      <td>2024-09-30 11:49:05</td>\n",
       "      <td>\\n\\n\\n\\n\\nNAV (Arbeids- og velferdsforvaltning...</td>\n",
       "      <td>nav</td>\n",
       "      <td>196957.0</td>\n",
       "      <td>[null, 282978],[150352],[null, 150352]</td>\n",
       "      <td>https://no.wikipedia.org/w/index.php?curid=241256</td>\n",
       "      <td>0.000015</td>\n",
       "      <td>1</td>\n",
       "    </tr>\n",
       "    <tr>\n",
       "      <th>3</th>\n",
       "      <td>30880</td>\n",
       "      <td>Gazastripen</td>\n",
       "      <td>https://no.wikipedia.org/wiki/Gazastripen</td>\n",
       "      <td>2691</td>\n",
       "      <td>136</td>\n",
       "      <td>0</td>\n",
       "      <td></td>\n",
       "      <td>39</td>\n",
       "      <td>51</td>\n",
       "      <td>2024-06-05 15:39:06</td>\n",
       "      <td>\\n\\n\\n\\nGazastripen eller Gazastripa er en sma...</td>\n",
       "      <td>gazastripen</td>\n",
       "      <td>162757.0</td>\n",
       "      <td>[20526],[20526, null],[null, 20526]</td>\n",
       "      <td>https://no.wikipedia.org/w/index.php?curid=30880</td>\n",
       "      <td>0.000030</td>\n",
       "      <td>1</td>\n",
       "    </tr>\n",
       "    <tr>\n",
       "      <th>4</th>\n",
       "      <td>394721</td>\n",
       "      <td>Israel</td>\n",
       "      <td>https://no.wikipedia.org/wiki/Israel</td>\n",
       "      <td>11276</td>\n",
       "      <td>787</td>\n",
       "      <td>0</td>\n",
       "      <td></td>\n",
       "      <td>372</td>\n",
       "      <td>411</td>\n",
       "      <td>2024-07-02 02:36:43</td>\n",
       "      <td>\\n\\n\\n\\n\\nIsrael, offisielt Staten Israel, er ...</td>\n",
       "      <td>israel</td>\n",
       "      <td>161120.0</td>\n",
       "      <td>[435523],[null, 435523]</td>\n",
       "      <td>https://no.wikipedia.org/w/index.php?curid=394721</td>\n",
       "      <td>0.000037</td>\n",
       "      <td>1</td>\n",
       "    </tr>\n",
       "  </tbody>\n",
       "</table>\n",
       "</div>"
      ],
      "text/plain": [
       "   page_id        title                                        url  \\\n",
       "0    99115        Norge        https://no.wikipedia.org/wiki/Norge   \n",
       "1   190116     Facebook     https://no.wikipedia.org/wiki/Facebook   \n",
       "2   241256          NAV          https://no.wikipedia.org/wiki/NAV   \n",
       "3    30880  Gazastripen  https://no.wikipedia.org/wiki/Gazastripen   \n",
       "4   394721       Israel       https://no.wikipedia.org/wiki/Israel   \n",
       "\n",
       "   word_count  outlink_count  category_count categories  template_count  \\\n",
       "0       15019           1003               0                        318   \n",
       "1         892             35               0                         32   \n",
       "2         968             35               0                         22   \n",
       "3        2691            136               0                         39   \n",
       "4       11276            787               0                        372   \n",
       "\n",
       "   external_link_count       last_modified  \\\n",
       "0                  207 2024-09-26 11:38:44   \n",
       "1                   38 2024-03-14 22:45:28   \n",
       "2                   27 2024-09-30 11:49:05   \n",
       "3                   51 2024-06-05 15:39:06   \n",
       "4                  411 2024-07-02 02:36:43   \n",
       "\n",
       "                                      processed_text  title_match  \\\n",
       "0  \\n\\n\\n\\nNorge, offisielt Kongeriket Norge, er ...        norge   \n",
       "1  \\n\\n\\n\\nFacebook () er et sosialt nettverk som...     facebook   \n",
       "2  \\n\\n\\n\\n\\nNAV (Arbeids- og velferdsforvaltning...          nav   \n",
       "3  \\n\\n\\n\\nGazastripen eller Gazastripa er en sma...  gazastripen   \n",
       "4  \\n\\n\\n\\n\\nIsrael, offisielt Staten Israel, er ...       israel   \n",
       "\n",
       "   total_views                     aggregated_page_ids  \\\n",
       "0     266626.0                       [null, 728],[728]   \n",
       "1     224285.0                 [289714],[null, 289714]   \n",
       "2     196957.0  [null, 282978],[150352],[null, 150352]   \n",
       "3     162757.0     [20526],[20526, null],[null, 20526]   \n",
       "4     161120.0                 [435523],[null, 435523]   \n",
       "\n",
       "                                       url_pageviews  views_percentile  rn  \n",
       "0   https://no.wikipedia.org/w/index.php?curid=99115          0.000000   1  \n",
       "1  https://no.wikipedia.org/w/index.php?curid=190116          0.000007   1  \n",
       "2  https://no.wikipedia.org/w/index.php?curid=241256          0.000015   1  \n",
       "3   https://no.wikipedia.org/w/index.php?curid=30880          0.000030   1  \n",
       "4  https://no.wikipedia.org/w/index.php?curid=394721          0.000037   1  "
      ]
     },
     "metadata": {},
     "output_type": "display_data"
    }
   ],
   "source": [
    "VIEW_LIMIT = 700_000\n",
    "\n",
    "# Create table of top 500K articles by pageviews with their metadata\n",
    "con.execute(f\"\"\"\n",
    "CREATE VIEW IF NOT EXISTS pageviews_top500k AS\n",
    "SELECT \n",
    "    title_match,\n",
    "    SUM(views) AS total_views,\n",
    "    LISTAGG(DISTINCT page_ids) AS aggregated_page_ids\n",
    "FROM pageviews\n",
    "GROUP BY title_match\n",
    "ORDER BY SUM(views) DESC\n",
    "LIMIT {str(VIEW_LIMIT).replace(\"_\", \"\")};\n",
    "\"\"\")\n",
    "\n",
    "# Step 2: Join with articles to create the final table\n",
    "con.execute(\"\"\"\n",
    "CREATE TABLE IF NOT EXISTS pageviews_aggregated_top_articles AS\n",
    "WITH ranked_articles AS (\n",
    "    SELECT \n",
    "        a.*,\n",
    "        p.total_views,\n",
    "        p.aggregated_page_ids,\n",
    "        'https://no.wikipedia.org/w/index.php?curid=' || a.page_id as url_pageviews,\n",
    "        PERCENT_RANK() OVER (ORDER BY p.total_views DESC) as views_percentile,\n",
    "        ROW_NUMBER() OVER (PARTITION BY a.title_match ORDER BY a.word_count DESC) as rn\n",
    "    FROM articles a\n",
    "    INNER JOIN pageviews_top500k p ON a.title_match = p.title_match\n",
    ")\n",
    "SELECT \n",
    " *\n",
    "FROM ranked_articles\n",
    "WHERE rn = 1;\n",
    "\"\"\")\n",
    "\n",
    "\n",
    "print(\"Top Articles with Pageviews:\")\n",
    "df_top_articles = con.sql(\"\"\"\n",
    "    SELECT *\n",
    "    FROM pageviews_aggregated_top_articles \n",
    "    ORDER BY total_views DESC \n",
    "    LIMIT 100\n",
    "\"\"\").df()\n",
    "display(df_top_articles.head(5))"
   ]
  },
  {
   "cell_type": "code",
   "execution_count": 10,
   "metadata": {},
   "outputs": [
    {
     "name": "stdout",
     "output_type": "stream",
     "text": [
      "Top Articles with Pageviews:\n"
     ]
    },
    {
     "data": {
      "text/html": [
       "<div>\n",
       "<style scoped>\n",
       "    .dataframe tbody tr th:only-of-type {\n",
       "        vertical-align: middle;\n",
       "    }\n",
       "\n",
       "    .dataframe tbody tr th {\n",
       "        vertical-align: top;\n",
       "    }\n",
       "\n",
       "    .dataframe thead th {\n",
       "        text-align: right;\n",
       "    }\n",
       "</style>\n",
       "<table border=\"1\" class=\"dataframe\">\n",
       "  <thead>\n",
       "    <tr style=\"text-align: right;\">\n",
       "      <th></th>\n",
       "      <th>page_id</th>\n",
       "      <th>title</th>\n",
       "      <th>url</th>\n",
       "      <th>word_count</th>\n",
       "      <th>outlink_count</th>\n",
       "      <th>category_count</th>\n",
       "      <th>categories</th>\n",
       "      <th>template_count</th>\n",
       "      <th>external_link_count</th>\n",
       "      <th>last_modified</th>\n",
       "      <th>processed_text</th>\n",
       "      <th>title_match</th>\n",
       "      <th>total_views</th>\n",
       "      <th>aggregated_page_ids</th>\n",
       "      <th>url_pageviews</th>\n",
       "      <th>views_percentile</th>\n",
       "      <th>rn</th>\n",
       "    </tr>\n",
       "  </thead>\n",
       "  <tbody>\n",
       "    <tr>\n",
       "      <th>0</th>\n",
       "      <td>99115</td>\n",
       "      <td>Norge</td>\n",
       "      <td>https://no.wikipedia.org/wiki/Norge</td>\n",
       "      <td>15019</td>\n",
       "      <td>1003</td>\n",
       "      <td>0</td>\n",
       "      <td></td>\n",
       "      <td>318</td>\n",
       "      <td>207</td>\n",
       "      <td>2024-09-26 11:38:44</td>\n",
       "      <td>\\n\\n\\n\\nNorge, offisielt Kongeriket Norge, er ...</td>\n",
       "      <td>norge</td>\n",
       "      <td>266626.0</td>\n",
       "      <td>[null, 728],[728]</td>\n",
       "      <td>https://no.wikipedia.org/w/index.php?curid=99115</td>\n",
       "      <td>0.000000</td>\n",
       "      <td>1</td>\n",
       "    </tr>\n",
       "    <tr>\n",
       "      <th>1</th>\n",
       "      <td>190116</td>\n",
       "      <td>Facebook</td>\n",
       "      <td>https://no.wikipedia.org/wiki/Facebook</td>\n",
       "      <td>892</td>\n",
       "      <td>35</td>\n",
       "      <td>0</td>\n",
       "      <td></td>\n",
       "      <td>32</td>\n",
       "      <td>38</td>\n",
       "      <td>2024-03-14 22:45:28</td>\n",
       "      <td>\\n\\n\\n\\nFacebook () er et sosialt nettverk som...</td>\n",
       "      <td>facebook</td>\n",
       "      <td>224285.0</td>\n",
       "      <td>[289714],[null, 289714]</td>\n",
       "      <td>https://no.wikipedia.org/w/index.php?curid=190116</td>\n",
       "      <td>0.000007</td>\n",
       "      <td>1</td>\n",
       "    </tr>\n",
       "    <tr>\n",
       "      <th>2</th>\n",
       "      <td>241256</td>\n",
       "      <td>NAV</td>\n",
       "      <td>https://no.wikipedia.org/wiki/NAV</td>\n",
       "      <td>968</td>\n",
       "      <td>35</td>\n",
       "      <td>0</td>\n",
       "      <td></td>\n",
       "      <td>22</td>\n",
       "      <td>27</td>\n",
       "      <td>2024-09-30 11:49:05</td>\n",
       "      <td>\\n\\n\\n\\n\\nNAV (Arbeids- og velferdsforvaltning...</td>\n",
       "      <td>nav</td>\n",
       "      <td>196957.0</td>\n",
       "      <td>[null, 282978],[150352],[null, 150352]</td>\n",
       "      <td>https://no.wikipedia.org/w/index.php?curid=241256</td>\n",
       "      <td>0.000015</td>\n",
       "      <td>1</td>\n",
       "    </tr>\n",
       "    <tr>\n",
       "      <th>3</th>\n",
       "      <td>30880</td>\n",
       "      <td>Gazastripen</td>\n",
       "      <td>https://no.wikipedia.org/wiki/Gazastripen</td>\n",
       "      <td>2691</td>\n",
       "      <td>136</td>\n",
       "      <td>0</td>\n",
       "      <td></td>\n",
       "      <td>39</td>\n",
       "      <td>51</td>\n",
       "      <td>2024-06-05 15:39:06</td>\n",
       "      <td>\\n\\n\\n\\nGazastripen eller Gazastripa er en sma...</td>\n",
       "      <td>gazastripen</td>\n",
       "      <td>162757.0</td>\n",
       "      <td>[20526],[20526, null],[null, 20526]</td>\n",
       "      <td>https://no.wikipedia.org/w/index.php?curid=30880</td>\n",
       "      <td>0.000030</td>\n",
       "      <td>1</td>\n",
       "    </tr>\n",
       "    <tr>\n",
       "      <th>4</th>\n",
       "      <td>394721</td>\n",
       "      <td>Israel</td>\n",
       "      <td>https://no.wikipedia.org/wiki/Israel</td>\n",
       "      <td>11276</td>\n",
       "      <td>787</td>\n",
       "      <td>0</td>\n",
       "      <td></td>\n",
       "      <td>372</td>\n",
       "      <td>411</td>\n",
       "      <td>2024-07-02 02:36:43</td>\n",
       "      <td>\\n\\n\\n\\n\\nIsrael, offisielt Staten Israel, er ...</td>\n",
       "      <td>israel</td>\n",
       "      <td>161120.0</td>\n",
       "      <td>[435523],[null, 435523]</td>\n",
       "      <td>https://no.wikipedia.org/w/index.php?curid=394721</td>\n",
       "      <td>0.000037</td>\n",
       "      <td>1</td>\n",
       "    </tr>\n",
       "    <tr>\n",
       "      <th>...</th>\n",
       "      <td>...</td>\n",
       "      <td>...</td>\n",
       "      <td>...</td>\n",
       "      <td>...</td>\n",
       "      <td>...</td>\n",
       "      <td>...</td>\n",
       "      <td>...</td>\n",
       "      <td>...</td>\n",
       "      <td>...</td>\n",
       "      <td>...</td>\n",
       "      <td>...</td>\n",
       "      <td>...</td>\n",
       "      <td>...</td>\n",
       "      <td>...</td>\n",
       "      <td>...</td>\n",
       "      <td>...</td>\n",
       "      <td>...</td>\n",
       "    </tr>\n",
       "    <tr>\n",
       "      <th>135293</th>\n",
       "      <td>392195</td>\n",
       "      <td>Zhouqu</td>\n",
       "      <td>https://no.wikipedia.org/wiki/Zhouqu</td>\n",
       "      <td>209</td>\n",
       "      <td>17</td>\n",
       "      <td>0</td>\n",
       "      <td></td>\n",
       "      <td>3</td>\n",
       "      <td>4</td>\n",
       "      <td>2023-03-29 23:23:41</td>\n",
       "      <td>\\n\\nZhugqu eller Zhouqu (kinesisk: 舟曲县; pinyin...</td>\n",
       "      <td>zhouqu</td>\n",
       "      <td>11.0</td>\n",
       "      <td>[545164]</td>\n",
       "      <td>https://no.wikipedia.org/w/index.php?curid=392195</td>\n",
       "      <td>0.985849</td>\n",
       "      <td>1</td>\n",
       "    </tr>\n",
       "    <tr>\n",
       "      <th>135294</th>\n",
       "      <td>16375</td>\n",
       "      <td>Ziglipton</td>\n",
       "      <td>https://no.wikipedia.org/wiki/Ziglipton</td>\n",
       "      <td>267</td>\n",
       "      <td>45</td>\n",
       "      <td>0</td>\n",
       "      <td></td>\n",
       "      <td>7</td>\n",
       "      <td>2</td>\n",
       "      <td>2023-07-26 18:48:58</td>\n",
       "      <td>\\n\\n* Se systematisk inndeling\\n\\n\\nZiglipton ...</td>\n",
       "      <td>ziglipton</td>\n",
       "      <td>11.0</td>\n",
       "      <td>[1395842]</td>\n",
       "      <td>https://no.wikipedia.org/w/index.php?curid=16375</td>\n",
       "      <td>0.985849</td>\n",
       "      <td>1</td>\n",
       "    </tr>\n",
       "    <tr>\n",
       "      <th>135295</th>\n",
       "      <td>16375</td>\n",
       "      <td>Zimmiellini</td>\n",
       "      <td>https://no.wikipedia.org/wiki/Zimmiellini</td>\n",
       "      <td>442</td>\n",
       "      <td>45</td>\n",
       "      <td>0</td>\n",
       "      <td></td>\n",
       "      <td>7</td>\n",
       "      <td>2</td>\n",
       "      <td>2023-10-18 06:53:44</td>\n",
       "      <td>\\n\\n\\n\\nZimmiellini er en gruppe av snutebille...</td>\n",
       "      <td>zimmiellini</td>\n",
       "      <td>11.0</td>\n",
       "      <td>[2043073]</td>\n",
       "      <td>https://no.wikipedia.org/w/index.php?curid=16375</td>\n",
       "      <td>0.985849</td>\n",
       "      <td>1</td>\n",
       "    </tr>\n",
       "    <tr>\n",
       "      <th>135296</th>\n",
       "      <td>562820</td>\n",
       "      <td>Ærølisten</td>\n",
       "      <td>https://no.wikipedia.org/wiki/Ærølisten</td>\n",
       "      <td>102</td>\n",
       "      <td>6</td>\n",
       "      <td>0</td>\n",
       "      <td></td>\n",
       "      <td>4</td>\n",
       "      <td>0</td>\n",
       "      <td>2023-07-23 17:35:43</td>\n",
       "      <td>\\n\\nÆrølisten er en lokalpolitisk borgerliste ...</td>\n",
       "      <td>ærølisten</td>\n",
       "      <td>11.0</td>\n",
       "      <td>[441871]</td>\n",
       "      <td>https://no.wikipedia.org/w/index.php?curid=562820</td>\n",
       "      <td>0.985849</td>\n",
       "      <td>1</td>\n",
       "    </tr>\n",
       "    <tr>\n",
       "      <th>135297</th>\n",
       "      <td>3003</td>\n",
       "      <td>Örnahusen</td>\n",
       "      <td>https://no.wikipedia.org/wiki/Örnahusen</td>\n",
       "      <td>97</td>\n",
       "      <td>8</td>\n",
       "      <td>0</td>\n",
       "      <td></td>\n",
       "      <td>2</td>\n",
       "      <td>1</td>\n",
       "      <td>2022-07-05 11:36:01</td>\n",
       "      <td>\\nÖrnahusen er et mindre sted i Östra Hoby sog...</td>\n",
       "      <td>örnahusen</td>\n",
       "      <td>11.0</td>\n",
       "      <td>[1391727]</td>\n",
       "      <td>https://no.wikipedia.org/w/index.php?curid=3003</td>\n",
       "      <td>0.985849</td>\n",
       "      <td>1</td>\n",
       "    </tr>\n",
       "  </tbody>\n",
       "</table>\n",
       "<p>135298 rows × 17 columns</p>\n",
       "</div>"
      ],
      "text/plain": [
       "        page_id        title                                        url  \\\n",
       "0         99115        Norge        https://no.wikipedia.org/wiki/Norge   \n",
       "1        190116     Facebook     https://no.wikipedia.org/wiki/Facebook   \n",
       "2        241256          NAV          https://no.wikipedia.org/wiki/NAV   \n",
       "3         30880  Gazastripen  https://no.wikipedia.org/wiki/Gazastripen   \n",
       "4        394721       Israel       https://no.wikipedia.org/wiki/Israel   \n",
       "...         ...          ...                                        ...   \n",
       "135293   392195       Zhouqu       https://no.wikipedia.org/wiki/Zhouqu   \n",
       "135294    16375    Ziglipton    https://no.wikipedia.org/wiki/Ziglipton   \n",
       "135295    16375  Zimmiellini  https://no.wikipedia.org/wiki/Zimmiellini   \n",
       "135296   562820    Ærølisten    https://no.wikipedia.org/wiki/Ærølisten   \n",
       "135297     3003    Örnahusen    https://no.wikipedia.org/wiki/Örnahusen   \n",
       "\n",
       "        word_count  outlink_count  category_count categories  template_count  \\\n",
       "0            15019           1003               0                        318   \n",
       "1              892             35               0                         32   \n",
       "2              968             35               0                         22   \n",
       "3             2691            136               0                         39   \n",
       "4            11276            787               0                        372   \n",
       "...            ...            ...             ...        ...             ...   \n",
       "135293         209             17               0                          3   \n",
       "135294         267             45               0                          7   \n",
       "135295         442             45               0                          7   \n",
       "135296         102              6               0                          4   \n",
       "135297          97              8               0                          2   \n",
       "\n",
       "        external_link_count       last_modified  \\\n",
       "0                       207 2024-09-26 11:38:44   \n",
       "1                        38 2024-03-14 22:45:28   \n",
       "2                        27 2024-09-30 11:49:05   \n",
       "3                        51 2024-06-05 15:39:06   \n",
       "4                       411 2024-07-02 02:36:43   \n",
       "...                     ...                 ...   \n",
       "135293                    4 2023-03-29 23:23:41   \n",
       "135294                    2 2023-07-26 18:48:58   \n",
       "135295                    2 2023-10-18 06:53:44   \n",
       "135296                    0 2023-07-23 17:35:43   \n",
       "135297                    1 2022-07-05 11:36:01   \n",
       "\n",
       "                                           processed_text  title_match  \\\n",
       "0       \\n\\n\\n\\nNorge, offisielt Kongeriket Norge, er ...        norge   \n",
       "1       \\n\\n\\n\\nFacebook () er et sosialt nettverk som...     facebook   \n",
       "2       \\n\\n\\n\\n\\nNAV (Arbeids- og velferdsforvaltning...          nav   \n",
       "3       \\n\\n\\n\\nGazastripen eller Gazastripa er en sma...  gazastripen   \n",
       "4       \\n\\n\\n\\n\\nIsrael, offisielt Staten Israel, er ...       israel   \n",
       "...                                                   ...          ...   \n",
       "135293  \\n\\nZhugqu eller Zhouqu (kinesisk: 舟曲县; pinyin...       zhouqu   \n",
       "135294  \\n\\n* Se systematisk inndeling\\n\\n\\nZiglipton ...    ziglipton   \n",
       "135295  \\n\\n\\n\\nZimmiellini er en gruppe av snutebille...  zimmiellini   \n",
       "135296  \\n\\nÆrølisten er en lokalpolitisk borgerliste ...    ærølisten   \n",
       "135297  \\nÖrnahusen er et mindre sted i Östra Hoby sog...    örnahusen   \n",
       "\n",
       "        total_views                     aggregated_page_ids  \\\n",
       "0          266626.0                       [null, 728],[728]   \n",
       "1          224285.0                 [289714],[null, 289714]   \n",
       "2          196957.0  [null, 282978],[150352],[null, 150352]   \n",
       "3          162757.0     [20526],[20526, null],[null, 20526]   \n",
       "4          161120.0                 [435523],[null, 435523]   \n",
       "...             ...                                     ...   \n",
       "135293         11.0                                [545164]   \n",
       "135294         11.0                               [1395842]   \n",
       "135295         11.0                               [2043073]   \n",
       "135296         11.0                                [441871]   \n",
       "135297         11.0                               [1391727]   \n",
       "\n",
       "                                            url_pageviews  views_percentile  \\\n",
       "0        https://no.wikipedia.org/w/index.php?curid=99115          0.000000   \n",
       "1       https://no.wikipedia.org/w/index.php?curid=190116          0.000007   \n",
       "2       https://no.wikipedia.org/w/index.php?curid=241256          0.000015   \n",
       "3        https://no.wikipedia.org/w/index.php?curid=30880          0.000030   \n",
       "4       https://no.wikipedia.org/w/index.php?curid=394721          0.000037   \n",
       "...                                                   ...               ...   \n",
       "135293  https://no.wikipedia.org/w/index.php?curid=392195          0.985849   \n",
       "135294   https://no.wikipedia.org/w/index.php?curid=16375          0.985849   \n",
       "135295   https://no.wikipedia.org/w/index.php?curid=16375          0.985849   \n",
       "135296  https://no.wikipedia.org/w/index.php?curid=562820          0.985849   \n",
       "135297    https://no.wikipedia.org/w/index.php?curid=3003          0.985849   \n",
       "\n",
       "        rn  \n",
       "0        1  \n",
       "1        1  \n",
       "2        1  \n",
       "3        1  \n",
       "4        1  \n",
       "...     ..  \n",
       "135293   1  \n",
       "135294   1  \n",
       "135295   1  \n",
       "135296   1  \n",
       "135297   1  \n",
       "\n",
       "[135298 rows x 17 columns]"
      ]
     },
     "execution_count": 10,
     "metadata": {},
     "output_type": "execute_result"
    }
   ],
   "source": [
    "print(\"Top Articles with Pageviews:\")\n",
    "df_top_articles = con.sql(\"\"\"\n",
    "    SELECT *\n",
    "    FROM pageviews_aggregated_top_articles \n",
    "    ORDER BY total_views DESC \n",
    "\"\"\").df()\n",
    "\n",
    "df_top_articles"
   ]
  },
  {
   "cell_type": "markdown",
   "metadata": {},
   "source": [
    "# Can now implement samf filtering strategy as for smaller wikis:\n",
    "\n"
   ]
  },
  {
   "cell_type": "code",
   "execution_count": 15,
   "metadata": {
    "notebookRunGroups": {
     "groupValue": "2"
    }
   },
   "outputs": [
    {
     "data": {
      "text/html": [
       "<div>\n",
       "<style scoped>\n",
       "    .dataframe tbody tr th:only-of-type {\n",
       "        vertical-align: middle;\n",
       "    }\n",
       "\n",
       "    .dataframe tbody tr th {\n",
       "        vertical-align: top;\n",
       "    }\n",
       "\n",
       "    .dataframe thead th {\n",
       "        text-align: right;\n",
       "    }\n",
       "</style>\n",
       "<table border=\"1\" class=\"dataframe\">\n",
       "  <thead>\n",
       "    <tr style=\"text-align: right;\">\n",
       "      <th></th>\n",
       "      <th>page_id</th>\n",
       "      <th>title</th>\n",
       "      <th>url</th>\n",
       "      <th>word_count</th>\n",
       "      <th>outlink_count</th>\n",
       "      <th>category_count</th>\n",
       "      <th>categories</th>\n",
       "      <th>template_count</th>\n",
       "      <th>external_link_count</th>\n",
       "      <th>last_modified</th>\n",
       "      <th>processed_text</th>\n",
       "      <th>title_match</th>\n",
       "      <th>total_views</th>\n",
       "      <th>aggregated_page_ids</th>\n",
       "      <th>url_pageviews</th>\n",
       "      <th>views_percentile</th>\n",
       "      <th>rn</th>\n",
       "    </tr>\n",
       "  </thead>\n",
       "  <tbody>\n",
       "    <tr>\n",
       "      <th>42344</th>\n",
       "      <td>27430</td>\n",
       "      <td>Hyperemi</td>\n",
       "      <td>https://no.wikipedia.org/wiki/Hyperemi</td>\n",
       "      <td>100</td>\n",
       "      <td>14</td>\n",
       "      <td>0</td>\n",
       "      <td></td>\n",
       "      <td>7</td>\n",
       "      <td>0</td>\n",
       "      <td>2016-03-21 14:56:42</td>\n",
       "      <td>\\n\\nHyperemi (fra gresk «hyper» over og «aima»...</td>\n",
       "      <td>hyperemi</td>\n",
       "      <td>321.0</td>\n",
       "      <td>[null, 598334],[598334]</td>\n",
       "      <td>https://no.wikipedia.org/w/index.php?curid=27430</td>\n",
       "      <td>0.313332</td>\n",
       "      <td>1</td>\n",
       "    </tr>\n",
       "    <tr>\n",
       "      <th>54112</th>\n",
       "      <td>1318</td>\n",
       "      <td>Baotian</td>\n",
       "      <td>https://no.wikipedia.org/wiki/Baotian</td>\n",
       "      <td>100</td>\n",
       "      <td>16</td>\n",
       "      <td>0</td>\n",
       "      <td></td>\n",
       "      <td>2</td>\n",
       "      <td>0</td>\n",
       "      <td>2018-02-08 14:10:48</td>\n",
       "      <td>\\nBaotian (fullt navn på kinesisk: 江门市中港宝田摩托车实...</td>\n",
       "      <td>baotian</td>\n",
       "      <td>195.0</td>\n",
       "      <td>[418193]</td>\n",
       "      <td>https://no.wikipedia.org/w/index.php?curid=1318</td>\n",
       "      <td>0.400339</td>\n",
       "      <td>1</td>\n",
       "    </tr>\n",
       "  </tbody>\n",
       "</table>\n",
       "</div>"
      ],
      "text/plain": [
       "       page_id     title                                     url  word_count  \\\n",
       "42344    27430  Hyperemi  https://no.wikipedia.org/wiki/Hyperemi         100   \n",
       "54112     1318   Baotian   https://no.wikipedia.org/wiki/Baotian         100   \n",
       "\n",
       "       outlink_count  category_count categories  template_count  \\\n",
       "42344             14               0                          7   \n",
       "54112             16               0                          2   \n",
       "\n",
       "       external_link_count       last_modified  \\\n",
       "42344                    0 2016-03-21 14:56:42   \n",
       "54112                    0 2018-02-08 14:10:48   \n",
       "\n",
       "                                          processed_text title_match  \\\n",
       "42344  \\n\\nHyperemi (fra gresk «hyper» over og «aima»...    hyperemi   \n",
       "54112  \\nBaotian (fullt navn på kinesisk: 江门市中港宝田摩托车实...     baotian   \n",
       "\n",
       "       total_views      aggregated_page_ids  \\\n",
       "42344        321.0  [null, 598334],[598334]   \n",
       "54112        195.0                 [418193]   \n",
       "\n",
       "                                          url_pageviews  views_percentile  rn  \n",
       "42344  https://no.wikipedia.org/w/index.php?curid=27430          0.313332   1  \n",
       "54112   https://no.wikipedia.org/w/index.php?curid=1318          0.400339   1  "
      ]
     },
     "execution_count": 15,
     "metadata": {},
     "output_type": "execute_result"
    }
   ],
   "source": [
    "from_words = 100\n",
    "to_words = 200\n",
    "\n",
    "df_merged = df_top_articles\n",
    "\n",
    "df_merged[df_merged.word_count.between(from_words, to_words)].sort_values(\"word_count\", ascending=True).head(2)"
   ]
  },
  {
   "cell_type": "markdown",
   "metadata": {},
   "source": [
    "### Filter on max_outlinks?"
   ]
  },
  {
   "cell_type": "code",
   "execution_count": 18,
   "metadata": {},
   "outputs": [
    {
     "data": {
      "text/html": [
       "<div>\n",
       "<style scoped>\n",
       "    .dataframe tbody tr th:only-of-type {\n",
       "        vertical-align: middle;\n",
       "    }\n",
       "\n",
       "    .dataframe tbody tr th {\n",
       "        vertical-align: top;\n",
       "    }\n",
       "\n",
       "    .dataframe thead th {\n",
       "        text-align: right;\n",
       "    }\n",
       "</style>\n",
       "<table border=\"1\" class=\"dataframe\">\n",
       "  <thead>\n",
       "    <tr style=\"text-align: right;\">\n",
       "      <th></th>\n",
       "      <th>index</th>\n",
       "      <th>page_id</th>\n",
       "      <th>title</th>\n",
       "      <th>url</th>\n",
       "      <th>word_count</th>\n",
       "      <th>outlink_count</th>\n",
       "      <th>category_count</th>\n",
       "      <th>categories</th>\n",
       "      <th>template_count</th>\n",
       "      <th>external_link_count</th>\n",
       "      <th>last_modified</th>\n",
       "      <th>processed_text</th>\n",
       "      <th>title_match</th>\n",
       "      <th>total_views</th>\n",
       "      <th>aggregated_page_ids</th>\n",
       "      <th>url_pageviews</th>\n",
       "      <th>views_percentile</th>\n",
       "      <th>rn</th>\n",
       "    </tr>\n",
       "  </thead>\n",
       "  <tbody>\n",
       "    <tr>\n",
       "      <th>0</th>\n",
       "      <td>2076</td>\n",
       "      <td>496017</td>\n",
       "      <td>Postnummerkatalogen</td>\n",
       "      <td>https://no.wikipedia.org/wiki/Postnummerkatalogen</td>\n",
       "      <td>1322</td>\n",
       "      <td>4450</td>\n",
       "      <td>0</td>\n",
       "      <td></td>\n",
       "      <td>1</td>\n",
       "      <td>0</td>\n",
       "      <td>2024-09-10 07:37:41</td>\n",
       "      <td>Postnummerkatalogen er en fortegnelse over Nor...</td>\n",
       "      <td>postnummerkatalogen</td>\n",
       "      <td>7525.0</td>\n",
       "      <td>[null, 1282044],[1282044, null]</td>\n",
       "      <td>https://no.wikipedia.org/w/index.php?curid=496017</td>\n",
       "      <td>0.015368</td>\n",
       "      <td>1</td>\n",
       "    </tr>\n",
       "    <tr>\n",
       "      <th>1</th>\n",
       "      <td>243</td>\n",
       "      <td>37718</td>\n",
       "      <td>2023</td>\n",
       "      <td>https://no.wikipedia.org/wiki/2023</td>\n",
       "      <td>22793</td>\n",
       "      <td>2117</td>\n",
       "      <td>0</td>\n",
       "      <td></td>\n",
       "      <td>35</td>\n",
       "      <td>281</td>\n",
       "      <td>2024-07-17 08:24:15</td>\n",
       "      <td>\\n\\n2023 (MMXXIII) i den gregorianske kalender...</td>\n",
       "      <td>2023</td>\n",
       "      <td>24465.0</td>\n",
       "      <td>[null, 14707],[14707]</td>\n",
       "      <td>https://no.wikipedia.org/w/index.php?curid=37718</td>\n",
       "      <td>0.001800</td>\n",
       "      <td>1</td>\n",
       "    </tr>\n",
       "    <tr>\n",
       "      <th>2</th>\n",
       "      <td>13</td>\n",
       "      <td>216895</td>\n",
       "      <td>Bergen</td>\n",
       "      <td>https://no.wikipedia.org/wiki/Bergen</td>\n",
       "      <td>21940</td>\n",
       "      <td>2063</td>\n",
       "      <td>0</td>\n",
       "      <td></td>\n",
       "      <td>466</td>\n",
       "      <td>140</td>\n",
       "      <td>2024-09-23 19:46:22</td>\n",
       "      <td>\\n\\nBergen er en by og kommune i Vestland og e...</td>\n",
       "      <td>bergen</td>\n",
       "      <td>84850.0</td>\n",
       "      <td>[null, 95],[95]</td>\n",
       "      <td>https://no.wikipedia.org/w/index.php?curid=216895</td>\n",
       "      <td>0.000103</td>\n",
       "      <td>1</td>\n",
       "    </tr>\n",
       "  </tbody>\n",
       "</table>\n",
       "</div>"
      ],
      "text/plain": [
       "   index  page_id                title  \\\n",
       "0   2076   496017  Postnummerkatalogen   \n",
       "1    243    37718                 2023   \n",
       "2     13   216895               Bergen   \n",
       "\n",
       "                                                 url  word_count  \\\n",
       "0  https://no.wikipedia.org/wiki/Postnummerkatalogen        1322   \n",
       "1                 https://no.wikipedia.org/wiki/2023       22793   \n",
       "2               https://no.wikipedia.org/wiki/Bergen       21940   \n",
       "\n",
       "   outlink_count  category_count categories  template_count  \\\n",
       "0           4450               0                          1   \n",
       "1           2117               0                         35   \n",
       "2           2063               0                        466   \n",
       "\n",
       "   external_link_count       last_modified  \\\n",
       "0                    0 2024-09-10 07:37:41   \n",
       "1                  281 2024-07-17 08:24:15   \n",
       "2                  140 2024-09-23 19:46:22   \n",
       "\n",
       "                                      processed_text          title_match  \\\n",
       "0  Postnummerkatalogen er en fortegnelse over Nor...  postnummerkatalogen   \n",
       "1  \\n\\n2023 (MMXXIII) i den gregorianske kalender...                 2023   \n",
       "2  \\n\\nBergen er en by og kommune i Vestland og e...               bergen   \n",
       "\n",
       "   total_views              aggregated_page_ids  \\\n",
       "0       7525.0  [null, 1282044],[1282044, null]   \n",
       "1      24465.0            [null, 14707],[14707]   \n",
       "2      84850.0                  [null, 95],[95]   \n",
       "\n",
       "                                       url_pageviews  views_percentile  rn  \n",
       "0  https://no.wikipedia.org/w/index.php?curid=496017          0.015368   1  \n",
       "1   https://no.wikipedia.org/w/index.php?curid=37718          0.001800   1  \n",
       "2  https://no.wikipedia.org/w/index.php?curid=216895          0.000103   1  "
      ]
     },
     "metadata": {},
     "output_type": "display_data"
    },
    {
     "data": {
      "application/vnd.plotly.v1+json": {
       "config": {
        "plotlyServerURL": "https://plot.ly"
       },
       "data": [
        {
         "customdata": [
          [
           "Postnummerkatalogen"
          ],
          [
           "2023"
          ],
          [
           "Bergen"
          ],
          [
           "Europavei"
          ],
          [
           "Cæciliaforeningen"
          ],
          [
           "2022"
          ],
          [
           "2008"
          ],
          [
           "Europa"
          ],
          [
           "Xyleborus"
          ],
          [
           "Oslo"
          ],
          [
           "Tanagarfamilien"
          ],
          [
           "Alpene"
          ],
          [
           "2007"
          ],
          [
           "2006"
          ],
          [
           "Pterostichus"
          ],
          [
           "Formannskapslovene"
          ],
          [
           "Mordellistena"
          ],
          [
           "Linuxkjernen"
          ],
          [
           "Gammaridea"
          ],
          [
           "Conotrachelus"
          ],
          [
           "Russland"
          ],
          [
           "Chlaenius"
          ],
          [
           "Paus"
          ],
          [
           "USA"
          ],
          [
           "Novemberrevolusjonen"
          ],
          [
           "Holocaust"
          ],
          [
           "Kristendom"
          ],
          [
           "2005"
          ],
          [
           "Danmark"
          ],
          [
           "Sphenoptera"
          ],
          [
           "Polen"
          ],
          [
           "IATA-flyselskapskode"
          ],
          [
           "Sisselrotfamilien"
          ],
          [
           "Norge"
          ],
          [
           "WrestleMania"
          ],
          [
           "Karplanter"
          ],
          [
           "Trechus"
          ],
          [
           "Hydraena"
          ],
          [
           "Baris"
          ],
          [
           "Zyras"
          ],
          [
           "1982"
          ],
          [
           "Alge"
          ],
          [
           "Stavanger"
          ],
          [
           "Takhtajan-systemet"
          ],
          [
           "2024"
          ],
          [
           "Solen"
          ],
          [
           "Olethreutinae"
          ],
          [
           "Amarygmus"
          ],
          [
           "2010"
          ],
          [
           "Donau"
          ],
          [
           "Videospillserier"
          ],
          [
           "1945"
          ],
          [
           "Bodø"
          ],
          [
           "Irland"
          ],
          [
           "Curaçao"
          ],
          [
           "Curculio"
          ],
          [
           "Syssel"
          ],
          [
           "Rhynchaenus"
          ],
          [
           "Vestland"
          ],
          [
           "Verdensdel"
          ],
          [
           "India"
          ],
          [
           "Eckersbergmedaljen"
          ],
          [
           "Phyllophaga"
          ],
          [
           "Iran"
          ],
          [
           "Rock"
          ],
          [
           "Innlandet"
          ],
          [
           "Pterolophia"
          ],
          [
           "Anthonomus"
          ],
          [
           "Tyskland"
          ],
          [
           "København"
          ],
          [
           "Melanotus"
          ],
          [
           "Generalfeltmarskalk"
          ],
          [
           "Scaphisoma"
          ],
          [
           "Gyrophaena"
          ],
          [
           "Israel"
          ]
         ],
         "hovertemplate": "_index=%{x}<br>outlink_count=%{y}<br>title=%{customdata[0]}<extra></extra>",
         "legendgroup": "",
         "marker": {
          "color": "#636efa",
          "symbol": "circle"
         },
         "mode": "markers",
         "name": "",
         "orientation": "v",
         "showlegend": false,
         "type": "scatter",
         "x": [
          0,
          1,
          2,
          3,
          4,
          5,
          6,
          7,
          8,
          9,
          10,
          11,
          12,
          13,
          14,
          15,
          16,
          17,
          18,
          19,
          20,
          21,
          22,
          23,
          24,
          25,
          26,
          27,
          28,
          29,
          30,
          31,
          32,
          33,
          34,
          35,
          36,
          37,
          38,
          39,
          40,
          41,
          42,
          43,
          44,
          45,
          46,
          47,
          48,
          49,
          50,
          51,
          52,
          53,
          54,
          55,
          56,
          57,
          58,
          59,
          60,
          61,
          62,
          63,
          64,
          65,
          66,
          67,
          68,
          69,
          70,
          71,
          72,
          73,
          74
         ],
         "xaxis": "x",
         "y": [
          4450,
          2117,
          2063,
          1992,
          1955,
          1934,
          1748,
          1565,
          1558,
          1520,
          1490,
          1478,
          1478,
          1353,
          1317,
          1292,
          1258,
          1246,
          1214,
          1163,
          1156,
          1148,
          1148,
          1088,
          1084,
          1076,
          1070,
          1058,
          1046,
          1036,
          1027,
          1018,
          1008,
          1003,
          998,
          989,
          954,
          948,
          945,
          942,
          941,
          940,
          935,
          928,
          924,
          908,
          899,
          895,
          895,
          890,
          868,
          867,
          854,
          847,
          835,
          827,
          822,
          821,
          821,
          819,
          815,
          814,
          812,
          808,
          807,
          806,
          805,
          805,
          804,
          803,
          801,
          799,
          792,
          788,
          787
         ],
         "yaxis": "y"
        }
       ],
       "layout": {
        "legend": {
         "tracegroupgap": 0
        },
        "margin": {
         "t": 60
        },
        "template": {
         "data": {
          "bar": [
           {
            "error_x": {
             "color": "#2a3f5f"
            },
            "error_y": {
             "color": "#2a3f5f"
            },
            "marker": {
             "line": {
              "color": "#E5ECF6",
              "width": 0.5
             },
             "pattern": {
              "fillmode": "overlay",
              "size": 10,
              "solidity": 0.2
             }
            },
            "type": "bar"
           }
          ],
          "barpolar": [
           {
            "marker": {
             "line": {
              "color": "#E5ECF6",
              "width": 0.5
             },
             "pattern": {
              "fillmode": "overlay",
              "size": 10,
              "solidity": 0.2
             }
            },
            "type": "barpolar"
           }
          ],
          "carpet": [
           {
            "aaxis": {
             "endlinecolor": "#2a3f5f",
             "gridcolor": "white",
             "linecolor": "white",
             "minorgridcolor": "white",
             "startlinecolor": "#2a3f5f"
            },
            "baxis": {
             "endlinecolor": "#2a3f5f",
             "gridcolor": "white",
             "linecolor": "white",
             "minorgridcolor": "white",
             "startlinecolor": "#2a3f5f"
            },
            "type": "carpet"
           }
          ],
          "choropleth": [
           {
            "colorbar": {
             "outlinewidth": 0,
             "ticks": ""
            },
            "type": "choropleth"
           }
          ],
          "contour": [
           {
            "colorbar": {
             "outlinewidth": 0,
             "ticks": ""
            },
            "colorscale": [
             [
              0,
              "#0d0887"
             ],
             [
              0.1111111111111111,
              "#46039f"
             ],
             [
              0.2222222222222222,
              "#7201a8"
             ],
             [
              0.3333333333333333,
              "#9c179e"
             ],
             [
              0.4444444444444444,
              "#bd3786"
             ],
             [
              0.5555555555555556,
              "#d8576b"
             ],
             [
              0.6666666666666666,
              "#ed7953"
             ],
             [
              0.7777777777777778,
              "#fb9f3a"
             ],
             [
              0.8888888888888888,
              "#fdca26"
             ],
             [
              1,
              "#f0f921"
             ]
            ],
            "type": "contour"
           }
          ],
          "contourcarpet": [
           {
            "colorbar": {
             "outlinewidth": 0,
             "ticks": ""
            },
            "type": "contourcarpet"
           }
          ],
          "heatmap": [
           {
            "colorbar": {
             "outlinewidth": 0,
             "ticks": ""
            },
            "colorscale": [
             [
              0,
              "#0d0887"
             ],
             [
              0.1111111111111111,
              "#46039f"
             ],
             [
              0.2222222222222222,
              "#7201a8"
             ],
             [
              0.3333333333333333,
              "#9c179e"
             ],
             [
              0.4444444444444444,
              "#bd3786"
             ],
             [
              0.5555555555555556,
              "#d8576b"
             ],
             [
              0.6666666666666666,
              "#ed7953"
             ],
             [
              0.7777777777777778,
              "#fb9f3a"
             ],
             [
              0.8888888888888888,
              "#fdca26"
             ],
             [
              1,
              "#f0f921"
             ]
            ],
            "type": "heatmap"
           }
          ],
          "heatmapgl": [
           {
            "colorbar": {
             "outlinewidth": 0,
             "ticks": ""
            },
            "colorscale": [
             [
              0,
              "#0d0887"
             ],
             [
              0.1111111111111111,
              "#46039f"
             ],
             [
              0.2222222222222222,
              "#7201a8"
             ],
             [
              0.3333333333333333,
              "#9c179e"
             ],
             [
              0.4444444444444444,
              "#bd3786"
             ],
             [
              0.5555555555555556,
              "#d8576b"
             ],
             [
              0.6666666666666666,
              "#ed7953"
             ],
             [
              0.7777777777777778,
              "#fb9f3a"
             ],
             [
              0.8888888888888888,
              "#fdca26"
             ],
             [
              1,
              "#f0f921"
             ]
            ],
            "type": "heatmapgl"
           }
          ],
          "histogram": [
           {
            "marker": {
             "pattern": {
              "fillmode": "overlay",
              "size": 10,
              "solidity": 0.2
             }
            },
            "type": "histogram"
           }
          ],
          "histogram2d": [
           {
            "colorbar": {
             "outlinewidth": 0,
             "ticks": ""
            },
            "colorscale": [
             [
              0,
              "#0d0887"
             ],
             [
              0.1111111111111111,
              "#46039f"
             ],
             [
              0.2222222222222222,
              "#7201a8"
             ],
             [
              0.3333333333333333,
              "#9c179e"
             ],
             [
              0.4444444444444444,
              "#bd3786"
             ],
             [
              0.5555555555555556,
              "#d8576b"
             ],
             [
              0.6666666666666666,
              "#ed7953"
             ],
             [
              0.7777777777777778,
              "#fb9f3a"
             ],
             [
              0.8888888888888888,
              "#fdca26"
             ],
             [
              1,
              "#f0f921"
             ]
            ],
            "type": "histogram2d"
           }
          ],
          "histogram2dcontour": [
           {
            "colorbar": {
             "outlinewidth": 0,
             "ticks": ""
            },
            "colorscale": [
             [
              0,
              "#0d0887"
             ],
             [
              0.1111111111111111,
              "#46039f"
             ],
             [
              0.2222222222222222,
              "#7201a8"
             ],
             [
              0.3333333333333333,
              "#9c179e"
             ],
             [
              0.4444444444444444,
              "#bd3786"
             ],
             [
              0.5555555555555556,
              "#d8576b"
             ],
             [
              0.6666666666666666,
              "#ed7953"
             ],
             [
              0.7777777777777778,
              "#fb9f3a"
             ],
             [
              0.8888888888888888,
              "#fdca26"
             ],
             [
              1,
              "#f0f921"
             ]
            ],
            "type": "histogram2dcontour"
           }
          ],
          "mesh3d": [
           {
            "colorbar": {
             "outlinewidth": 0,
             "ticks": ""
            },
            "type": "mesh3d"
           }
          ],
          "parcoords": [
           {
            "line": {
             "colorbar": {
              "outlinewidth": 0,
              "ticks": ""
             }
            },
            "type": "parcoords"
           }
          ],
          "pie": [
           {
            "automargin": true,
            "type": "pie"
           }
          ],
          "scatter": [
           {
            "fillpattern": {
             "fillmode": "overlay",
             "size": 10,
             "solidity": 0.2
            },
            "type": "scatter"
           }
          ],
          "scatter3d": [
           {
            "line": {
             "colorbar": {
              "outlinewidth": 0,
              "ticks": ""
             }
            },
            "marker": {
             "colorbar": {
              "outlinewidth": 0,
              "ticks": ""
             }
            },
            "type": "scatter3d"
           }
          ],
          "scattercarpet": [
           {
            "marker": {
             "colorbar": {
              "outlinewidth": 0,
              "ticks": ""
             }
            },
            "type": "scattercarpet"
           }
          ],
          "scattergeo": [
           {
            "marker": {
             "colorbar": {
              "outlinewidth": 0,
              "ticks": ""
             }
            },
            "type": "scattergeo"
           }
          ],
          "scattergl": [
           {
            "marker": {
             "colorbar": {
              "outlinewidth": 0,
              "ticks": ""
             }
            },
            "type": "scattergl"
           }
          ],
          "scattermapbox": [
           {
            "marker": {
             "colorbar": {
              "outlinewidth": 0,
              "ticks": ""
             }
            },
            "type": "scattermapbox"
           }
          ],
          "scatterpolar": [
           {
            "marker": {
             "colorbar": {
              "outlinewidth": 0,
              "ticks": ""
             }
            },
            "type": "scatterpolar"
           }
          ],
          "scatterpolargl": [
           {
            "marker": {
             "colorbar": {
              "outlinewidth": 0,
              "ticks": ""
             }
            },
            "type": "scatterpolargl"
           }
          ],
          "scatterternary": [
           {
            "marker": {
             "colorbar": {
              "outlinewidth": 0,
              "ticks": ""
             }
            },
            "type": "scatterternary"
           }
          ],
          "surface": [
           {
            "colorbar": {
             "outlinewidth": 0,
             "ticks": ""
            },
            "colorscale": [
             [
              0,
              "#0d0887"
             ],
             [
              0.1111111111111111,
              "#46039f"
             ],
             [
              0.2222222222222222,
              "#7201a8"
             ],
             [
              0.3333333333333333,
              "#9c179e"
             ],
             [
              0.4444444444444444,
              "#bd3786"
             ],
             [
              0.5555555555555556,
              "#d8576b"
             ],
             [
              0.6666666666666666,
              "#ed7953"
             ],
             [
              0.7777777777777778,
              "#fb9f3a"
             ],
             [
              0.8888888888888888,
              "#fdca26"
             ],
             [
              1,
              "#f0f921"
             ]
            ],
            "type": "surface"
           }
          ],
          "table": [
           {
            "cells": {
             "fill": {
              "color": "#EBF0F8"
             },
             "line": {
              "color": "white"
             }
            },
            "header": {
             "fill": {
              "color": "#C8D4E3"
             },
             "line": {
              "color": "white"
             }
            },
            "type": "table"
           }
          ]
         },
         "layout": {
          "annotationdefaults": {
           "arrowcolor": "#2a3f5f",
           "arrowhead": 0,
           "arrowwidth": 1
          },
          "autotypenumbers": "strict",
          "coloraxis": {
           "colorbar": {
            "outlinewidth": 0,
            "ticks": ""
           }
          },
          "colorscale": {
           "diverging": [
            [
             0,
             "#8e0152"
            ],
            [
             0.1,
             "#c51b7d"
            ],
            [
             0.2,
             "#de77ae"
            ],
            [
             0.3,
             "#f1b6da"
            ],
            [
             0.4,
             "#fde0ef"
            ],
            [
             0.5,
             "#f7f7f7"
            ],
            [
             0.6,
             "#e6f5d0"
            ],
            [
             0.7,
             "#b8e186"
            ],
            [
             0.8,
             "#7fbc41"
            ],
            [
             0.9,
             "#4d9221"
            ],
            [
             1,
             "#276419"
            ]
           ],
           "sequential": [
            [
             0,
             "#0d0887"
            ],
            [
             0.1111111111111111,
             "#46039f"
            ],
            [
             0.2222222222222222,
             "#7201a8"
            ],
            [
             0.3333333333333333,
             "#9c179e"
            ],
            [
             0.4444444444444444,
             "#bd3786"
            ],
            [
             0.5555555555555556,
             "#d8576b"
            ],
            [
             0.6666666666666666,
             "#ed7953"
            ],
            [
             0.7777777777777778,
             "#fb9f3a"
            ],
            [
             0.8888888888888888,
             "#fdca26"
            ],
            [
             1,
             "#f0f921"
            ]
           ],
           "sequentialminus": [
            [
             0,
             "#0d0887"
            ],
            [
             0.1111111111111111,
             "#46039f"
            ],
            [
             0.2222222222222222,
             "#7201a8"
            ],
            [
             0.3333333333333333,
             "#9c179e"
            ],
            [
             0.4444444444444444,
             "#bd3786"
            ],
            [
             0.5555555555555556,
             "#d8576b"
            ],
            [
             0.6666666666666666,
             "#ed7953"
            ],
            [
             0.7777777777777778,
             "#fb9f3a"
            ],
            [
             0.8888888888888888,
             "#fdca26"
            ],
            [
             1,
             "#f0f921"
            ]
           ]
          },
          "colorway": [
           "#636efa",
           "#EF553B",
           "#00cc96",
           "#ab63fa",
           "#FFA15A",
           "#19d3f3",
           "#FF6692",
           "#B6E880",
           "#FF97FF",
           "#FECB52"
          ],
          "font": {
           "color": "#2a3f5f"
          },
          "geo": {
           "bgcolor": "white",
           "lakecolor": "white",
           "landcolor": "#E5ECF6",
           "showlakes": true,
           "showland": true,
           "subunitcolor": "white"
          },
          "hoverlabel": {
           "align": "left"
          },
          "hovermode": "closest",
          "mapbox": {
           "style": "light"
          },
          "paper_bgcolor": "white",
          "plot_bgcolor": "#E5ECF6",
          "polar": {
           "angularaxis": {
            "gridcolor": "white",
            "linecolor": "white",
            "ticks": ""
           },
           "bgcolor": "#E5ECF6",
           "radialaxis": {
            "gridcolor": "white",
            "linecolor": "white",
            "ticks": ""
           }
          },
          "scene": {
           "xaxis": {
            "backgroundcolor": "#E5ECF6",
            "gridcolor": "white",
            "gridwidth": 2,
            "linecolor": "white",
            "showbackground": true,
            "ticks": "",
            "zerolinecolor": "white"
           },
           "yaxis": {
            "backgroundcolor": "#E5ECF6",
            "gridcolor": "white",
            "gridwidth": 2,
            "linecolor": "white",
            "showbackground": true,
            "ticks": "",
            "zerolinecolor": "white"
           },
           "zaxis": {
            "backgroundcolor": "#E5ECF6",
            "gridcolor": "white",
            "gridwidth": 2,
            "linecolor": "white",
            "showbackground": true,
            "ticks": "",
            "zerolinecolor": "white"
           }
          },
          "shapedefaults": {
           "line": {
            "color": "#2a3f5f"
           }
          },
          "ternary": {
           "aaxis": {
            "gridcolor": "white",
            "linecolor": "white",
            "ticks": ""
           },
           "baxis": {
            "gridcolor": "white",
            "linecolor": "white",
            "ticks": ""
           },
           "bgcolor": "#E5ECF6",
           "caxis": {
            "gridcolor": "white",
            "linecolor": "white",
            "ticks": ""
           }
          },
          "title": {
           "x": 0.05
          },
          "xaxis": {
           "automargin": true,
           "gridcolor": "white",
           "linecolor": "white",
           "ticks": "",
           "title": {
            "standoff": 15
           },
           "zerolinecolor": "white",
           "zerolinewidth": 2
          },
          "yaxis": {
           "automargin": true,
           "gridcolor": "white",
           "linecolor": "white",
           "ticks": "",
           "title": {
            "standoff": 15
           },
           "zerolinecolor": "white",
           "zerolinewidth": 2
          }
         }
        },
        "xaxis": {
         "anchor": "y",
         "domain": [
          0,
          1
         ],
         "title": {
          "text": "_index"
         }
        },
        "yaxis": {
         "anchor": "x",
         "domain": [
          0,
          1
         ],
         "title": {
          "text": "outlink_count"
         }
        }
       }
      }
     },
     "metadata": {},
     "output_type": "display_data"
    }
   ],
   "source": [
    "import plotly.express as px\n",
    "\n",
    "\n",
    "N_PLOT = 75\n",
    "\n",
    "df_plot = df_merged.sort_values(\"outlink_count\", ascending=False).head(N_PLOT).copy().reset_index()\n",
    "\n",
    "display(df_plot.head(3))\n",
    "px.scatter(df_plot, x=df_plot.index, y=\"outlink_count\", hover_data=[\"title\"])\n"
   ]
  },
  {
   "cell_type": "markdown",
   "metadata": {},
   "source": [
    "### Final filtering"
   ]
  },
  {
   "cell_type": "code",
   "execution_count": 20,
   "metadata": {},
   "outputs": [
    {
     "data": {
      "text/html": [
       "<div>\n",
       "<style scoped>\n",
       "    .dataframe tbody tr th:only-of-type {\n",
       "        vertical-align: middle;\n",
       "    }\n",
       "\n",
       "    .dataframe tbody tr th {\n",
       "        vertical-align: top;\n",
       "    }\n",
       "\n",
       "    .dataframe thead th {\n",
       "        text-align: right;\n",
       "    }\n",
       "</style>\n",
       "<table border=\"1\" class=\"dataframe\">\n",
       "  <thead>\n",
       "    <tr style=\"text-align: right;\">\n",
       "      <th></th>\n",
       "      <th>page_id</th>\n",
       "      <th>title</th>\n",
       "      <th>url</th>\n",
       "      <th>word_count</th>\n",
       "      <th>outlink_count</th>\n",
       "      <th>category_count</th>\n",
       "      <th>categories</th>\n",
       "      <th>template_count</th>\n",
       "      <th>external_link_count</th>\n",
       "      <th>last_modified</th>\n",
       "      <th>processed_text</th>\n",
       "      <th>title_match</th>\n",
       "      <th>total_views</th>\n",
       "      <th>aggregated_page_ids</th>\n",
       "      <th>url_pageviews</th>\n",
       "      <th>views_percentile</th>\n",
       "      <th>rn</th>\n",
       "    </tr>\n",
       "  </thead>\n",
       "  <tbody>\n",
       "    <tr>\n",
       "      <th>0</th>\n",
       "      <td>99115</td>\n",
       "      <td>Norge</td>\n",
       "      <td>https://no.wikipedia.org/wiki/Norge</td>\n",
       "      <td>15019</td>\n",
       "      <td>1003</td>\n",
       "      <td>0</td>\n",
       "      <td></td>\n",
       "      <td>318</td>\n",
       "      <td>207</td>\n",
       "      <td>2024-09-26 11:38:44</td>\n",
       "      <td>\\n\\n\\n\\nNorge, offisielt Kongeriket Norge, er ...</td>\n",
       "      <td>norge</td>\n",
       "      <td>266626.0</td>\n",
       "      <td>[null, 728],[728]</td>\n",
       "      <td>https://no.wikipedia.org/w/index.php?curid=99115</td>\n",
       "      <td>0.000000</td>\n",
       "      <td>1</td>\n",
       "    </tr>\n",
       "    <tr>\n",
       "      <th>1</th>\n",
       "      <td>190116</td>\n",
       "      <td>Facebook</td>\n",
       "      <td>https://no.wikipedia.org/wiki/Facebook</td>\n",
       "      <td>892</td>\n",
       "      <td>35</td>\n",
       "      <td>0</td>\n",
       "      <td></td>\n",
       "      <td>32</td>\n",
       "      <td>38</td>\n",
       "      <td>2024-03-14 22:45:28</td>\n",
       "      <td>\\n\\n\\n\\nFacebook () er et sosialt nettverk som...</td>\n",
       "      <td>facebook</td>\n",
       "      <td>224285.0</td>\n",
       "      <td>[289714],[null, 289714]</td>\n",
       "      <td>https://no.wikipedia.org/w/index.php?curid=190116</td>\n",
       "      <td>0.000007</td>\n",
       "      <td>1</td>\n",
       "    </tr>\n",
       "    <tr>\n",
       "      <th>2</th>\n",
       "      <td>241256</td>\n",
       "      <td>NAV</td>\n",
       "      <td>https://no.wikipedia.org/wiki/NAV</td>\n",
       "      <td>968</td>\n",
       "      <td>35</td>\n",
       "      <td>0</td>\n",
       "      <td></td>\n",
       "      <td>22</td>\n",
       "      <td>27</td>\n",
       "      <td>2024-09-30 11:49:05</td>\n",
       "      <td>\\n\\n\\n\\n\\nNAV (Arbeids- og velferdsforvaltning...</td>\n",
       "      <td>nav</td>\n",
       "      <td>196957.0</td>\n",
       "      <td>[null, 282978],[150352],[null, 150352]</td>\n",
       "      <td>https://no.wikipedia.org/w/index.php?curid=241256</td>\n",
       "      <td>0.000015</td>\n",
       "      <td>1</td>\n",
       "    </tr>\n",
       "    <tr>\n",
       "      <th>3</th>\n",
       "      <td>30880</td>\n",
       "      <td>Gazastripen</td>\n",
       "      <td>https://no.wikipedia.org/wiki/Gazastripen</td>\n",
       "      <td>2691</td>\n",
       "      <td>136</td>\n",
       "      <td>0</td>\n",
       "      <td></td>\n",
       "      <td>39</td>\n",
       "      <td>51</td>\n",
       "      <td>2024-06-05 15:39:06</td>\n",
       "      <td>\\n\\n\\n\\nGazastripen eller Gazastripa er en sma...</td>\n",
       "      <td>gazastripen</td>\n",
       "      <td>162757.0</td>\n",
       "      <td>[20526],[20526, null],[null, 20526]</td>\n",
       "      <td>https://no.wikipedia.org/w/index.php?curid=30880</td>\n",
       "      <td>0.000030</td>\n",
       "      <td>1</td>\n",
       "    </tr>\n",
       "    <tr>\n",
       "      <th>4</th>\n",
       "      <td>394721</td>\n",
       "      <td>Israel</td>\n",
       "      <td>https://no.wikipedia.org/wiki/Israel</td>\n",
       "      <td>11276</td>\n",
       "      <td>787</td>\n",
       "      <td>0</td>\n",
       "      <td></td>\n",
       "      <td>372</td>\n",
       "      <td>411</td>\n",
       "      <td>2024-07-02 02:36:43</td>\n",
       "      <td>\\n\\n\\n\\n\\nIsrael, offisielt Staten Israel, er ...</td>\n",
       "      <td>israel</td>\n",
       "      <td>161120.0</td>\n",
       "      <td>[435523],[null, 435523]</td>\n",
       "      <td>https://no.wikipedia.org/w/index.php?curid=394721</td>\n",
       "      <td>0.000037</td>\n",
       "      <td>1</td>\n",
       "    </tr>\n",
       "    <tr>\n",
       "      <th>...</th>\n",
       "      <td>...</td>\n",
       "      <td>...</td>\n",
       "      <td>...</td>\n",
       "      <td>...</td>\n",
       "      <td>...</td>\n",
       "      <td>...</td>\n",
       "      <td>...</td>\n",
       "      <td>...</td>\n",
       "      <td>...</td>\n",
       "      <td>...</td>\n",
       "      <td>...</td>\n",
       "      <td>...</td>\n",
       "      <td>...</td>\n",
       "      <td>...</td>\n",
       "      <td>...</td>\n",
       "      <td>...</td>\n",
       "      <td>...</td>\n",
       "    </tr>\n",
       "    <tr>\n",
       "      <th>135295</th>\n",
       "      <td>16375</td>\n",
       "      <td>Zimmiellini</td>\n",
       "      <td>https://no.wikipedia.org/wiki/Zimmiellini</td>\n",
       "      <td>442</td>\n",
       "      <td>45</td>\n",
       "      <td>0</td>\n",
       "      <td></td>\n",
       "      <td>7</td>\n",
       "      <td>2</td>\n",
       "      <td>2023-10-18 06:53:44</td>\n",
       "      <td>\\n\\n\\n\\nZimmiellini er en gruppe av snutebille...</td>\n",
       "      <td>zimmiellini</td>\n",
       "      <td>11.0</td>\n",
       "      <td>[2043073]</td>\n",
       "      <td>https://no.wikipedia.org/w/index.php?curid=16375</td>\n",
       "      <td>0.985849</td>\n",
       "      <td>1</td>\n",
       "    </tr>\n",
       "    <tr>\n",
       "      <th>135296</th>\n",
       "      <td>562820</td>\n",
       "      <td>Ærølisten</td>\n",
       "      <td>https://no.wikipedia.org/wiki/Ærølisten</td>\n",
       "      <td>102</td>\n",
       "      <td>6</td>\n",
       "      <td>0</td>\n",
       "      <td></td>\n",
       "      <td>4</td>\n",
       "      <td>0</td>\n",
       "      <td>2023-07-23 17:35:43</td>\n",
       "      <td>\\n\\nÆrølisten er en lokalpolitisk borgerliste ...</td>\n",
       "      <td>ærølisten</td>\n",
       "      <td>11.0</td>\n",
       "      <td>[441871]</td>\n",
       "      <td>https://no.wikipedia.org/w/index.php?curid=562820</td>\n",
       "      <td>0.985849</td>\n",
       "      <td>1</td>\n",
       "    </tr>\n",
       "    <tr>\n",
       "      <th>134338</th>\n",
       "      <td>2700</td>\n",
       "      <td>Gabriole</td>\n",
       "      <td>https://no.wikipedia.org/wiki/Gabriole</td>\n",
       "      <td>50</td>\n",
       "      <td>5</td>\n",
       "      <td>0</td>\n",
       "      <td></td>\n",
       "      <td>4</td>\n",
       "      <td>0</td>\n",
       "      <td>2023-11-22 18:37:22</td>\n",
       "      <td>Gabriole er et musikkalbum med Fliflet/Hamre u...</td>\n",
       "      <td>gabriole</td>\n",
       "      <td>11.0</td>\n",
       "      <td>[778685]</td>\n",
       "      <td>https://no.wikipedia.org/w/index.php?curid=2700</td>\n",
       "      <td>0.985849</td>\n",
       "      <td>1</td>\n",
       "    </tr>\n",
       "    <tr>\n",
       "      <th>135285</th>\n",
       "      <td>549755</td>\n",
       "      <td>Utvälinge</td>\n",
       "      <td>https://no.wikipedia.org/wiki/Utvälinge</td>\n",
       "      <td>206</td>\n",
       "      <td>11</td>\n",
       "      <td>0</td>\n",
       "      <td></td>\n",
       "      <td>4</td>\n",
       "      <td>2</td>\n",
       "      <td>2022-07-31 04:33:49</td>\n",
       "      <td>\\nUtvälinge er et tettsted i Helsingborg kommu...</td>\n",
       "      <td>utvälinge</td>\n",
       "      <td>11.0</td>\n",
       "      <td>[470720]</td>\n",
       "      <td>https://no.wikipedia.org/w/index.php?curid=549755</td>\n",
       "      <td>0.985849</td>\n",
       "      <td>1</td>\n",
       "    </tr>\n",
       "    <tr>\n",
       "      <th>135297</th>\n",
       "      <td>3003</td>\n",
       "      <td>Örnahusen</td>\n",
       "      <td>https://no.wikipedia.org/wiki/Örnahusen</td>\n",
       "      <td>97</td>\n",
       "      <td>8</td>\n",
       "      <td>0</td>\n",
       "      <td></td>\n",
       "      <td>2</td>\n",
       "      <td>1</td>\n",
       "      <td>2022-07-05 11:36:01</td>\n",
       "      <td>\\nÖrnahusen er et mindre sted i Östra Hoby sog...</td>\n",
       "      <td>örnahusen</td>\n",
       "      <td>11.0</td>\n",
       "      <td>[1391727]</td>\n",
       "      <td>https://no.wikipedia.org/w/index.php?curid=3003</td>\n",
       "      <td>0.985849</td>\n",
       "      <td>1</td>\n",
       "    </tr>\n",
       "  </tbody>\n",
       "</table>\n",
       "<p>135298 rows × 17 columns</p>\n",
       "</div>"
      ],
      "text/plain": [
       "        page_id        title                                        url  \\\n",
       "0         99115        Norge        https://no.wikipedia.org/wiki/Norge   \n",
       "1        190116     Facebook     https://no.wikipedia.org/wiki/Facebook   \n",
       "2        241256          NAV          https://no.wikipedia.org/wiki/NAV   \n",
       "3         30880  Gazastripen  https://no.wikipedia.org/wiki/Gazastripen   \n",
       "4        394721       Israel       https://no.wikipedia.org/wiki/Israel   \n",
       "...         ...          ...                                        ...   \n",
       "135295    16375  Zimmiellini  https://no.wikipedia.org/wiki/Zimmiellini   \n",
       "135296   562820    Ærølisten    https://no.wikipedia.org/wiki/Ærølisten   \n",
       "134338     2700     Gabriole     https://no.wikipedia.org/wiki/Gabriole   \n",
       "135285   549755    Utvälinge    https://no.wikipedia.org/wiki/Utvälinge   \n",
       "135297     3003    Örnahusen    https://no.wikipedia.org/wiki/Örnahusen   \n",
       "\n",
       "        word_count  outlink_count  category_count categories  template_count  \\\n",
       "0            15019           1003               0                        318   \n",
       "1              892             35               0                         32   \n",
       "2              968             35               0                         22   \n",
       "3             2691            136               0                         39   \n",
       "4            11276            787               0                        372   \n",
       "...            ...            ...             ...        ...             ...   \n",
       "135295         442             45               0                          7   \n",
       "135296         102              6               0                          4   \n",
       "134338          50              5               0                          4   \n",
       "135285         206             11               0                          4   \n",
       "135297          97              8               0                          2   \n",
       "\n",
       "        external_link_count       last_modified  \\\n",
       "0                       207 2024-09-26 11:38:44   \n",
       "1                        38 2024-03-14 22:45:28   \n",
       "2                        27 2024-09-30 11:49:05   \n",
       "3                        51 2024-06-05 15:39:06   \n",
       "4                       411 2024-07-02 02:36:43   \n",
       "...                     ...                 ...   \n",
       "135295                    2 2023-10-18 06:53:44   \n",
       "135296                    0 2023-07-23 17:35:43   \n",
       "134338                    0 2023-11-22 18:37:22   \n",
       "135285                    2 2022-07-31 04:33:49   \n",
       "135297                    1 2022-07-05 11:36:01   \n",
       "\n",
       "                                           processed_text  title_match  \\\n",
       "0       \\n\\n\\n\\nNorge, offisielt Kongeriket Norge, er ...        norge   \n",
       "1       \\n\\n\\n\\nFacebook () er et sosialt nettverk som...     facebook   \n",
       "2       \\n\\n\\n\\n\\nNAV (Arbeids- og velferdsforvaltning...          nav   \n",
       "3       \\n\\n\\n\\nGazastripen eller Gazastripa er en sma...  gazastripen   \n",
       "4       \\n\\n\\n\\n\\nIsrael, offisielt Staten Israel, er ...       israel   \n",
       "...                                                   ...          ...   \n",
       "135295  \\n\\n\\n\\nZimmiellini er en gruppe av snutebille...  zimmiellini   \n",
       "135296  \\n\\nÆrølisten er en lokalpolitisk borgerliste ...    ærølisten   \n",
       "134338  Gabriole er et musikkalbum med Fliflet/Hamre u...     gabriole   \n",
       "135285  \\nUtvälinge er et tettsted i Helsingborg kommu...    utvälinge   \n",
       "135297  \\nÖrnahusen er et mindre sted i Östra Hoby sog...    örnahusen   \n",
       "\n",
       "        total_views                     aggregated_page_ids  \\\n",
       "0          266626.0                       [null, 728],[728]   \n",
       "1          224285.0                 [289714],[null, 289714]   \n",
       "2          196957.0  [null, 282978],[150352],[null, 150352]   \n",
       "3          162757.0     [20526],[20526, null],[null, 20526]   \n",
       "4          161120.0                 [435523],[null, 435523]   \n",
       "...             ...                                     ...   \n",
       "135295         11.0                               [2043073]   \n",
       "135296         11.0                                [441871]   \n",
       "134338         11.0                                [778685]   \n",
       "135285         11.0                                [470720]   \n",
       "135297         11.0                               [1391727]   \n",
       "\n",
       "                                            url_pageviews  views_percentile  \\\n",
       "0        https://no.wikipedia.org/w/index.php?curid=99115          0.000000   \n",
       "1       https://no.wikipedia.org/w/index.php?curid=190116          0.000007   \n",
       "2       https://no.wikipedia.org/w/index.php?curid=241256          0.000015   \n",
       "3        https://no.wikipedia.org/w/index.php?curid=30880          0.000030   \n",
       "4       https://no.wikipedia.org/w/index.php?curid=394721          0.000037   \n",
       "...                                                   ...               ...   \n",
       "135295   https://no.wikipedia.org/w/index.php?curid=16375          0.985849   \n",
       "135296  https://no.wikipedia.org/w/index.php?curid=562820          0.985849   \n",
       "134338    https://no.wikipedia.org/w/index.php?curid=2700          0.985849   \n",
       "135285  https://no.wikipedia.org/w/index.php?curid=549755          0.985849   \n",
       "135297    https://no.wikipedia.org/w/index.php?curid=3003          0.985849   \n",
       "\n",
       "        rn  \n",
       "0        1  \n",
       "1        1  \n",
       "2        1  \n",
       "3        1  \n",
       "4        1  \n",
       "...     ..  \n",
       "135295   1  \n",
       "135296   1  \n",
       "134338   1  \n",
       "135285   1  \n",
       "135297   1  \n",
       "\n",
       "[135298 rows x 17 columns]"
      ]
     },
     "execution_count": 20,
     "metadata": {},
     "output_type": "execute_result"
    }
   ],
   "source": [
    "df_merged = df_merged.sort_values(by=\"total_views\", ascending=False)\n",
    "\n",
    "df_merged"
   ]
  },
  {
   "cell_type": "markdown",
   "metadata": {},
   "source": [
    "### In the case of the norwegian wiki, I think the best filtering is to simply use the total views... \n",
    "\n",
    "It seems to be a decent proxy for the quality of the article.   \n",
    "The text chunk splitter then discards completely meaningless chunks.. \n",
    "\n",
    "Basically just choose the number of articles you want to embed, and order by total views.   "
   ]
  },
  {
   "cell_type": "code",
   "execution_count": 21,
   "metadata": {},
   "outputs": [],
   "source": [
    "n_articles_to_keep = 60_000\n",
    "\n",
    "df_filtered = df_merged.head(n_articles_to_keep)\n",
    "\n",
    "\n"
   ]
  },
  {
   "cell_type": "markdown",
   "metadata": {},
   "source": [
    "## Now chunk to analyze how embedding goes"
   ]
  },
  {
   "cell_type": "code",
   "execution_count": 22,
   "metadata": {},
   "outputs": [
    {
     "name": "stderr",
     "output_type": "stream",
     "text": [
      "/Users/einar/git/hafsteinn/together_rag/notebooks/wikipedia_embeddings/../../src/vectordb/chunk_utils.py:31: MarkupResemblesLocatorWarning:\n",
      "\n",
      "The input looks more like a filename than markup. You may want to open this file and pass the filehandle into Beautiful Soup.\n",
      "\n"
     ]
    },
    {
     "data": {
      "text/html": [
       "<div>\n",
       "<style scoped>\n",
       "    .dataframe tbody tr th:only-of-type {\n",
       "        vertical-align: middle;\n",
       "    }\n",
       "\n",
       "    .dataframe tbody tr th {\n",
       "        vertical-align: top;\n",
       "    }\n",
       "\n",
       "    .dataframe thead th {\n",
       "        text-align: right;\n",
       "    }\n",
       "</style>\n",
       "<table border=\"1\" class=\"dataframe\">\n",
       "  <thead>\n",
       "    <tr style=\"text-align: right;\">\n",
       "      <th></th>\n",
       "      <th>page_id</th>\n",
       "      <th>title</th>\n",
       "      <th>url</th>\n",
       "      <th>word_count</th>\n",
       "      <th>outlink_count</th>\n",
       "      <th>category_count</th>\n",
       "      <th>categories</th>\n",
       "      <th>template_count</th>\n",
       "      <th>external_link_count</th>\n",
       "      <th>last_modified</th>\n",
       "      <th>processed_text</th>\n",
       "      <th>title_match</th>\n",
       "      <th>total_views</th>\n",
       "      <th>aggregated_page_ids</th>\n",
       "      <th>url_pageviews</th>\n",
       "      <th>views_percentile</th>\n",
       "      <th>rn</th>\n",
       "      <th>split_text</th>\n",
       "      <th>n_chunks</th>\n",
       "      <th>n_words_per_chunk</th>\n",
       "    </tr>\n",
       "  </thead>\n",
       "  <tbody>\n",
       "    <tr>\n",
       "      <th>157</th>\n",
       "      <td>197991</td>\n",
       "      <td>Holocaust</td>\n",
       "      <td>https://no.wikipedia.org/wiki/Holocaust</td>\n",
       "      <td>33655</td>\n",
       "      <td>1076</td>\n",
       "      <td>0</td>\n",
       "      <td></td>\n",
       "      <td>279</td>\n",
       "      <td>180</td>\n",
       "      <td>2024-09-14 00:03:52</td>\n",
       "      <td>\\n:Artikkelen handler om forsøket på å utrydde jødene under andre verdenskrig. For grunnbetydningen, se brennoffer. ...</td>\n",
       "      <td>holocaust</td>\n",
       "      <td>29538.0</td>\n",
       "      <td>[5796, null]</td>\n",
       "      <td>https://no.wikipedia.org/w/index.php?curid=197991</td>\n",
       "      <td>0.001166</td>\n",
       "      <td>1</td>\n",
       "      <td>[:Artikkelen handler om forsøket på å utrydde jødene under andre verdenskrig. For grunnbetydningen, se brennoffer. F...</td>\n",
       "      <td>244</td>\n",
       "      <td>[92, 100, 158, 182, 150, 199, 133, 87, 152, 178, 172, 198, 83, 211, 110, 207, 129, 177, 171, 86, 218, 96, 135, 96, 1...</td>\n",
       "    </tr>\n",
       "    <tr>\n",
       "      <th>13</th>\n",
       "      <td>216895</td>\n",
       "      <td>Bergen</td>\n",
       "      <td>https://no.wikipedia.org/wiki/Bergen</td>\n",
       "      <td>21940</td>\n",
       "      <td>2063</td>\n",
       "      <td>0</td>\n",
       "      <td></td>\n",
       "      <td>466</td>\n",
       "      <td>140</td>\n",
       "      <td>2024-09-23 19:46:22</td>\n",
       "      <td>\\n\\nBergen er en by og kommune i Vestland og et tidligere fylke (til 1972) på Norges vestkyst, omgitt av «De syv fje...</td>\n",
       "      <td>bergen</td>\n",
       "      <td>84850.0</td>\n",
       "      <td>[null, 95],[95]</td>\n",
       "      <td>https://no.wikipedia.org/w/index.php?curid=216895</td>\n",
       "      <td>0.000103</td>\n",
       "      <td>1</td>\n",
       "      <td>[Bergen er en by og kommune i Vestland og et tidligere fylke (til 1972) på Norges vestkyst, omgitt av «De syv fjell»...</td>\n",
       "      <td>154</td>\n",
       "      <td>[182, 158, 75, 209, 162, 100, 190, 96, 160, 86, 192, 86, 202, 55, 102, 210, 97, 190, 189, 157, 151, 176, 186, 145, 1...</td>\n",
       "    </tr>\n",
       "  </tbody>\n",
       "</table>\n",
       "</div>"
      ],
      "text/plain": [
       "     page_id      title                                      url  word_count  \\\n",
       "157   197991  Holocaust  https://no.wikipedia.org/wiki/Holocaust       33655   \n",
       "13    216895     Bergen     https://no.wikipedia.org/wiki/Bergen       21940   \n",
       "\n",
       "     outlink_count  category_count categories  template_count  \\\n",
       "157           1076               0                        279   \n",
       "13            2063               0                        466   \n",
       "\n",
       "     external_link_count       last_modified  \\\n",
       "157                  180 2024-09-14 00:03:52   \n",
       "13                   140 2024-09-23 19:46:22   \n",
       "\n",
       "                                                                                                              processed_text  \\\n",
       "157  \\n:Artikkelen handler om forsøket på å utrydde jødene under andre verdenskrig. For grunnbetydningen, se brennoffer. ...   \n",
       "13   \\n\\nBergen er en by og kommune i Vestland og et tidligere fylke (til 1972) på Norges vestkyst, omgitt av «De syv fje...   \n",
       "\n",
       "    title_match  total_views aggregated_page_ids  \\\n",
       "157   holocaust      29538.0        [5796, null]   \n",
       "13       bergen      84850.0     [null, 95],[95]   \n",
       "\n",
       "                                         url_pageviews  views_percentile  rn  \\\n",
       "157  https://no.wikipedia.org/w/index.php?curid=197991          0.001166   1   \n",
       "13   https://no.wikipedia.org/w/index.php?curid=216895          0.000103   1   \n",
       "\n",
       "                                                                                                                  split_text  \\\n",
       "157  [:Artikkelen handler om forsøket på å utrydde jødene under andre verdenskrig. For grunnbetydningen, se brennoffer. F...   \n",
       "13   [Bergen er en by og kommune i Vestland og et tidligere fylke (til 1972) på Norges vestkyst, omgitt av «De syv fjell»...   \n",
       "\n",
       "     n_chunks  \\\n",
       "157       244   \n",
       "13        154   \n",
       "\n",
       "                                                                                                           n_words_per_chunk  \n",
       "157  [92, 100, 158, 182, 150, 199, 133, 87, 152, 178, 172, 198, 83, 211, 110, 207, 129, 177, 171, 86, 218, 96, 135, 96, 1...  \n",
       "13   [182, 158, 75, 209, 162, 100, 190, 96, 160, 86, 192, 86, 202, 55, 102, 210, 97, 190, 189, 157, 151, 176, 186, 145, 1...  "
      ]
     },
     "execution_count": 22,
     "metadata": {},
     "output_type": "execute_result"
    }
   ],
   "source": [
    "import sys\n",
    "import importlib\n",
    "sys.path.append(\"../../src\")\n",
    "\n",
    "from vectordb import chunk_utils\n",
    "importlib.reload(chunk_utils)\n",
    "\n",
    "pd.set_option(\"display.max_colwidth\", 120)\n",
    "pd.set_option(\"display.max_columns\", 50)\n",
    "\n",
    "df = df_filtered.copy()\n",
    "\n",
    "df[\"split_text\"] = df[\"processed_text\"].apply(\n",
    "    lambda x: chunk_utils.split_text(\n",
    "        x,\n",
    "        chunk_size=1250,\n",
    "        chunk_overlap=100,\n",
    "        discard_chunk_n_words_cutoff=12,  # discard chunks with less than 10 words\n",
    "        clean_whitespace=True,\n",
    "        clean_html=True,\n",
    "        min_words_per_chunk=45,\n",
    "    )\n",
    ")\n",
    "\n",
    "df[\"n_chunks\"] = df[\"split_text\"].apply(lambda x: len(x))\n",
    "df[\"n_words_per_chunk\"] = df[\"split_text\"].apply(\n",
    "    lambda x: [len(chunk.split()) for chunk in x]\n",
    ")\n",
    "\n",
    "df = df.sort_values(\"n_chunks\", ascending=False)\n",
    "\n",
    "df.head(2)"
   ]
  },
  {
   "cell_type": "code",
   "execution_count": 23,
   "metadata": {},
   "outputs": [
    {
     "name": "stdout",
     "output_type": "stream",
     "text": [
      "mean:  140.5655737704918\n",
      "max:  238\n",
      "min:  46\n",
      "median:  144.0\n",
      "std:  43.46837699341073\n"
     ]
    }
   ],
   "source": [
    "\"\"\"\n",
    "Info about the number of word per chunk\n",
    "for the article with the most chunks\n",
    "\"\"\"\n",
    "\n",
    "import math\n",
    "import numpy as np\n",
    "\n",
    "c = df.iloc[0].n_words_per_chunk\n",
    "\n",
    "# print some stats about c\n",
    "print(\"mean: \", sum(c) / len(c))\n",
    "print(\"max: \", max(c))\n",
    "print(\"min: \", min(c))\n",
    "print(\"median: \", np.median(c))\n",
    "print(\"std: \", math.sqrt(sum((x - sum(c) / len(c)) ** 2 for x in c) / len(c)))"
   ]
  },
  {
   "cell_type": "code",
   "execution_count": 24,
   "metadata": {},
   "outputs": [
    {
     "name": "stdout",
     "output_type": "stream",
     "text": [
      "behov for å beskytte lokalbefolkningen mot hordene som i propaganda og i rykter ble fremstilt som farlige (mord, voldtekt og ran ble nevnt). Etter at fangene hadde forlatt leirene hadde i SS lenger full kontroll slik at vanlige soldater (fra Wehrmacht), lokalt politi, Hitlerjugend og særlig Volkssturm deltok i massakrer på de marsjerende.\n",
      "['behov', 'for', 'å', 'beskytte', 'lokalbefolkningen', 'mot', 'hordene', 'som', 'i', 'propaganda', 'og', 'i', 'rykter', 'ble', 'fremstilt', 'som', 'farlige', '(mord,', 'voldtekt', 'og', 'ran', 'ble', 'nevnt).', 'Etter', 'at', 'fangene', 'hadde', 'forlatt', 'leirene', 'hadde', 'i', 'SS', 'lenger', 'full', 'kontroll', 'slik', 'at', 'vanlige', 'soldater', '(fra', 'Wehrmacht),', 'lokalt', 'politi,', 'Hitlerjugend', 'og', 'særlig', 'Volkssturm', 'deltok', 'i', 'massakrer', 'på', 'de', 'marsjerende.']\n",
      "51\n",
      "---\n"
     ]
    }
   ],
   "source": [
    "\"\"\"\n",
    "Check the smallest chunks for the article with the most chunks\n",
    "\"\"\"\n",
    "\n",
    "for i, chunk in enumerate(df.split_text.iloc[0]):\n",
    "    if len(chunk.strip().split()) < 63:\n",
    "        print(chunk)\n",
    "        print(chunk.strip().split())\n",
    "        print(i)\n",
    "        print(\"---\")\n",
    "\n",
    "        break"
   ]
  },
  {
   "cell_type": "code",
   "execution_count": 28,
   "metadata": {},
   "outputs": [
    {
     "name": "stdout",
     "output_type": "stream",
     "text": [
      "Total number of chunks: 215,835\n"
     ]
    }
   ],
   "source": [
    "print(f\"Total number of chunks: {df.n_chunks.sum():,}\")"
   ]
  },
  {
   "cell_type": "code",
   "execution_count": 27,
   "metadata": {},
   "outputs": [
    {
     "name": "stdout",
     "output_type": "stream",
     "text": [
      "total number of words: 30,575,700\n",
      "Estimated n token in M tokens: 41.28\n",
      "Estimated cost for small embeddings: 0.33 USD\n",
      "Estimated cost for large embeddings: 0.66 USD\n"
     ]
    }
   ],
   "source": [
    "# the n_words_per_chunk is a list of numbers\n",
    "\n",
    "n_words_total = sum(df.n_words_per_chunk.sum())\n",
    "\n",
    "n_tokens_estimated = n_words_total * 1.35\n",
    "\n",
    "n_tokens_M = n_tokens_estimated / 1_000_000\n",
    "\n",
    "openai_small_embed_price = 0.008  # per M tokens\n",
    "openai_large_embed_price = 0.016  # per M tokens\n",
    "\n",
    "print(f\"total number of words: {n_words_total:,}\")\n",
    "\n",
    "print(f\"Estimated n token in M tokens: {n_tokens_M:.2f}\")\n",
    "print(f\"Estimated cost for small embeddings: {n_tokens_M * openai_small_embed_price:.2f} USD\")\n",
    "print(f\"Estimated cost for large embeddings: {n_tokens_M * openai_large_embed_price:.2f} USD\")\n"
   ]
  },
  {
   "cell_type": "markdown",
   "metadata": {},
   "source": [
    "**Basically the price to embed should be negligible, the price might be dominated by the vector db instead?**\n",
    "\n"
   ]
  },
  {
   "cell_type": "code",
   "execution_count": 30,
   "metadata": {},
   "outputs": [
    {
     "name": "stdout",
     "output_type": "stream",
     "text": [
      "392 491 30\n",
      "Dagsavisen\n",
      "* 1884: 300\n",
      "* 1892: 1 200\n",
      "* 1894: 3 000\n",
      "* 1904: 6 000\n",
      "* 1912: 15 000\n",
      "* 1914: 23 000\n",
      "* 1918: 40 000\n",
      "* 1921: 85 000\n",
      "* 1923: 35 000\n",
      "* 1927: 27 000\n",
      "* 1930: 34 000\n",
      "* 1934: 48 000\n",
      "* 1937: 59 359\n",
      "* 1938: 58 735\n",
      "* 1939: 58 681\n",
      "* 1945: 80 000\n",
      "* 1947: 56 877\n",
      "* 1950: 62 845\n",
      "* 1951: 64 228\n",
      "* 1952: 65 635\n",
      "* 1953: 64 524\n",
      "* 1954: 65 159\n",
      "* 1955: 65 201\n",
      "* 1956: 70 087\n",
      "* 1957: 71 299\n",
      "* 1958: 68 112\n",
      "* 1959: 66 271\n",
      "* 1960: 67 494\n",
      "* 1961: 67 684\n",
      "* 1962: 67 894\n",
      "* 1963: 69 182\n",
      "* 1964: 67 254\n",
      "* 1965: 68 278\n",
      "* 1966: 67 675\n",
      "* 1967: 70 714\n",
      "* 1968: 71 267\n",
      "* 1969: 74 091\n",
      "* 1970: 73 217\n",
      "* 1971: 75 372\n",
      "* 1972: 69 159\n",
      "* 1973: 64 155\n",
      "* 1974: 61 931\n",
      "* 1975: 62 211\n",
      "* 1976: 60 380\n",
      "* 1977: 60 152\n",
      "* 1978: 60 091\n",
      "* 1979: 59 211\n",
      "* 1980: 55 125\n",
      "* 1981: 52 596\n",
      "* 1982: 52 000\n",
      "* 1983: 52 500\n",
      "* 1984: 56 000\n",
      "* 1985: 57 000\n",
      "* 1986: 58 000\n",
      "* 1987: 60 737\n",
      "* 1988: 57 015\n",
      "* 1989: 55 707\n",
      "* 1990: 51 786\n",
      "* 1991: 47 016\n",
      "* 1992: 44 046\n",
      "* 1993: 43 528\n",
      "* 1994: 42 848\n",
      "* 1995: 42 870\n",
      "* 1996: 42 139\n",
      "* 1997: 40 771\n",
      "* 1998: 43 792\n",
      "* 1999: 40 349\n",
      "* 2000: 38 239\n",
      "* 2001: 35 413\n",
      "* 2002: 33 816\n",
      "* 2003: 32 706\n",
      "* 2004: 32 920\n",
      "* 2005: 33 830\n",
      "* 2006: 32 380\n",
      "* 2007: 31 403\n",
      "* 2008: 29 041\n",
      "* 2009: 28 337\n",
      "* 2010: 26 019\n",
      "* 2011: 24 524\n",
      "* 2012: 23 303\n",
      "* 2013: 23 065\n",
      "* 2014: 21 945\n",
      "* 2015: 20 497 * 2010: 26 019\n",
      "* 2011: 24 524\n",
      "* 2012: 23 303\n",
      "* 2013: 23 065\n",
      "* 2014: 21 945\n",
      "* 2015: 20 497\n",
      "* 2016: 20 440\n",
      "* 2017: 18 684 ImageSize  = width:auto height:500 barincrement:11\n",
      "PlotArea = left:50 bottom:15 top:10 right:20\n",
      "AlignBars  = late\n",
      "DateFormat = yyyy\n",
      "Period = from:0 till:76000\n",
      "TimeAxis = orientation:vertical\n",
      "ScaleMajor = unit:year increment:5000 start:0\n"
     ]
    }
   ],
   "source": [
    "\"\"\"\n",
    "Find the largest chunk\n",
    "\"\"\"\n",
    "\n",
    "max_words = 0\n",
    "max_i = 0\n",
    "max_j = 0\n",
    "\n",
    "\n",
    "for i, n_words_per_chunk in enumerate(df.n_words_per_chunk):\n",
    "    for j, n_words in enumerate(n_words_per_chunk):\n",
    "        if n_words > max_words:\n",
    "            max_words = n_words\n",
    "            max_i = i\n",
    "            max_j = j\n",
    "\n",
    "print(max_words, max_i, max_j)\n",
    "\n",
    "print(df.iloc[max_i].title)\n",
    "print(df.iloc[max_i].split_text[max_j])\n"
   ]
  },
  {
   "cell_type": "code",
   "execution_count": null,
   "metadata": {},
   "outputs": [],
   "source": [
    "\n",
    "\n",
    "\n",
    "\n",
    "\n",
    "\n",
    "\n",
    "\n",
    "\n",
    "\n",
    "\n",
    "\n",
    "\n",
    "\n",
    "\n",
    "\n",
    "\n",
    "\n",
    "\n",
    "\n",
    "\n",
    "\n",
    "\n"
   ]
  }
 ],
 "metadata": {
  "kernelspec": {
   "display_name": "venv",
   "language": "python",
   "name": "python3"
  },
  "language_info": {
   "codemirror_mode": {
    "name": "ipython",
    "version": 3
   },
   "file_extension": ".py",
   "mimetype": "text/x-python",
   "name": "python",
   "nbconvert_exporter": "python",
   "pygments_lexer": "ipython3",
   "version": "3.10.14"
  }
 },
 "nbformat": 4,
 "nbformat_minor": 2
}
