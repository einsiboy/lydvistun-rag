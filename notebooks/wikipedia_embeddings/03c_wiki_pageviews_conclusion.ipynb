{
 "cells": [
  {
   "cell_type": "markdown",
   "metadata": {},
   "source": [
    "# Pageviews as a proxy for importance\n",
    "\n",
    "After looking int ways to estimate the importance of wikipedia pages, it seems that pageviews is the best proxy for importance.  \n",
    "\n",
    "Getting the pageviews data is not as straightforward as I thought it would be.  \n",
    "However, after much digging I found two main ways to get the data. \n",
    " - Data dumps:\n",
    "    - https://dumps.wikimedia.org/other/pageview_complete/\n",
    "        - Need to use the monthly files, and preferably at least a year into the past...\n",
    " - API:\n",
    "    - https://wikimedia.org/api/rest_v1/#/Pageviews_data/get_metrics_pageviews\n",
    "    - https://doc.wikimedia.org/generated-data-platform/aqs/analytics-api/documentation/getting-started.html\n",
    "\n",
    "The downside of the pageviews in general is that it favors older pages.  \n",
    "We may want to do something like x amount of pageviews total for the last year or two + new pages (if we can get that data).\n",
    "Or last edited date. \n",
    "\n",
    "API is probably straight forward, can specify range (e.g. 2 years), so no manual work to combine monthly files.  \n",
    "However for millions of pages this will still take a lot of time, and we need ways to rate limit.  \n",
    "\n",
    "To get started quickly, the data dump is much faster for me. \n",
    "\n",
    "\n",
    "\n"
   ]
  },
  {
   "cell_type": "code",
   "execution_count": 1,
   "metadata": {},
   "outputs": [
    {
     "name": "stdout",
     "output_type": "stream",
     "text": [
      "4.25 GB\n"
     ]
    }
   ],
   "source": [
    "n_bytes = 4565344237\n",
    "\n",
    "print(f\"{n_bytes / 1024 / 1024 / 1024:.2f} GB\")"
   ]
  }
 ],
 "metadata": {
  "kernelspec": {
   "display_name": "venv",
   "language": "python",
   "name": "python3"
  },
  "language_info": {
   "codemirror_mode": {
    "name": "ipython",
    "version": 3
   },
   "file_extension": ".py",
   "mimetype": "text/x-python",
   "name": "python",
   "nbconvert_exporter": "python",
   "pygments_lexer": "ipython3",
   "version": "3.10.14"
  }
 },
 "nbformat": 4,
 "nbformat_minor": 2
}
