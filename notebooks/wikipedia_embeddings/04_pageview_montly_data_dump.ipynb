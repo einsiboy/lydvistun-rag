{
 "cells": [
  {
   "cell_type": "code",
   "execution_count": null,
   "metadata": {},
   "outputs": [],
   "source": [
    "import datetime\n",
    "import os\n",
    "\n",
    "DATADIR = os.path.abspath(\"../../data/wikipedia_meta/\")\n",
    "\n",
    "# example url: https://dumps.wikimedia.org/other/pageview_complete/monthly/2024/2024-08/pageviews-202408-user.bz2\n",
    "template_url = \"https://dumps.wikimedia.org/other/pageview_complete/monthly/{year}/{year}-{month}/pageviews-{year}{month}-user.bz2\"\n",
    "\n",
    "print(\"DATADIR:\", DATADIR)\n",
    "assert os.path.exists(DATADIR)\n",
    "\n",
    "\n",
    "def get_urls(from_year, from_month, to_year=None, to_month=None):\n",
    "    urls = []\n",
    "\n",
    "    if to_year is None:\n",
    "        to_year = datetime.datetime.now().year\n",
    "    if to_month is None:\n",
    "        to_month = datetime.datetime.now().month - 1\n",
    "\n",
    "    for year in range(from_year, to_year + 1):\n",
    "        if year == from_year:\n",
    "            start_month = from_month\n",
    "        else:\n",
    "            start_month = 1  # Start from January for subsequent years\n",
    "\n",
    "        if year == to_year:\n",
    "            end_month = to_month\n",
    "        else:\n",
    "            end_month = 12  # End at December for previous years\n",
    "\n",
    "        for month in range(start_month, end_month + 1):\n",
    "            month_str = datetime.datetime(year, month, 1).strftime(\"%m\")\n",
    "            urls.append(template_url.format(year=year, month=month_str))\n",
    "\n",
    "    return urls\n",
    "# last_month = datetime.datetime.now().date().month - 1\n",
    "# last_month_str = datetime.datetime(datetime.datetime.now().year, last_month, 1).strftime(\"%m\")\n",
    "\n",
    "urls = get_urls(from_year=2023, from_month=9)\n",
    "\n",
    "urls"
   ]
  },
  {
   "cell_type": "markdown",
   "metadata": {},
   "source": [
    "```\n",
    "['https://dumps.wikimedia.org/other/pageview_complete/monthly/2023/2023-09/pageviews-202309-user.bz2',\n",
    " 'https://dumps.wikimedia.org/other/pageview_complete/monthly/2023/2023-10/pageviews-202310-user.bz2',\n",
    " 'https://dumps.wikimedia.org/other/pageview_complete/monthly/2023/2023-11/pageviews-202311-user.bz2',\n",
    " 'https://dumps.wikimedia.org/other/pageview_complete/monthly/2023/2023-12/pageviews-202312-user.bz2',\n",
    " 'https://dumps.wikimedia.org/other/pageview_complete/monthly/2024/2024-01/pageviews-202401-user.bz2',\n",
    " 'https://dumps.wikimedia.org/other/pageview_complete/monthly/2024/2024-02/pageviews-202402-user.bz2',\n",
    " 'https://dumps.wikimedia.org/other/pageview_complete/monthly/2024/2024-03/pageviews-202403-user.bz2',\n",
    " 'https://dumps.wikimedia.org/other/pageview_complete/monthly/2024/2024-04/pageviews-202404-user.bz2',\n",
    " 'https://dumps.wikimedia.org/other/pageview_complete/monthly/2024/2024-05/pageviews-202405-user.bz2',\n",
    " 'https://dumps.wikimedia.org/other/pageview_complete/monthly/2024/2024-06/pageviews-202406-user.bz2',\n",
    " 'https://dumps.wikimedia.org/other/pageview_complete/monthly/2024/2024-07/pageviews-202407-user.bz2',\n",
    " 'https://dumps.wikimedia.org/other/pageview_complete/monthly/2024/2024-08/pageviews-202408-user.bz2']\n",
    "```"
   ]
  },
  {
   "cell_type": "code",
   "execution_count": null,
   "metadata": {},
   "outputs": [],
   "source": [
    "len(urls)"
   ]
  },
  {
   "cell_type": "markdown",
   "metadata": {},
   "source": [
    "## About the coice for the date range\n",
    "\n",
    "I decided to use just 1 year, each month is around 4.5 GB in compressed size.  \n",
    "So, the thinking is that if nobody at all has visited the site in 1 year, we assume the article is not relevant. \n",
    "\n",
    "We will then probably have different filters based on language.  \n",
    "\n"
   ]
  },
  {
   "cell_type": "code",
   "execution_count": null,
   "metadata": {},
   "outputs": [],
   "source": [
    "# now download all the files\n",
    "for url in urls:\n",
    "    print(\"Downloading\", url)\n",
    "    os.system(f\"wget {url} -P {DATADIR}\")\n"
   ]
  },
  {
   "cell_type": "code",
   "execution_count": null,
   "metadata": {},
   "outputs": [],
   "source": []
  },
  {
   "cell_type": "code",
   "execution_count": null,
   "metadata": {},
   "outputs": [],
   "source": [
    "\n",
    "\n",
    "\n",
    "\n",
    "\n",
    "\n",
    "\n",
    "\n",
    "\n",
    "\n",
    "\n",
    "\n",
    "\n",
    "\n",
    "\n",
    "\n",
    "\n",
    "\n"
   ]
  }
 ],
 "metadata": {
  "kernelspec": {
   "display_name": "venv",
   "language": "python",
   "name": "python3"
  },
  "language_info": {
   "codemirror_mode": {
    "name": "ipython",
    "version": 3
   },
   "file_extension": ".py",
   "mimetype": "text/x-python",
   "name": "python",
   "nbconvert_exporter": "python",
   "pygments_lexer": "ipython3",
   "version": "3.10.14"
  }
 },
 "nbformat": 4,
 "nbformat_minor": 2
}
