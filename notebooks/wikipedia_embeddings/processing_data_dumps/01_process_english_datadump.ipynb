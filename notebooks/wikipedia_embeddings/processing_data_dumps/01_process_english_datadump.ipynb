{
 "cells": [
  {
   "cell_type": "code",
   "execution_count": null,
   "metadata": {},
   "outputs": [],
   "source": [
    "import pandas as pd\n",
    "\n",
    "import sys\n",
    "sys.path.append(\"../../../src/wikipedia\")\n",
    "\n",
    "from wikipedia_parser import process_wikipedia_dump\n",
    "\n",
    "\n",
    "dump_file = \"../../../data/wikipedia/is/iswiki-20240901-pages-articles.xml\"\n",
    "df = process_wikipedia_dump(dump_file, max_pages=None)\n",
    "df.to_parquet(\"iswiki.processed_datadump.parquet\")\n"
   ]
  },
  {
   "cell_type": "code",
   "execution_count": 3,
   "metadata": {},
   "outputs": [
    {
     "data": {
      "text/plain": [
       "105.2"
      ]
     },
     "execution_count": 3,
     "metadata": {},
     "output_type": "execute_result"
    }
   ],
   "source": [
    "icelandic_compression_ratio = 263 / 55\n",
    "\n",
    "english_estimated_uncompressed_size = 22 * icelandic_compression_ratio\n",
    "\n",
    "english_estimated_uncompressed_size  # in GB\n"
   ]
  },
  {
   "cell_type": "code",
   "execution_count": 4,
   "metadata": {},
   "outputs": [
    {
     "data": {
      "text/plain": [
       "49.376558603491276"
      ]
     },
     "execution_count": 4,
     "metadata": {},
     "output_type": "execute_result"
    }
   ],
   "source": [
    "compression_ratio_no = 1800 / 802 \n",
    "\n",
    "english_estimated_uncompressed_size = 22 * compression_ratio_no\n",
    "\n",
    "english_estimated_uncompressed_size  # in GB"
   ]
  },
  {
   "cell_type": "code",
   "execution_count": 6,
   "metadata": {},
   "outputs": [
    {
     "data": {
      "text/plain": [
       "227.83018867924528"
      ]
     },
     "execution_count": 6,
     "metadata": {},
     "output_type": "execute_result"
    }
   ],
   "source": [
    "# time for english wiki estimate\n",
    "\n",
    "norwegian_time_mins = 21\n",
    "norwegian_n_articles = 636_000\n",
    "\n",
    "english_articles = 6_900_000\n",
    "\n",
    "english_time_mins = norwegian_time_mins * english_articles / norwegian_n_articles\n",
    "english_time_mins"
   ]
  },
  {
   "cell_type": "code",
   "execution_count": 7,
   "metadata": {},
   "outputs": [
    {
     "data": {
      "text/plain": [
       "3.797169811320755"
      ]
     },
     "execution_count": 7,
     "metadata": {},
     "output_type": "execute_result"
    }
   ],
   "source": [
    "english_time_hours = english_time_mins / 60\n",
    "english_time_hours\n"
   ]
  }
 ],
 "metadata": {
  "kernelspec": {
   "display_name": "venv",
   "language": "python",
   "name": "python3"
  },
  "language_info": {
   "codemirror_mode": {
    "name": "ipython",
    "version": 3
   },
   "file_extension": ".py",
   "mimetype": "text/x-python",
   "name": "python",
   "nbconvert_exporter": "python",
   "pygments_lexer": "ipython3",
   "version": "3.10.14"
  }
 },
 "nbformat": 4,
 "nbformat_minor": 2
}
