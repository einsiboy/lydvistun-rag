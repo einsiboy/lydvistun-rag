{
 "cells": [
  {
   "cell_type": "markdown",
   "metadata": {},
   "source": [
    "# Offical data dumps\n",
    "\n",
    "Wikipedia has an official data dump site: https://dumps.wikimedia.org/\n",
    "\n",
    "A mirror site for e.g. the latest septemper data dump for the Icelandic wikipedia is:  \n",
    "https://mirror.accum.se/mirror/wikimedia.org/dumps/iswiki/20240901/\n",
    "\n",
    "Look for the file: \t\n",
    "- basic data dump: iswiki-20240901-pages-articles.xml.bz2 \n",
    "- with metadata: iswiki-20240901-pages-meta-current.xml.bz2\n",
    "- with multistream: \n",
    "    - iswiki-20240901-pages-articles-multistream.xml.bz2\n",
    "    - iswiki-20240901-pages-articles-multistream-index.txt.bz2\n",
    "\n",
    "**PageViews data**\n",
    " - https://dumps.wikimedia.org/other/pageview_complete/readme.html\n",
    " - https://dumps.wikimedia.org/other/pageviews/\n",
    "    - some doc: https://meta.wikimedia.org/wiki/Research:Page_view\n",
    " - Also pageviews complete:\n",
    "    https://dumps.wikimedia.org/other/pageview_complete/2024/2024-09/\n",
    "\n",
    "\n",
    "## Previous work by others\n",
    "\n",
    " - https://upstash.com/blog/indexing-wikipedia   \n",
    "    - References:\n",
    "    - https://github.com/earwig/mwparserfromhell\n",
    "    - https://huggingface.co/datasets/wikimedia/wikipedia/blob/script/wikipedia.py\n"
   ]
  }
 ],
 "metadata": {
  "language_info": {
   "name": "python"
  }
 },
 "nbformat": 4,
 "nbformat_minor": 2
}
