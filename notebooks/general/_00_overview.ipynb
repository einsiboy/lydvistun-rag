{
 "cells": [
  {
   "cell_type": "markdown",
   "metadata": {},
   "source": [
    " - **Together AI with pinecone RAG**  \n",
    "https://docs.together.ai/docs/integrations\n",
    "\n",
    " - **Response format example**  \n",
    "https://docs.together.ai/docs/json-mode\n",
    "\n",
    " - **Multilingual embeddings model**\n",
    "https://www.sbert.net/docs/sentence_transformer/pretrained_models.html\n",
    "\n",
    "This essentally just means that the same sentance in different languages  \n",
    "should be encoded to very similar embedding vectors.\n",
    "\n",
    "- **Text splitters?**\n",
    "from llama_index.core.node_parser import SentenceSplitter\n",
    "\n",
    "\n",
    "- **Wikipedia dump parsing**\n",
    "https://github.com/attardi/wikiextractor\n",
    "\n",
    "https://dennisforbes.ca/articles/processing_wikipedia_dumps_with_python.html"
   ]
  },
  {
   "cell_type": "code",
   "execution_count": 5,
   "metadata": {},
   "outputs": [
    {
     "name": "stdout",
     "output_type": "stream",
     "text": [
      "Dimensions: 1024\n",
      "Max vectors: 2,000,000.0\n",
      "Max vectors GB: 488,281\n",
      "--------------------------------\n",
      "Dimensions: 768\n",
      "Max vectors: 2,000,000.0\n",
      "Max vectors GB: 651,042\n",
      "--------------------------------\n",
      "Dimensions: 512\n",
      "Max vectors: 2,000,000.0\n",
      "Max vectors GB: 976,562\n",
      "--------------------------------\n",
      "Dimensions: 384\n",
      "Max vectors: 2,000,000.0\n",
      "Max vectors GB: 1,302,083\n"
     ]
    }
   ],
   "source": [
    "\"\"\"\n",
    "pinecone max vectors free tier\n",
    "\"\"\"\n",
    "\n",
    "n_writes_max = 2e6  # the number of writes\n",
    "n_gb_max = 2        # the max storage in GB\n",
    "\n",
    "\n",
    "def print_max_usage(vector_dimensions):\n",
    "    bytes_per_vector = vector_dimensions * 4\n",
    "\n",
    "    n_vectors_max = n_writes_max\n",
    "    n_vectors_max_gb = n_gb_max / (bytes_per_vector / 1e9)\n",
    "\n",
    "    print(f\"Dimensions: {vector_dimensions}\")\n",
    "    print(f\"Max vectors: {n_vectors_max:,}\")\n",
    "    print(f\"Max vectors GB: {n_vectors_max_gb:,.0f}\")\n",
    "\n",
    "print_max_usage(vector_dimensions=1024)\n",
    "print(\"--------------------------------\")\n",
    "print_max_usage(vector_dimensions=768)\n",
    "print(\"--------------------------------\")\n",
    "print_max_usage(vector_dimensions=512)\n",
    "\n",
    "print(\"--------------------------------\")\n",
    "print_max_usage(vector_dimensions=384)\n",
    "\n"
   ]
  },
  {
   "cell_type": "markdown",
   "metadata": {},
   "source": [
    "Basically the max writes per month will be the limiting factor to start with."
   ]
  }
 ],
 "metadata": {
  "kernelspec": {
   "display_name": "venv",
   "language": "python",
   "name": "python3"
  },
  "language_info": {
   "codemirror_mode": {
    "name": "ipython",
    "version": 3
   },
   "file_extension": ".py",
   "mimetype": "text/x-python",
   "name": "python",
   "nbconvert_exporter": "python",
   "pygments_lexer": "ipython3",
   "version": "3.10.14"
  }
 },
 "nbformat": 4,
 "nbformat_minor": 2
}
