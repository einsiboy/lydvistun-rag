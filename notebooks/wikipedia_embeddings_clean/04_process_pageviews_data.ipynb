{
 "cells": [
  {
   "cell_type": "markdown",
   "metadata": {},
   "source": [
    "# Notebook Goal\n",
    "\n",
    "The goal of this notebook is to process the monthly pageviews data and save it in a parquet file.  \n",
    "\n",
    "Here processing means:\n",
    " - Extracting the data for the wiki codes we are interested in (basically the languages we want to keep)"
   ]
  },
  {
   "cell_type": "markdown",
   "metadata": {},
   "source": [
    "## Processing pageviews data\n",
    "\n",
    " - Open the script `src/wikipedia/process_pageviews.py`\n",
    " - Change these variables at the top of the script:\n",
    "    - DATA_DIR: This is the input dir with the downloaded pageviews data\n",
    "    - OUTPUT_DIR: This is the output dir where the processed data will be saved\n",
    "    - WIKI_CODES_BATCHES: This is essentially a list of languages we want to keep.\n",
    " - Run the script src/wikipedia/process_pageviews.py\n",
    "\n",
    "\n",
    "NOTE: The script takes around 5mins per monthly pageviews file. \n",
    "\n",
    "\n"
   ]
  },
  {
   "cell_type": "code",
   "execution_count": null,
   "metadata": {
    "vscode": {
     "languageId": "plaintext"
    }
   },
   "outputs": [],
   "source": []
  }
 ],
 "metadata": {
  "language_info": {
   "name": "python"
  }
 },
 "nbformat": 4,
 "nbformat_minor": 2
}
