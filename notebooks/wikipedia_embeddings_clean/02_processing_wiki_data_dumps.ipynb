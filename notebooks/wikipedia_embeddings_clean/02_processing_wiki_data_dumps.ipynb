{
 "cells": [
  {
   "cell_type": "markdown",
   "metadata": {},
   "source": [
    "# Notebook Goal\n",
    "\n",
    " - Process the wiki data dump to a structured format\n",
    " - Discard obvious junk articles (such as redirect pages)\n",
    "\n"
   ]
  },
  {
   "cell_type": "markdown",
   "metadata": {},
   "source": [
    "### Output format - duckdb\n",
    "\n",
    "We use as duckdb database, simply because for languages such as English the data is too large to fit into memory. \n",
    "\n",
    "Structure of database:\n",
    "```sql\n",
    "CREATE TABLE IF NOT EXISTS articles (\n",
    "    page_id INTEGER,\n",
    "    title TEXT,\n",
    "    url TEXT,\n",
    "    word_count INTEGER,\n",
    "    outlink_count INTEGER,\n",
    "    category_count INTEGER,\n",
    "    categories TEXT,\n",
    "    template_count INTEGER,\n",
    "    external_link_count INTEGER,\n",
    "    last_modified TIMESTAMP,\n",
    "    processed_text TEXT\n",
    ")\n",
    "```"
   ]
  },
  {
   "cell_type": "markdown",
   "metadata": {},
   "source": [
    "## Process a single wiki dump\n",
    "\n",
    "Note that each single dump contains two files, example:\n",
    " - `enwiki-20241001-pages-articles-multistream.xml.bz2`: Contains the actual wiki articles\n",
    " - `enwiki-20241001-pages-articles-multistream-index.txt.bz2`: Contains the offsets of the articles in the xml file.\n",
    "\n",
    "\n",
    "- Open the script `src/wikipedia/multiprocess_large_wiki_dump.py`\n",
    "- Change the following variables:\n",
    "    - DATA_DIR: The output directory for the processed data\n",
    "    - DUMP_FILE: The path to the wiki dump file\n",
    "    - INDEX_FILE: The path to the wiki index file\n"
   ]
  },
  {
   "cell_type": "code",
   "execution_count": null,
   "metadata": {},
   "outputs": [],
   "source": [
    "\n",
    "\n",
    "\n",
    "\n",
    "\n",
    "\n",
    "\n",
    "\n",
    "\n",
    "\n",
    "\n",
    "\n",
    "\n",
    "\n",
    "\n",
    "\n",
    "\n",
    "\n",
    "\n"
   ]
  }
 ],
 "metadata": {
  "kernelspec": {
   "display_name": "venv",
   "language": "python",
   "name": "python3"
  },
  "language_info": {
   "name": "python",
   "version": "3.10.14"
  }
 },
 "nbformat": 4,
 "nbformat_minor": 2
}
