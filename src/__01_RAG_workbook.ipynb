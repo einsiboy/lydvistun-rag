{
 "cells": [
  {
   "cell_type": "markdown",
   "metadata": {},
   "source": [
    "## RAG with pinecone and together\n",
    "\n"
   ]
  },
  {
   "cell_type": "code",
   "execution_count": 11,
   "metadata": {},
   "outputs": [
    {
     "data": {
      "text/plain": [
       "{'question': 'Hvernig myndast íshellar?',\n",
       " 'answer': ResponseWithCitation(response='Íshellar geta myndast þar sem jökulvatn rennur undan jökulsporði í vatnsmiklum rásum.', source_ids=['404a056ce7600da20a865ead4615066a#0'], highlighted_response=[]),\n",
       " 'chunks': [Chunk(id='3ef3b3728c6a43d7b26554a62c39daf9#0', language='is', pinecone_index_name='is_index', pinecone_namespace='visindavefur', chunk_text='Hlusta', chunk_index=0, source_title='náttúruvísindi og verkfræðiHver eru elstu handrit að Frumþáttum Evklíðs og hefur verkið varðveist í heild sinni í upprunalegri mynd?', source_url='/svar.php?id=86729', vector=None),\n",
       "  Chunk(id='404a056ce7600da20a865ead4615066a#0', language='is', pinecone_index_name='is_index', pinecone_namespace='visindavefur', chunk_text='Hlusta\\n\\n\\tÍshellar geta myndast þar sem jökulvatn rennur undan jökulsporði í vatnsmiklum rásum. Á meginjöklinum hripar leysingarvatn í ótal taumum niður á botn en safnast þar í fáa farvegi. Núningsvarminn í vatnsrásunum bræðir stöðugt ísveggina og við það stækka hvelfingar. Ísfargið á  þunnum sporðinum nær ekki að pressa saman göngin og þegar leysingartíma lýkur, og vatn hverfur úr göngunum, geta þau staðið opin langt fram á vetur. Þegar leysing hefst á ný að vori taka göngin aftur að vaxa.', chunk_index=0, source_title='náttúruvísindi og verkfræðiHvernig myndast íshellar?', source_url='/svar.php?id=10301', vector=None),\n",
       "  Chunk(id='686d9626fabb96c537be118bfb961bad#0', language='is', pinecone_index_name='is_index', pinecone_namespace='visindavefur', chunk_text='Hlusta', chunk_index=0, source_title='náttúruvísindi og verkfræðiHver var Leó Kristjánsson og hvert var framlag hans til bergsegulmælinga?', source_url='/svar.php?id=74926', vector=None),\n",
       "  Chunk(id='890eff0745ec7073990ad1f552b234dc#0', language='is', pinecone_index_name='is_index', pinecone_namespace='visindavefur', chunk_text='Hlusta', chunk_index=0, source_title='náttúruvísindi og verkfræðiHver var Trausti Einarsson og hvert var framlag hans til jarðvísinda?', source_url='/svar.php?id=86628', vector=None),\n",
       "  Chunk(id='966155fca1708b2edf37ec3c07c612f0#0', language='is', pinecone_index_name='is_index', pinecone_namespace='visindavefur', chunk_text='Hlusta', chunk_index=0, source_title='náttúruvísindi og verkfræðiHvað eru hungurdiskar og hvernig myndast þeir?', source_url='/svar.php?id=74851', vector=None)]}"
      ]
     },
     "execution_count": 11,
     "metadata": {},
     "output_type": "execute_result"
    }
   ],
   "source": [
    "from rag import rag_engine\n",
    "from importlib import reload\n",
    "\n",
    "reload(rag_engine)\n",
    "\n",
    "query = \"Hvernig myndast íshellar?\"\n",
    "language = \"icelandic\"\n",
    "namespace = \"visindavefur\"\n",
    "\n",
    "rag = rag_engine.RAGEngine()\n",
    "\n",
    "result = rag.query(query, language, namespace)\n",
    "result"
   ]
  },
  {
   "cell_type": "code",
   "execution_count": 15,
   "metadata": {},
   "outputs": [
    {
     "data": {
      "text/plain": [
       "{'response': 'Íshellar geta myndast þar sem jökulvatn rennur undan jökulsporði í vatnsmiklum rásum.',\n",
       " 'source_ids': ['404a056ce7600da20a865ead4615066a#0'],\n",
       " 'highlighted_response': []}"
      ]
     },
     "execution_count": 15,
     "metadata": {},
     "output_type": "execute_result"
    }
   ],
   "source": [
    "result[\"answer\"].__dict__"
   ]
  },
  {
   "cell_type": "code",
   "execution_count": 21,
   "metadata": {},
   "outputs": [
    {
     "name": "stdout",
     "output_type": "stream",
     "text": [
      "----------------------------------------------------------------------------------------------------\n",
      "source title: náttúruvísindi og verkfræðiHvernig myndast íshellar?\n",
      "--\n",
      "Hlusta\n",
      "\n",
      "\tÍshellar geta myndast þar sem jökulvatn rennur undan jökulsporði í vatnsmiklum rásum. Á meginjöklinum hripar leysingarvatn í ótal taumum niður á botn en safnast þar í fáa farvegi. Núningsvarminn í vatnsrásunum bræðir stöðugt ísveggina og við það stækka hvelfingar. Ísfargið á  þunnum sporðinum nær ekki að pressa saman göngin og þegar leysingartíma lýkur, og vatn hverfur úr göngunum, geta þau staðið opin langt fram á vetur. Þegar leysing hefst á ný að vori taka göngin aftur að vaxa.\n",
      "\n",
      "\n",
      "\n"
     ]
    }
   ],
   "source": [
    "sources_used = result[\"answer\"].source_ids\n",
    "chunks_used = [c for c in result[\"chunks\"] if c.id in sources_used]\n",
    "\n",
    "for chunk in chunks_used:\n",
    "    print(\"-\" * 100)\n",
    "    print(f\"source title: {chunk.source_title}\")\n",
    "    print(\"--\")\n",
    "    print(chunk.chunk_text)\n",
    "    print(\"\\n\\n\")"
   ]
  },
  {
   "cell_type": "markdown",
   "metadata": {},
   "source": [
    "## What chunks were considered for the answer?"
   ]
  },
  {
   "cell_type": "code",
   "execution_count": 22,
   "metadata": {},
   "outputs": [
    {
     "name": "stdout",
     "output_type": "stream",
     "text": [
      "----------------------------------------------------------------------------------------------------\n",
      "source title: náttúruvísindi og verkfræðiHver eru elstu handrit að Frumþáttum Evklíðs og hefur verkið varðveist í heild sinni í upprunalegri mynd?\n",
      "Hlusta\n",
      "\n",
      "\n",
      "\n",
      "\n",
      "\n",
      "\n",
      "----------------------------------------------------------------------------------------------------\n",
      "source title: náttúruvísindi og verkfræðiHvernig myndast íshellar?\n",
      "Hlusta\n",
      "\n",
      "\tÍshellar geta myndast þar sem jökulvatn rennur undan jökulsporði í vatnsmiklum rásum. Á meginjöklinum hripar leysingarvatn í ótal taumum niður á botn en safnast þar í fáa farvegi. Núningsvarminn í vatnsrásunum bræðir stöðugt ísveggina og við það stækka hvelfingar. Ísfargið á  þunnum sporðinum nær ekki að pressa saman göngin og þegar leysingartíma lýkur, og vatn hverfur úr göngunum, geta þau staðið opin langt fram á vetur. Þegar leysing hefst á ný að vori taka göngin aftur að vaxa.\n",
      "\n",
      "\n",
      "\n",
      "\n",
      "\n",
      "\n",
      "----------------------------------------------------------------------------------------------------\n",
      "source title: náttúruvísindi og verkfræðiHver var Leó Kristjánsson og hvert var framlag hans til bergsegulmælinga?\n",
      "Hlusta\n",
      "\n",
      "\n",
      "\n",
      "\n",
      "\n",
      "\n",
      "----------------------------------------------------------------------------------------------------\n",
      "source title: náttúruvísindi og verkfræðiHver var Trausti Einarsson og hvert var framlag hans til jarðvísinda?\n",
      "Hlusta\n",
      "\n",
      "\n",
      "\n",
      "\n",
      "\n",
      "\n",
      "----------------------------------------------------------------------------------------------------\n",
      "source title: náttúruvísindi og verkfræðiHvað eru hungurdiskar og hvernig myndast þeir?\n",
      "Hlusta\n",
      "\n",
      "\n",
      "\n",
      "\n",
      "\n",
      "\n"
     ]
    }
   ],
   "source": [
    "for chunk in result[\"chunks\"]:\n",
    "    print(\"-\" * 100)\n",
    "    print(f\"source title: {chunk.source_title}\")\n",
    "    print(chunk.chunk_text)\n",
    "    print(\"\\n\\n\")\n",
    "    print(\"\\n\\n\")"
   ]
  },
  {
   "cell_type": "code",
   "execution_count": null,
   "metadata": {},
   "outputs": [],
   "source": []
  }
 ],
 "metadata": {
  "kernelspec": {
   "display_name": "venv",
   "language": "python",
   "name": "python3"
  },
  "language_info": {
   "codemirror_mode": {
    "name": "ipython",
    "version": 3
   },
   "file_extension": ".py",
   "mimetype": "text/x-python",
   "name": "python",
   "nbconvert_exporter": "python",
   "pygments_lexer": "ipython3",
   "version": "3.10.14"
  }
 },
 "nbformat": 4,
 "nbformat_minor": 2
}
