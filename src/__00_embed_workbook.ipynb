{
 "cells": [
  {
   "cell_type": "code",
   "execution_count": null,
   "metadata": {},
   "outputs": [],
   "source": []
  },
  {
   "cell_type": "code",
   "execution_count": 1,
   "metadata": {},
   "outputs": [
    {
     "name": "stderr",
     "output_type": "stream",
     "text": [
      "/Users/einar/git/hafsteinn/together_rag/venv/lib/python3.10/site-packages/pinecone/data/index.py:1: TqdmWarning: IProgress not found. Please update jupyter and ipywidgets. See https://ipywidgets.readthedocs.io/en/stable/user_install.html\n",
      "  from tqdm.autonotebook import tqdm\n"
     ]
    },
    {
     "data": {
      "text/plain": [
       "dict_keys(['name', 'url', 'main_text'])"
      ]
     },
     "execution_count": 1,
     "metadata": {},
     "output_type": "execute_result"
    }
   ],
   "source": [
    "import json\n",
    "from langchain.text_splitter import RecursiveCharacterTextSplitter\n",
    "import vectordb.chunk_utils as chunk_utils\n",
    "from vectordb import load_test_data\n",
    "from vectordb.embedding.embedder import Embedder\n",
    "\n",
    "\n",
    "file_path = \"../data/visindavefur_articles.json\"\n",
    "\n",
    "with open(file_path, \"r\", encoding=\"utf-8\") as f:\n",
    "    data = json.load(f)\n",
    "\n",
    "data[0].keys()"
   ]
  },
  {
   "cell_type": "code",
   "execution_count": 2,
   "metadata": {},
   "outputs": [
    {
     "name": "stdout",
     "output_type": "stream",
     "text": [
      "5\n"
     ]
    },
    {
     "data": {
      "text/plain": [
       "Chunk(id='eae4f489711a23e5590be365474900a1#0', language='is', pinecone_index_name='is_index', pinecone_namespace='visindavefur', chunk_text='Hlusta\\n\\n\\tÖll spurningin hljóðaði svona: \\n\\n  Í hvaða hæð frá jörðu er vindhraði mældur? Skiptir máli í hvaða hæð hann er mældur?\\n\\n\\nVindhraði er að jafnaði mældur í 10 metra hæð yfir jörðu og er það í samræmi við reglur \\nAlþjóðaveðurfræðistofnunar\\n Sameinuðu þjóðanna. Það kostar töluvert að koma vindhraðamæli upp í 10 metra hæð og þess vegna mæla margir vindinn nær jörðu. Algengt er til dæmis að vindhraðamælar Vegagerðarinnar séu í 6-7 metra hæð yfir umhverfi mælisins.', chunk_index=0, source_title='náttúruvísindi og verkfræðiÍ hvaða hæð frá jörðu er vindhraði mældur?', source_url='/svar.php?id=78415', vector=None)"
      ]
     },
     "execution_count": 2,
     "metadata": {},
     "output_type": "execute_result"
    }
   ],
   "source": [
    "chunks = []\n",
    "\n",
    "for i, article in enumerate(data):\n",
    "    article_chunks = chunk_utils.create_chunks(\n",
    "        text=article[\"main_text\"],\n",
    "        language=\"is\",\n",
    "        pinecone_index_name=\"is_index\",\n",
    "        pinecone_namespace=\"visindavefur\",\n",
    "        source_title=article[\"name\"],\n",
    "        source_url=article[\"url\"],\n",
    "        chunk_size=500,\n",
    "        chunk_overlap=150,\n",
    "    )\n",
    "    chunks.extend(article_chunks)\n",
    "print(len(chunks))\n",
    "chunks[0]"
   ]
  },
  {
   "cell_type": "markdown",
   "metadata": {},
   "source": [
    "## Now embed the chunks\n"
   ]
  },
  {
   "cell_type": "code",
   "execution_count": 3,
   "metadata": {},
   "outputs": [],
   "source": [
    "chunk_texts = [chunk.chunk_text for chunk in chunks]\n",
    "embedder = Embedder()\n",
    "chunk_vectors = embedder.embed(chunk_texts)\n",
    "\n",
    "for i, chunk in enumerate(chunks):\n",
    "    chunk.vector = chunk_vectors[i]"
   ]
  },
  {
   "cell_type": "markdown",
   "metadata": {},
   "source": [
    "## Now insert the chunks into the sqlite db"
   ]
  },
  {
   "cell_type": "code",
   "execution_count": 14,
   "metadata": {},
   "outputs": [],
   "source": [
    "import datastore\n",
    "\n",
    "datastore.delete_chunks([chunk.id for chunk in chunks])\n",
    "datastore.insert_chunks(chunks)"
   ]
  },
  {
   "cell_type": "markdown",
   "metadata": {},
   "source": [
    "## now insert the chunks into pinecone"
   ]
  },
  {
   "cell_type": "code",
   "execution_count": 9,
   "metadata": {},
   "outputs": [
    {
     "name": "stdout",
     "output_type": "stream",
     "text": [
      "Index en-index already exists\n",
      "Index is-index already exists\n"
     ]
    }
   ],
   "source": [
    "import vectordb.pinecone_interface as pinecone_interface\n",
    "from importlib import reload\n",
    "\n",
    "reload(pinecone_interface)\n",
    "\n",
    "pinecone_interface.create_indices()\n",
    "\n",
    "pinecone_interface.insert_vectors(chunks, \"is-index\", \"visindavefur\")"
   ]
  },
  {
   "cell_type": "code",
   "execution_count": 10,
   "metadata": {},
   "outputs": [
    {
     "name": "stdout",
     "output_type": "stream",
     "text": [
      "20\n",
      "5\n"
     ]
    }
   ],
   "source": [
    "print(len(data))\n",
    "print(len(chunks))"
   ]
  },
  {
   "cell_type": "code",
   "execution_count": null,
   "metadata": {},
   "outputs": [],
   "source": []
  }
 ],
 "metadata": {
  "kernelspec": {
   "display_name": "venv",
   "language": "python",
   "name": "python3"
  },
  "language_info": {
   "codemirror_mode": {
    "name": "ipython",
    "version": 3
   },
   "file_extension": ".py",
   "mimetype": "text/x-python",
   "name": "python",
   "nbconvert_exporter": "python",
   "pygments_lexer": "ipython3",
   "version": "3.10.14"
  }
 },
 "nbformat": 4,
 "nbformat_minor": 2
}
